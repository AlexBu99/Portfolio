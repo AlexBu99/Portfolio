{
 "cells": [
  {
   "cell_type": "markdown",
   "metadata": {},
   "source": [
    "# Определение стоимости автомобилей"
   ]
  },
  {
   "cell_type": "markdown",
   "metadata": {},
   "source": [
    "Сервис по продаже автомобилей с пробегом «Не бит, не крашен» разрабатывает приложение для привлечения новых клиентов. В нём можно быстро узнать рыночную стоимость своего автомобиля. В вашем распоряжении исторические данные: технические характеристики, комплектации и цены автомобилей. Нужно построить модель для определения стоимости. \n",
    "\n",
    "Заказчику важны:\n",
    "\n",
    "- качество предсказания;\n",
    "- скорость предсказания;\n",
    "- время обучения.\n",
    "\n",
    "Признаки\n",
    "- DateCrawled — дата скачивания анкеты из базы\n",
    "- VehicleType — тип автомобильного кузова\n",
    "- RegistrationYear — год регистрации автомобиля\n",
    "- Gearbox — тип коробки передач\n",
    "- Power — мощность (л. с.)\n",
    "- Model — модель автомобиля\n",
    "- Kilometer — пробег (км)\n",
    "- RegistrationMonth — месяц регистрации автомобиля\n",
    "- FuelType — тип топлива\n",
    "- Brand — марка автомобиля\n",
    "- Repaired — была машина в ремонте или нет\n",
    "- DateCreated — дата создания анкеты\n",
    "- NumberOfPictures — количество фотографий автомобиля\n",
    "- PostalCode — почтовый индекс владельца анкеты (пользователя)\n",
    "- LastSeen — дата последней активности пользователя"
   ]
  },
  {
   "cell_type": "markdown",
   "metadata": {},
   "source": [
    "## Подготовка данных"
   ]
  },
  {
   "cell_type": "markdown",
   "metadata": {},
   "source": [
    "Прежде чем рабодать с данными, импортируем необходимые инструменты."
   ]
  },
  {
   "cell_type": "code",
   "execution_count": 1,
   "metadata": {},
   "outputs": [
    {
     "name": "stdout",
     "output_type": "stream",
     "text": [
      "Collecting optuna\n",
      "  Downloading optuna-3.6.1-py3-none-any.whl (380 kB)\n",
      "\u001b[K     |████████████████████████████████| 380 kB 2.4 MB/s eta 0:00:01\n",
      "\u001b[?25hRequirement already satisfied: alembic>=1.5.0 in /opt/conda/lib/python3.9/site-packages (from optuna) (1.6.5)\n",
      "Requirement already satisfied: PyYAML in /opt/conda/lib/python3.9/site-packages (from optuna) (6.0)\n",
      "Requirement already satisfied: packaging>=20.0 in /opt/conda/lib/python3.9/site-packages (from optuna) (21.3)\n",
      "Requirement already satisfied: numpy in /opt/conda/lib/python3.9/site-packages (from optuna) (1.21.1)\n",
      "Requirement already satisfied: sqlalchemy>=1.3.0 in /opt/conda/lib/python3.9/site-packages (from optuna) (1.4.20)\n",
      "Requirement already satisfied: tqdm in /opt/conda/lib/python3.9/site-packages (from optuna) (4.61.2)\n",
      "Collecting colorlog\n",
      "  Downloading colorlog-6.8.2-py3-none-any.whl (11 kB)\n",
      "Requirement already satisfied: python-dateutil in /opt/conda/lib/python3.9/site-packages (from alembic>=1.5.0->optuna) (2.8.1)\n",
      "Requirement already satisfied: Mako in /opt/conda/lib/python3.9/site-packages (from alembic>=1.5.0->optuna) (1.1.4)\n",
      "Requirement already satisfied: python-editor>=0.3 in /opt/conda/lib/python3.9/site-packages (from alembic>=1.5.0->optuna) (1.0.4)\n",
      "Requirement already satisfied: pyparsing!=3.0.5,>=2.0.2 in /opt/conda/lib/python3.9/site-packages (from packaging>=20.0->optuna) (2.4.7)\n",
      "Requirement already satisfied: greenlet!=0.4.17 in /opt/conda/lib/python3.9/site-packages (from sqlalchemy>=1.3.0->optuna) (1.1.0)\n",
      "Requirement already satisfied: MarkupSafe>=0.9.2 in /opt/conda/lib/python3.9/site-packages (from Mako->alembic>=1.5.0->optuna) (2.1.1)\n",
      "Requirement already satisfied: six>=1.5 in /opt/conda/lib/python3.9/site-packages (from python-dateutil->alembic>=1.5.0->optuna) (1.16.0)\n",
      "Installing collected packages: colorlog, optuna\n",
      "Successfully installed colorlog-6.8.2 optuna-3.6.1\n",
      "Collecting category_encoders\n",
      "  Downloading category_encoders-2.6.3-py2.py3-none-any.whl (81 kB)\n",
      "\u001b[K     |████████████████████████████████| 81 kB 1.0 MB/s eta 0:00:011\n",
      "\u001b[?25hRequirement already satisfied: scikit-learn>=0.20.0 in /opt/conda/lib/python3.9/site-packages (from category_encoders) (1.5.0)\n",
      "Requirement already satisfied: patsy>=0.5.1 in /opt/conda/lib/python3.9/site-packages (from category_encoders) (0.5.2)\n",
      "Requirement already satisfied: pandas>=1.0.5 in /opt/conda/lib/python3.9/site-packages (from category_encoders) (1.2.4)\n",
      "Requirement already satisfied: statsmodels>=0.9.0 in /opt/conda/lib/python3.9/site-packages (from category_encoders) (0.13.2)\n",
      "Requirement already satisfied: numpy>=1.14.0 in /opt/conda/lib/python3.9/site-packages (from category_encoders) (1.21.1)\n",
      "Requirement already satisfied: scipy>=1.0.0 in /opt/conda/lib/python3.9/site-packages (from category_encoders) (1.9.1)\n",
      "Requirement already satisfied: python-dateutil>=2.7.3 in /opt/conda/lib/python3.9/site-packages (from pandas>=1.0.5->category_encoders) (2.8.1)\n",
      "Requirement already satisfied: pytz>=2017.3 in /opt/conda/lib/python3.9/site-packages (from pandas>=1.0.5->category_encoders) (2021.1)\n",
      "Requirement already satisfied: six in /opt/conda/lib/python3.9/site-packages (from patsy>=0.5.1->category_encoders) (1.16.0)\n",
      "Requirement already satisfied: threadpoolctl>=3.1.0 in /opt/conda/lib/python3.9/site-packages (from scikit-learn>=0.20.0->category_encoders) (3.1.0)\n",
      "Requirement already satisfied: joblib>=1.2.0 in /opt/conda/lib/python3.9/site-packages (from scikit-learn>=0.20.0->category_encoders) (1.4.2)\n",
      "Requirement already satisfied: packaging>=21.3 in /opt/conda/lib/python3.9/site-packages (from statsmodels>=0.9.0->category_encoders) (21.3)\n",
      "Requirement already satisfied: pyparsing!=3.0.5,>=2.0.2 in /opt/conda/lib/python3.9/site-packages (from packaging>=21.3->statsmodels>=0.9.0->category_encoders) (2.4.7)\n",
      "Installing collected packages: category-encoders\n",
      "Successfully installed category-encoders-2.6.3\n"
     ]
    }
   ],
   "source": [
    "!pip install scikit-learn -U -q\n",
    "\n",
    "\n",
    "import pandas as pd\n",
    "import numpy as np\n",
    "import seaborn as sns\n",
    "import warnings\n",
    "\n",
    "from matplotlib import pyplot as plt\n",
    "\n",
    "from sklearn.pipeline import Pipeline\n",
    "\n",
    "from sklearn.compose import ColumnTransformer\n",
    "\n",
    "from sklearn.tree import DecisionTreeRegressor\n",
    "\n",
    "from sklearn.linear_model import LinearRegression\n",
    "\n",
    "from sklearn.preprocessing import (OneHotEncoder,\n",
    "                                  RobustScaler)\n",
    "\n",
    "from sklearn.model_selection import GridSearchCV\n",
    "from sklearn.model_selection import (train_test_split,\n",
    "                                    cross_val_score)\n",
    "\n",
    "from sklearn.metrics import root_mean_squared_error\n",
    "\n",
    "import lightgbm as lgb\n",
    "\n",
    "try:\n",
    "    import phik\n",
    "except ModuleNotFoundError:\n",
    "    !pip install phik -q\n",
    "    import phik\n",
    "\n",
    "try:\n",
    "    import optuna\n",
    "except ModuleNotFoundError:\n",
    "    !pip install optuna\n",
    "    import optuna\n",
    "\n",
    "try:\n",
    "    import category_encoders\n",
    "except ModuleNotFoundError:\n",
    "    !pip install category_encoders\n",
    "    import category_encoders\n",
    "\n",
    "from category_encoders import TargetEncoder\n",
    "        \n",
    "RANDOM_STATE = 42\n",
    "\n",
    "\n",
    "pd.set_option('float_format', '{:,.3f}'.format)\n",
    "pd.set_option('display.max_columns', None)\n",
    "pd.options.mode.chained_assignment = None\n",
    "warnings.filterwarnings(\"ignore\")"
   ]
  },
  {
   "cell_type": "markdown",
   "metadata": {},
   "source": [
    "Выполнив необходиме импорты, загрузим данные и ознакомимся с ними."
   ]
  },
  {
   "cell_type": "code",
   "execution_count": 2,
   "metadata": {},
   "outputs": [],
   "source": [
    "df = pd.read_csv('/datasets/autos.csv',sep=',', decimal='.')"
   ]
  },
  {
   "cell_type": "code",
   "execution_count": 3,
   "metadata": {
    "scrolled": false
   },
   "outputs": [
    {
     "name": "stdout",
     "output_type": "stream",
     "text": [
      "<class 'pandas.core.frame.DataFrame'>\n",
      "RangeIndex: 354369 entries, 0 to 354368\n",
      "Data columns (total 16 columns):\n",
      " #   Column             Non-Null Count   Dtype \n",
      "---  ------             --------------   ----- \n",
      " 0   DateCrawled        354369 non-null  object\n",
      " 1   Price              354369 non-null  int64 \n",
      " 2   VehicleType        316879 non-null  object\n",
      " 3   RegistrationYear   354369 non-null  int64 \n",
      " 4   Gearbox            334536 non-null  object\n",
      " 5   Power              354369 non-null  int64 \n",
      " 6   Model              334664 non-null  object\n",
      " 7   Kilometer          354369 non-null  int64 \n",
      " 8   RegistrationMonth  354369 non-null  int64 \n",
      " 9   FuelType           321474 non-null  object\n",
      " 10  Brand              354369 non-null  object\n",
      " 11  Repaired           283215 non-null  object\n",
      " 12  DateCreated        354369 non-null  object\n",
      " 13  NumberOfPictures   354369 non-null  int64 \n",
      " 14  PostalCode         354369 non-null  int64 \n",
      " 15  LastSeen           354369 non-null  object\n",
      "dtypes: int64(7), object(9)\n",
      "memory usage: 43.3+ MB\n"
     ]
    },
    {
     "data": {
      "text/html": [
       "<div>\n",
       "<style scoped>\n",
       "    .dataframe tbody tr th:only-of-type {\n",
       "        vertical-align: middle;\n",
       "    }\n",
       "\n",
       "    .dataframe tbody tr th {\n",
       "        vertical-align: top;\n",
       "    }\n",
       "\n",
       "    .dataframe thead th {\n",
       "        text-align: right;\n",
       "    }\n",
       "</style>\n",
       "<table border=\"1\" class=\"dataframe\">\n",
       "  <thead>\n",
       "    <tr style=\"text-align: right;\">\n",
       "      <th></th>\n",
       "      <th>DateCrawled</th>\n",
       "      <th>Price</th>\n",
       "      <th>VehicleType</th>\n",
       "      <th>RegistrationYear</th>\n",
       "      <th>Gearbox</th>\n",
       "      <th>Power</th>\n",
       "      <th>Model</th>\n",
       "      <th>Kilometer</th>\n",
       "      <th>RegistrationMonth</th>\n",
       "      <th>FuelType</th>\n",
       "      <th>Brand</th>\n",
       "      <th>Repaired</th>\n",
       "      <th>DateCreated</th>\n",
       "      <th>NumberOfPictures</th>\n",
       "      <th>PostalCode</th>\n",
       "      <th>LastSeen</th>\n",
       "    </tr>\n",
       "  </thead>\n",
       "  <tbody>\n",
       "    <tr>\n",
       "      <th>0</th>\n",
       "      <td>2016-03-24 11:52:17</td>\n",
       "      <td>480</td>\n",
       "      <td>NaN</td>\n",
       "      <td>1993</td>\n",
       "      <td>manual</td>\n",
       "      <td>0</td>\n",
       "      <td>golf</td>\n",
       "      <td>150000</td>\n",
       "      <td>0</td>\n",
       "      <td>petrol</td>\n",
       "      <td>volkswagen</td>\n",
       "      <td>NaN</td>\n",
       "      <td>2016-03-24 00:00:00</td>\n",
       "      <td>0</td>\n",
       "      <td>70435</td>\n",
       "      <td>2016-04-07 03:16:57</td>\n",
       "    </tr>\n",
       "    <tr>\n",
       "      <th>1</th>\n",
       "      <td>2016-03-24 10:58:45</td>\n",
       "      <td>18300</td>\n",
       "      <td>coupe</td>\n",
       "      <td>2011</td>\n",
       "      <td>manual</td>\n",
       "      <td>190</td>\n",
       "      <td>NaN</td>\n",
       "      <td>125000</td>\n",
       "      <td>5</td>\n",
       "      <td>gasoline</td>\n",
       "      <td>audi</td>\n",
       "      <td>yes</td>\n",
       "      <td>2016-03-24 00:00:00</td>\n",
       "      <td>0</td>\n",
       "      <td>66954</td>\n",
       "      <td>2016-04-07 01:46:50</td>\n",
       "    </tr>\n",
       "    <tr>\n",
       "      <th>2</th>\n",
       "      <td>2016-03-14 12:52:21</td>\n",
       "      <td>9800</td>\n",
       "      <td>suv</td>\n",
       "      <td>2004</td>\n",
       "      <td>auto</td>\n",
       "      <td>163</td>\n",
       "      <td>grand</td>\n",
       "      <td>125000</td>\n",
       "      <td>8</td>\n",
       "      <td>gasoline</td>\n",
       "      <td>jeep</td>\n",
       "      <td>NaN</td>\n",
       "      <td>2016-03-14 00:00:00</td>\n",
       "      <td>0</td>\n",
       "      <td>90480</td>\n",
       "      <td>2016-04-05 12:47:46</td>\n",
       "    </tr>\n",
       "    <tr>\n",
       "      <th>3</th>\n",
       "      <td>2016-03-17 16:54:04</td>\n",
       "      <td>1500</td>\n",
       "      <td>small</td>\n",
       "      <td>2001</td>\n",
       "      <td>manual</td>\n",
       "      <td>75</td>\n",
       "      <td>golf</td>\n",
       "      <td>150000</td>\n",
       "      <td>6</td>\n",
       "      <td>petrol</td>\n",
       "      <td>volkswagen</td>\n",
       "      <td>no</td>\n",
       "      <td>2016-03-17 00:00:00</td>\n",
       "      <td>0</td>\n",
       "      <td>91074</td>\n",
       "      <td>2016-03-17 17:40:17</td>\n",
       "    </tr>\n",
       "    <tr>\n",
       "      <th>4</th>\n",
       "      <td>2016-03-31 17:25:20</td>\n",
       "      <td>3600</td>\n",
       "      <td>small</td>\n",
       "      <td>2008</td>\n",
       "      <td>manual</td>\n",
       "      <td>69</td>\n",
       "      <td>fabia</td>\n",
       "      <td>90000</td>\n",
       "      <td>7</td>\n",
       "      <td>gasoline</td>\n",
       "      <td>skoda</td>\n",
       "      <td>no</td>\n",
       "      <td>2016-03-31 00:00:00</td>\n",
       "      <td>0</td>\n",
       "      <td>60437</td>\n",
       "      <td>2016-04-06 10:17:21</td>\n",
       "    </tr>\n",
       "  </tbody>\n",
       "</table>\n",
       "</div>"
      ],
      "text/plain": [
       "           DateCrawled  Price VehicleType  RegistrationYear Gearbox  Power  \\\n",
       "0  2016-03-24 11:52:17    480         NaN              1993  manual      0   \n",
       "1  2016-03-24 10:58:45  18300       coupe              2011  manual    190   \n",
       "2  2016-03-14 12:52:21   9800         suv              2004    auto    163   \n",
       "3  2016-03-17 16:54:04   1500       small              2001  manual     75   \n",
       "4  2016-03-31 17:25:20   3600       small              2008  manual     69   \n",
       "\n",
       "   Model  Kilometer  RegistrationMonth  FuelType       Brand Repaired  \\\n",
       "0   golf     150000                  0    petrol  volkswagen      NaN   \n",
       "1    NaN     125000                  5  gasoline        audi      yes   \n",
       "2  grand     125000                  8  gasoline        jeep      NaN   \n",
       "3   golf     150000                  6    petrol  volkswagen       no   \n",
       "4  fabia      90000                  7  gasoline       skoda       no   \n",
       "\n",
       "           DateCreated  NumberOfPictures  PostalCode             LastSeen  \n",
       "0  2016-03-24 00:00:00                 0       70435  2016-04-07 03:16:57  \n",
       "1  2016-03-24 00:00:00                 0       66954  2016-04-07 01:46:50  \n",
       "2  2016-03-14 00:00:00                 0       90480  2016-04-05 12:47:46  \n",
       "3  2016-03-17 00:00:00                 0       91074  2016-03-17 17:40:17  \n",
       "4  2016-03-31 00:00:00                 0       60437  2016-04-06 10:17:21  "
      ]
     },
     "metadata": {},
     "output_type": "display_data"
    }
   ],
   "source": [
    "df.info()\n",
    "display(df.head())"
   ]
  },
  {
   "cell_type": "markdown",
   "metadata": {},
   "source": [
    "Всего в 4х полях присутвуют пропуски, это немгого. Часть парметров не столь важна, а часть бдует заполнять данными на наше усмотрение не очень корректно, поэтмоу от пропусков откажемся."
   ]
  },
  {
   "cell_type": "markdown",
   "metadata": {},
   "source": [
    "Переведем даты в соответсвующий формат и округ до дня."
   ]
  },
  {
   "cell_type": "code",
   "execution_count": 4,
   "metadata": {},
   "outputs": [],
   "source": [
    "df['DateCrawled'] = pd.to_datetime(df['DateCrawled'], format='%Y-%m-%d %H:%M:%S').dt.round('D').dt.year\n",
    "df['DateCreated'] = pd.to_datetime(df['DateCreated'], format='%Y-%m-%d %H:%M:%S').dt.round('D').dt.year\n",
    "df['LastSeen'] = pd.to_datetime(df['LastSeen'], format='%Y-%m-%d %H:%M:%S').dt.round('D').dt.year"
   ]
  },
  {
   "cell_type": "code",
   "execution_count": 5,
   "metadata": {},
   "outputs": [],
   "source": [
    "df = df.dropna()"
   ]
  },
  {
   "cell_type": "markdown",
   "metadata": {},
   "source": [
    "Проверим данные на предмет полных дубликатов."
   ]
  },
  {
   "cell_type": "code",
   "execution_count": 6,
   "metadata": {
    "scrolled": true
   },
   "outputs": [
    {
     "data": {
      "text/plain": [
       "17119"
      ]
     },
     "execution_count": 6,
     "metadata": {},
     "output_type": "execute_result"
    }
   ],
   "source": [
    "df.duplicated().sum()\n"
   ]
  },
  {
   "cell_type": "markdown",
   "metadata": {},
   "source": [
    "Полые дубликаты есть, также откажется от них."
   ]
  },
  {
   "cell_type": "code",
   "execution_count": 7,
   "metadata": {
    "scrolled": true
   },
   "outputs": [
    {
     "data": {
      "text/plain": [
       "0"
      ]
     },
     "execution_count": 7,
     "metadata": {},
     "output_type": "execute_result"
    }
   ],
   "source": [
    "df = df.drop_duplicates()\n",
    "df.duplicated().sum()"
   ]
  },
  {
   "cell_type": "markdown",
   "metadata": {},
   "source": [
    "Мы ознакомились с данными, обработали пропуски и избавились от дубликатов.\n",
    "\n",
    "### Исследовательский анализ данных\n",
    "\n",
    "Изучим данные более подробно. Для некоторых шагов поспользуемся фнукциями. \n",
    "\n",
    "\n",
    "#### Качественные показатели"
   ]
  },
  {
   "cell_type": "code",
   "execution_count": 8,
   "metadata": {},
   "outputs": [],
   "source": [
    "def pie_chart(column, title):\n",
    "    (df[column].value_counts()\n",
    "     .plot(figsize=(7, 7), \n",
    "           kind='pie', \n",
    "           autopct='%1.2f%%',\n",
    "           colors = sns.color_palette('pastel')[0:5],\n",
    "           fontsize=13,\n",
    "          ).set(title = title,\n",
    "                ylabel = ''))\n",
    "plt.show()"
   ]
  },
  {
   "cell_type": "code",
   "execution_count": 9,
   "metadata": {
    "scrolled": false
   },
   "outputs": [
    {
     "data": {
      "image/png": "[encoded data removed]",
      "text/plain": [
       "<Figure size 504x504 with 1 Axes>"
      ]
     },
     "metadata": {},
     "output_type": "display_data"
    }
   ],
   "source": [
    "pie_chart(\n",
    "    'VehicleType',\n",
    "    f'Тип машины'\n",
    ")"
   ]
  },
  {
   "cell_type": "markdown",
   "metadata": {},
   "source": [
    "Практически 3/4 всех автомобилей представлены тремя категориями. А \"других\" всего менее одного процента."
   ]
  },
  {
   "cell_type": "code",
   "execution_count": 10,
   "metadata": {},
   "outputs": [
    {
     "data": {
      "image/png": "[encoded data removed]",
      "text/plain": [
       "<Figure size 504x504 with 1 Axes>"
      ]
     },
     "metadata": {},
     "output_type": "display_data"
    }
   ],
   "source": [
    "pie_chart(\n",
    "    'Gearbox',\n",
    "    f'Тип КПП'\n",
    ")"
   ]
  },
  {
   "cell_type": "markdown",
   "metadata": {},
   "source": [
    "Что интересно ~79.2% от всего машин на механичской коробкой переключения передач."
   ]
  },
  {
   "cell_type": "code",
   "execution_count": 11,
   "metadata": {},
   "outputs": [
    {
     "data": {
      "image/png": "[encoded data removed]",
      "text/plain": [
       "<Figure size 504x504 with 1 Axes>"
      ]
     },
     "metadata": {},
     "output_type": "display_data"
    }
   ],
   "source": [
    "pie_chart(\n",
    "    'FuelType',\n",
    "    f'Тип топлива'\n",
    ")"
   ]
  },
  {
   "cell_type": "markdown",
   "metadata": {},
   "source": [
    "На бензине ездит всего !66% автомобилей из выборки, а еще почти ~32% газифицированы."
   ]
  },
  {
   "cell_type": "code",
   "execution_count": 12,
   "metadata": {},
   "outputs": [
    {
     "data": {
      "image/png": "[encoded data removed]",
      "text/plain": [
       "<Figure size 504x504 with 1 Axes>"
      ]
     },
     "metadata": {},
     "output_type": "display_data"
    }
   ],
   "source": [
    "pie_chart(\n",
    "    'Brand',\n",
    "    f'Марка'\n",
    ")"
   ]
  },
  {
   "cell_type": "markdown",
   "metadata": {},
   "source": [
    "Марок представлено достаточно много. `volkswagen` занимает 21%, а в то время как `opel`, `mercedes`, `audi` занимают сопосотовимые 8-10%, доля даругих марок уже меньше."
   ]
  },
  {
   "cell_type": "code",
   "execution_count": 13,
   "metadata": {},
   "outputs": [
    {
     "data": {
      "image/png": "[encoded data removed]",
      "text/plain": [
       "<Figure size 504x504 with 1 Axes>"
      ]
     },
     "metadata": {},
     "output_type": "display_data"
    }
   ],
   "source": [
    "pie_chart(\n",
    "    'Repaired',\n",
    "    f'Была ли машина в ремонте'\n",
    ")"
   ]
  },
  {
   "cell_type": "markdown",
   "metadata": {},
   "source": [
    "88% автомобилей из выборки действительно не биты и не крашены т.к. в ремонте они не были."
   ]
  },
  {
   "cell_type": "markdown",
   "metadata": {},
   "source": [
    "#### Количественные показатели\n",
    "\n",
    "Пора перейти к количесвтенным показтелям. К ним больше подойдут гистограммы для визулизации и последующего анализа.\n",
    "\n",
    "Как в случае с даиграммами прибегнем к функции для большей читаемости."
   ]
  },
  {
   "cell_type": "code",
   "execution_count": 14,
   "metadata": {},
   "outputs": [],
   "source": [
    "def num_vis(col, xlabel, title):\n",
    "    plt.figure(figsize=(17, 5))\n",
    "    sns.set_theme(palette=\"pastel\")\n",
    "    sns.histplot(\n",
    "        df[col],\n",
    "        bins = 20\n",
    "    ).set(\n",
    "        title = title,\n",
    "        xlabel = xlabel,\n",
    "        ylabel = 'Количество авто')\n",
    "    plt.show()\n",
    "\n",
    "    plt.figure(figsize=(17, 3))\n",
    "    sns.boxplot(\n",
    "        df[col], \n",
    "        orient='h'\n",
    "    ).set(\n",
    "        title = title,\n",
    "        xlabel = xlabel,\n",
    "        )\n",
    "    plt.show()\n",
    "    \n",
    "    display( df[col].describe())"
   ]
  },
  {
   "cell_type": "code",
   "execution_count": 15,
   "metadata": {
    "scrolled": true
   },
   "outputs": [
    {
     "data": {
      "image/png": "[encoded data removed]",
      "text/plain": [
       "<Figure size 1224x360 with 1 Axes>"
      ]
     },
     "metadata": {
      "needs_background": "light"
     },
     "output_type": "display_data"
    },
    {
     "data": {
      "image/png": "[encoded data removed]",
      "text/plain": [
       "<Figure size 1224x216 with 1 Axes>"
      ]
     },
     "metadata": {},
     "output_type": "display_data"
    },
    {
     "data": {
      "text/plain": [
       "count   228,695.000\n",
       "mean      5,095.010\n",
       "std       4,714.172\n",
       "min           0.000\n",
       "25%       1,450.000\n",
       "50%       3,499.000\n",
       "75%       7,490.000\n",
       "max      20,000.000\n",
       "Name: Price, dtype: float64"
      ]
     },
     "metadata": {},
     "output_type": "display_data"
    }
   ],
   "source": [
    "num_vis(\n",
    "    'Price', \n",
    "    'Цена',\n",
    "    f'Цена автомобила Евро'\n",
    ")"
   ]
  },
  {
   "cell_type": "markdown",
   "metadata": {},
   "source": [
    "Некоторое количество выбросов вверх присутвует т.к. допустимы люксовые машины, которых мало. Ну левые цены это непарвильно, врдядли машина раздают беслпатно. Откажемся от занчений ниже 500 доларов."
   ]
  },
  {
   "cell_type": "code",
   "execution_count": 16,
   "metadata": {},
   "outputs": [],
   "source": [
    "df = df.loc[df['Price'] >= 250]"
   ]
  },
  {
   "cell_type": "code",
   "execution_count": 17,
   "metadata": {
    "scrolled": false
   },
   "outputs": [
    {
     "data": {
      "image/png": "[encoded data removed]",
      "text/plain": [
       "<Figure size 1224x360 with 1 Axes>"
      ]
     },
     "metadata": {},
     "output_type": "display_data"
    },
    {
     "data": {
      "image/png": "[encoded data removed]",
      "text/plain": [
       "<Figure size 1224x216 with 1 Axes>"
      ]
     },
     "metadata": {},
     "output_type": "display_data"
    },
    {
     "data": {
      "text/plain": [
       "count   222,760.000\n",
       "mean      2,016.000\n",
       "std           0.000\n",
       "min       2,016.000\n",
       "25%       2,016.000\n",
       "50%       2,016.000\n",
       "75%       2,016.000\n",
       "max       2,016.000\n",
       "Name: DateCrawled, dtype: float64"
      ]
     },
     "metadata": {},
     "output_type": "display_data"
    }
   ],
   "source": [
    "num_vis(\n",
    "    'DateCrawled', \n",
    "    'Дата скачивания анкеты',\n",
    "    f'Дата скачивания анкеты'\n",
    ")"
   ]
  },
  {
   "cell_type": "markdown",
   "metadata": {},
   "source": [
    "Видим, что все анкеты скачены в 2016 году."
   ]
  },
  {
   "cell_type": "code",
   "execution_count": 18,
   "metadata": {
    "scrolled": false
   },
   "outputs": [
    {
     "data": {
      "image/png": "[encoded data removed]",
      "text/plain": [
       "<Figure size 1224x360 with 1 Axes>"
      ]
     },
     "metadata": {},
     "output_type": "display_data"
    },
    {
     "data": {
      "image/png": "[encoded data removed]",
      "text/plain": [
       "<Figure size 1224x216 with 1 Axes>"
      ]
     },
     "metadata": {},
     "output_type": "display_data"
    },
    {
     "data": {
      "text/plain": [
       "count   222,760.000\n",
       "mean      2,002.992\n",
       "std           6.140\n",
       "min       1,923.000\n",
       "25%       1,999.000\n",
       "50%       2,003.000\n",
       "75%       2,007.000\n",
       "max       2,018.000\n",
       "Name: RegistrationYear, dtype: float64"
      ]
     },
     "metadata": {},
     "output_type": "display_data"
    }
   ],
   "source": [
    "num_vis(\n",
    "    'RegistrationYear', \n",
    "    'Год регистрации',\n",
    "    f'Год регистрации'\n",
    ")"
   ]
  },
  {
   "cell_type": "markdown",
   "metadata": {},
   "source": [
    "Графики понятны и закономерны, по годам машины пристувуют от антикварных, до более свежих. Преобладают подерджаные машины из нулевых. Но машины старше 60-х это уже больше похоже на антиквариат, откажемся от них.\n",
    "\n",
    "Также, год скаченивания анкеты 2016, но некотоыре магшины зраегистрированы в 2020. Не только лишь все могут смотерь сегодня в завтрашний день. Верхнюю границу зададим 2016 годом."
   ]
  },
  {
   "cell_type": "code",
   "execution_count": 19,
   "metadata": {},
   "outputs": [],
   "source": [
    "df = df.loc[(df['RegistrationYear'] >= 1960) & ((df['RegistrationYear'] <= 2016))]"
   ]
  },
  {
   "cell_type": "code",
   "execution_count": 20,
   "metadata": {},
   "outputs": [
    {
     "data": {
      "image/png": "[encoded data removed]",
      "text/plain": [
       "<Figure size 1224x360 with 1 Axes>"
      ]
     },
     "metadata": {},
     "output_type": "display_data"
    },
    {
     "data": {
      "image/png": "[encoded data removed]",
      "text/plain": [
       "<Figure size 1224x216 with 1 Axes>"
      ]
     },
     "metadata": {},
     "output_type": "display_data"
    },
    {
     "data": {
      "text/plain": [
       "count   222,674.000\n",
       "mean        120.513\n",
       "std         141.028\n",
       "min           0.000\n",
       "25%          75.000\n",
       "50%         113.000\n",
       "75%         150.000\n",
       "max      20,000.000\n",
       "Name: Power, dtype: float64"
      ]
     },
     "metadata": {},
     "output_type": "display_data"
    }
   ],
   "source": [
    "num_vis(\n",
    "    'Power', \n",
    "    'Лошадиные силы',\n",
    "    f'Мощностьв лошадиных силых'\n",
    ")"
   ]
  },
  {
   "cell_type": "markdown",
   "metadata": {},
   "source": [
    "Настолько мощные в таком количестве выглядят очень сомнительно, откажемся от знаечний  в прелделах 1000 сил. Представив, что есть спортивные/люксовые машины в выборке."
   ]
  },
  {
   "cell_type": "code",
   "execution_count": 21,
   "metadata": {},
   "outputs": [],
   "source": [
    "df = df.loc[df['Power'] <= 1000]"
   ]
  },
  {
   "cell_type": "code",
   "execution_count": 22,
   "metadata": {
    "scrolled": false
   },
   "outputs": [
    {
     "data": {
      "image/png": "[encoded data removed]",
      "text/plain": [
       "<Figure size 1224x360 with 1 Axes>"
      ]
     },
     "metadata": {},
     "output_type": "display_data"
    },
    {
     "data": {
      "image/png": "[encoded data removed]",
      "text/plain": [
       "<Figure size 1224x216 with 1 Axes>"
      ]
     },
     "metadata": {},
     "output_type": "display_data"
    },
    {
     "data": {
      "text/plain": [
       "count   222,558.000\n",
       "mean    127,277.272\n",
       "std      36,975.641\n",
       "min       5,000.000\n",
       "25%     125,000.000\n",
       "50%     150,000.000\n",
       "75%     150,000.000\n",
       "max     150,000.000\n",
       "Name: Kilometer, dtype: float64"
      ]
     },
     "metadata": {},
     "output_type": "display_data"
    }
   ],
   "source": [
    "num_vis(\n",
    "    'Kilometer', \n",
    "    'Километры',\n",
    "    f'Пробег в километрах'\n",
    ")"
   ]
  },
  {
   "cell_type": "markdown",
   "metadata": {},
   "source": [
    "Подобная картина - не новость после графика по годам. В подборке у нас подержаные машины.\n",
    "\n",
    "Осомтрив и очистив даные от аномалий, перед нами насыщенный список подержаных машин, прктически на любой вкус, цвет и кошелек."
   ]
  },
  {
   "cell_type": "markdown",
   "metadata": {},
   "source": [
    "#### Корреляционный анализ\n",
    "\n",
    "Построим матрицы корреляции с использованием функционала библиотеки `phik`.\n",
    "\n",
    "Не все даты, из датасета нам нужны, оставим только необходимые."
   ]
  },
  {
   "cell_type": "code",
   "execution_count": 23,
   "metadata": {},
   "outputs": [],
   "source": [
    "df = df.drop(['DateCrawled', 'DateCreated', 'LastSeen'],axis = 1)"
   ]
  },
  {
   "cell_type": "code",
   "execution_count": 24,
   "metadata": {},
   "outputs": [
    {
     "data": {
      "text/plain": [
       "1"
      ]
     },
     "execution_count": 24,
     "metadata": {},
     "output_type": "execute_result"
    }
   ],
   "source": [
    "df.duplicated().sum()"
   ]
  },
  {
   "cell_type": "markdown",
   "metadata": {},
   "source": [
    "Похоже, что в части строк уникальными была толкьо дата, значит анкеты/объявления по одниим и тем же машинам попадали в выгрузку каждый раз как с ним произвродилсь какие-либо манипулции."
   ]
  },
  {
   "cell_type": "code",
   "execution_count": 25,
   "metadata": {},
   "outputs": [
    {
     "data": {
      "text/plain": [
       "0"
      ]
     },
     "execution_count": 25,
     "metadata": {},
     "output_type": "execute_result"
    }
   ],
   "source": [
    "df = df.drop_duplicates()\n",
    "df.duplicated().sum()"
   ]
  },
  {
   "cell_type": "code",
   "execution_count": 26,
   "metadata": {},
   "outputs": [
    {
     "data": {
      "image/png": "[encoded data removed]",
      "text/plain": [
       "<Figure size 1296x432 with 2 Axes>"
      ]
     },
     "metadata": {},
     "output_type": "display_data"
    }
   ],
   "source": [
    "cols = ['Price', 'RegistrationYear', 'Power', 'Kilometer', 'NumberOfPictures', 'PostalCode']\n",
    "\n",
    "plt.figure(figsize = (18, 6))\n",
    "sns.heatmap(\n",
    "        df.phik_matrix(interval_cols = cols),\n",
    "    annot = True,\n",
    "    cmap = 'viridis'\n",
    "    )\n",
    "plt.title(f'Матрица корреляции с тепловой картой '\n",
    "        )\n",
    "plt.show()"
   ]
  },
  {
   "cell_type": "markdown",
   "metadata": {},
   "source": [
    "В данных нет сильнокорелирующих значений с целевым признаком. Есть наиболе корелирующие такие как возраст машины, ее модель и мощность, остальные признаки имеют схожую, менее выраженую корляцию. Месяц регистарции и почтовый индекс ожидаемо на цену не влияют. От послнедго откажемся"
   ]
  },
  {
   "cell_type": "code",
   "execution_count": 27,
   "metadata": {},
   "outputs": [],
   "source": [
    "df = df.drop(['PostalCode'],axis = 1)"
   ]
  },
  {
   "cell_type": "markdown",
   "metadata": {},
   "source": [
    "## Обучение моделей\n",
    "\n",
    "Подготовим данные для передачи их в модель."
   ]
  },
  {
   "cell_type": "markdown",
   "metadata": {},
   "source": [
    "### Модели дерева принятия решений"
   ]
  },
  {
   "cell_type": "code",
   "execution_count": 28,
   "metadata": {},
   "outputs": [],
   "source": [
    "#Разделим данные на на обучающую и валидационную выборки для стандартных моделей.\n",
    "X_train_test, X_val, y_train_test, y_val = train_test_split(\n",
    "    df.drop([\"Price\"], axis=1),\n",
    "    df[\"Price\"],\n",
    "    test_size=0.2,\n",
    "    random_state=RANDOM_STATE\n",
    ")\n",
    "\n",
    "X_train, X_test, y_train, y_test = train_test_split(\n",
    "    X_train_test,\n",
    "    y_train_test,\n",
    "    test_size=0.2,\n",
    "    random_state=RANDOM_STATE\n",
    ")\n",
    "\n",
    "#Задаем списки столбцов для кодирования и масштабирования.\n",
    "ohe_columns = ['VehicleType', 'Gearbox', 'FuelType', 'Repaired', 'Repaired']\n",
    "big_num = ['Kilometer', 'Power']\n",
    "trgt_columns = ['Model', 'Brand']\n",
    "\n",
    "#Пайплайн подготовки признаков с помощью OneHotEncoder.\n",
    "ohe_pipe = Pipeline(\n",
    "    [\n",
    "        (\n",
    "            'ohe',\n",
    "            OneHotEncoder(\n",
    "                drop = 'first'\n",
    "            )\n",
    "        )\n",
    "    ]\n",
    ")\n",
    "\n",
    "\n",
    "\n",
    "#Общий пайплайн подготовки данных.\n",
    "data_preprocessor = ColumnTransformer([\n",
    "    ('ohe', ohe_pipe, ohe_columns),\n",
    "    ('trgt', TargetEncoder(), trgt_columns),\n",
    "    ('big_num', RobustScaler(), big_num)\n",
    "])\n",
    "\n",
    "#Производим обучение.\n",
    "data_preprocessor.fit(X_train, y_train)\n",
    "\n",
    "#Создаем список с новыми названиями столбцов в датафреймах.\n",
    "#new_columns = data_preprocessor.get_feature_names()\n",
    "\n",
    "#Сохраняем кодированные и масштабированные данные.\n",
    "X_train = pd.DataFrame(\n",
    "    data_preprocessor.transform(X_train)\n",
    ")\n",
    "\n",
    "X_test = pd.DataFrame(\n",
    "    data_preprocessor.transform(X_test)\n",
    ")\n",
    "\n",
    "X_val = pd.DataFrame(\n",
    "    data_preprocessor.transform(X_val)\n",
    ")"
   ]
  },
  {
   "cell_type": "markdown",
   "metadata": {},
   "source": [
    "Теперь создаем пайплайн по поиску модели с оптимальными гиперпараметрами и запускаем его."
   ]
  },
  {
   "cell_type": "code",
   "execution_count": 29,
   "metadata": {
    "scrolled": false
   },
   "outputs": [
    {
     "name": "stdout",
     "output_type": "stream",
     "text": [
      "Лучшая модель и ее параметры:\n",
      "\n",
      " Pipeline(steps=[('models',\n",
      "                 DecisionTreeRegressor(max_depth=25, max_features=10,\n",
      "                                       min_samples_split=10,\n",
      "                                       random_state=42))]) \n",
      "\n",
      "\n"
     ]
    }
   ],
   "source": [
    "reg_models_pipe = Pipeline(\n",
    "    [('models', DecisionTreeRegressor(random_state = RANDOM_STATE))]\n",
    ")\n",
    "\n",
    "# Словари для модели.\n",
    "param_grid = [\n",
    "    # Словарь для модели DecisionTreeRegressor().\n",
    "    {\n",
    "        'models' : [DecisionTreeRegressor(random_state = RANDOM_STATE)],\n",
    "        'models__max_depth' : [3, 5, 15, 25],\n",
    "        'models__max_features' : [3, 5, 10],\n",
    "        'models__min_samples_split' : [3, 5, 10]\n",
    "    },\n",
    "]\n",
    "\n",
    "# Задаем настройки поиска оптимальных параметров.\n",
    "grid_search = GridSearchCV(\n",
    "    reg_models_pipe,\n",
    "    param_grid,\n",
    "    scoring = 'neg_root_mean_squared_error'\n",
    ")\n",
    "\n",
    "# Производим поиск оптимальных параметров модели.\n",
    "grid_search.fit(X_train, y_train)\n",
    "\n",
    "# Выводим лучшую модель.\n",
    "print(f\"Лучшая модель и ее параметры:\\n\\n {grid_search.best_estimator_} \\n\\n\")"
   ]
  },
  {
   "cell_type": "markdown",
   "metadata": {},
   "source": [
    "Отлично, у нас есть оптимальные параметры модели и метрика для оптимальной класичсекой модели.\n",
    "\n",
    "Перейдем к бустингу и поулчим те же данные, но для него.\n",
    "\n",
    "### LGBM\n",
    "\n",
    "Для работы с `lgbm` закодируем категориальные признаки в тип данных `category`, численные модель обработает сама."
   ]
  },
  {
   "cell_type": "code",
   "execution_count": 30,
   "metadata": {},
   "outputs": [],
   "source": [
    "categorical = [\n",
    "    \"VehicleType\",\n",
    "    \"Gearbox\",\n",
    "    \"FuelType\",\n",
    "    \"Repaired\",\n",
    "    \"RegistrationYear\",\n",
    "    \"Model\",\n",
    "    \"Brand\",\n",
    "    \n",
    "]\n",
    "\n",
    "for category in categorical:\n",
    "    df[category] = df[category].astype(\"category\").cat.codes"
   ]
  },
  {
   "cell_type": "markdown",
   "metadata": {},
   "source": [
    "И перейдем непосредственно к поиску гиперпараметров."
   ]
  },
  {
   "cell_type": "code",
   "execution_count": 31,
   "metadata": {
    "scrolled": true
   },
   "outputs": [
    {
     "name": "stderr",
     "output_type": "stream",
     "text": [
      "[I 2024-05-28 18:14:16,327] A new study created in memory with name: no-name-a75535bc-d729-4470-9721-0c6892f21722\n"
     ]
    },
    {
     "name": "stdout",
     "output_type": "stream",
     "text": [
      "Training until validation scores don't improve for 5 rounds\n",
      "Did not meet early stopping. Best iteration is:\n",
      "[100]\tvalid_0's rmse: 1634.11\n"
     ]
    },
    {
     "name": "stderr",
     "output_type": "stream",
     "text": [
      "[I 2024-05-28 18:14:25,808] Trial 0 finished with value: 1634.1034118148802 and parameters: {'num_leaves': 45, 'feature_fraction': 0.9, 'bagging_fraction': 0.6000000000000001, 'bagging_freq': 5}. Best is trial 0 with value: 1634.1034118148802.\n"
     ]
    },
    {
     "name": "stdout",
     "output_type": "stream",
     "text": [
      "Training until validation scores don't improve for 5 rounds\n",
      "Did not meet early stopping. Best iteration is:\n",
      "[100]\tvalid_0's rmse: 1613.93\n"
     ]
    },
    {
     "name": "stderr",
     "output_type": "stream",
     "text": [
      "[I 2024-05-28 18:14:36,806] Trial 1 finished with value: 1613.9299129613078 and parameters: {'num_leaves': 60, 'feature_fraction': 1.0, 'bagging_fraction': 0.5, 'bagging_freq': 1}. Best is trial 1 with value: 1613.9299129613078.\n"
     ]
    },
    {
     "name": "stdout",
     "output_type": "stream",
     "text": [
      "Training until validation scores don't improve for 5 rounds\n",
      "Did not meet early stopping. Best iteration is:\n",
      "[100]\tvalid_0's rmse: 1611.11\n"
     ]
    },
    {
     "name": "stderr",
     "output_type": "stream",
     "text": [
      "[I 2024-05-28 18:14:46,710] Trial 2 finished with value: 1611.1094980274481 and parameters: {'num_leaves': 66, 'feature_fraction': 0.9, 'bagging_fraction': 0.5, 'bagging_freq': 5}. Best is trial 2 with value: 1611.1094980274481.\n"
     ]
    },
    {
     "name": "stdout",
     "output_type": "stream",
     "text": [
      "Training until validation scores don't improve for 5 rounds\n",
      "Did not meet early stopping. Best iteration is:\n",
      "[100]\tvalid_0's rmse: 1632.14\n"
     ]
    },
    {
     "name": "stderr",
     "output_type": "stream",
     "text": [
      "[I 2024-05-28 18:14:58,306] Trial 3 finished with value: 1632.1403369660288 and parameters: {'num_leaves': 48, 'feature_fraction': 0.6000000000000001, 'bagging_fraction': 0.5, 'bagging_freq': 4}. Best is trial 2 with value: 1611.1094980274481.\n"
     ]
    },
    {
     "name": "stdout",
     "output_type": "stream",
     "text": [
      "Training until validation scores don't improve for 5 rounds\n",
      "Did not meet early stopping. Best iteration is:\n",
      "[100]\tvalid_0's rmse: 1597.62\n"
     ]
    },
    {
     "name": "stderr",
     "output_type": "stream",
     "text": [
      "[I 2024-05-28 18:15:10,304] Trial 4 finished with value: 1597.6199390846882 and parameters: {'num_leaves': 68, 'feature_fraction': 0.7000000000000001, 'bagging_fraction': 0.9, 'bagging_freq': 3}. Best is trial 4 with value: 1597.6199390846882.\n"
     ]
    },
    {
     "name": "stdout",
     "output_type": "stream",
     "text": [
      "Training until validation scores don't improve for 5 rounds\n",
      "Did not meet early stopping. Best iteration is:\n",
      "[100]\tvalid_0's rmse: 1595.73\n"
     ]
    },
    {
     "name": "stderr",
     "output_type": "stream",
     "text": [
      "[I 2024-05-28 18:15:22,517] Trial 5 finished with value: 1595.7348259220003 and parameters: {'num_leaves': 70, 'feature_fraction': 0.7000000000000001, 'bagging_fraction': 0.8, 'bagging_freq': 4}. Best is trial 5 with value: 1595.7348259220003.\n"
     ]
    },
    {
     "name": "stdout",
     "output_type": "stream",
     "text": [
      "Training until validation scores don't improve for 5 rounds\n",
      "Did not meet early stopping. Best iteration is:\n",
      "[100]\tvalid_0's rmse: 1815.74\n"
     ]
    },
    {
     "name": "stderr",
     "output_type": "stream",
     "text": [
      "[I 2024-05-28 18:15:27,512] Trial 6 finished with value: 1815.7376401265371 and parameters: {'num_leaves': 25, 'feature_fraction': 0.4, 'bagging_fraction': 0.5, 'bagging_freq': 6}. Best is trial 5 with value: 1595.7348259220003.\n"
     ]
    },
    {
     "name": "stdout",
     "output_type": "stream",
     "text": [
      "Training until validation scores don't improve for 5 rounds\n",
      "Did not meet early stopping. Best iteration is:\n",
      "[100]\tvalid_0's rmse: 1630.62\n"
     ]
    },
    {
     "name": "stderr",
     "output_type": "stream",
     "text": [
      "[I 2024-05-28 18:15:36,212] Trial 7 finished with value: 1630.620792930131 and parameters: {'num_leaves': 49, 'feature_fraction': 0.5, 'bagging_fraction': 0.5, 'bagging_freq': 1}. Best is trial 5 with value: 1595.7348259220003.\n"
     ]
    },
    {
     "name": "stdout",
     "output_type": "stream",
     "text": [
      "Training until validation scores don't improve for 5 rounds\n",
      "Did not meet early stopping. Best iteration is:\n",
      "[100]\tvalid_0's rmse: 1625.16\n"
     ]
    },
    {
     "name": "stderr",
     "output_type": "stream",
     "text": [
      "[I 2024-05-28 18:15:46,607] Trial 8 finished with value: 1625.1578988568313 and parameters: {'num_leaves': 57, 'feature_fraction': 1.0, 'bagging_fraction': 0.4, 'bagging_freq': 1}. Best is trial 5 with value: 1595.7348259220003.\n"
     ]
    },
    {
     "name": "stdout",
     "output_type": "stream",
     "text": [
      "Training until validation scores don't improve for 5 rounds\n",
      "Did not meet early stopping. Best iteration is:\n",
      "[100]\tvalid_0's rmse: 1625.56\n"
     ]
    },
    {
     "name": "stderr",
     "output_type": "stream",
     "text": [
      "[I 2024-05-28 18:15:56,907] Trial 9 finished with value: 1625.563298312782 and parameters: {'num_leaves': 49, 'feature_fraction': 0.5, 'bagging_fraction': 0.9, 'bagging_freq': 5}. Best is trial 5 with value: 1595.7348259220003.\n"
     ]
    },
    {
     "name": "stdout",
     "output_type": "stream",
     "text": [
      "Training until validation scores don't improve for 5 rounds\n",
      "Did not meet early stopping. Best iteration is:\n",
      "[100]\tvalid_0's rmse: 1659.82\n"
     ]
    },
    {
     "name": "stderr",
     "output_type": "stream",
     "text": [
      "[I 2024-05-28 18:16:05,814] Trial 10 finished with value: 1659.819500825019 and parameters: {'num_leaves': 30, 'feature_fraction': 0.7000000000000001, 'bagging_fraction': 0.8, 'bagging_freq': 7}. Best is trial 5 with value: 1595.7348259220003.\n"
     ]
    },
    {
     "name": "stdout",
     "output_type": "stream",
     "text": [
      "Training until validation scores don't improve for 5 rounds\n",
      "Did not meet early stopping. Best iteration is:\n",
      "[100]\tvalid_0's rmse: 1592.65\n"
     ]
    },
    {
     "name": "stderr",
     "output_type": "stream",
     "text": [
      "[I 2024-05-28 18:16:13,912] Trial 11 finished with value: 1592.6530216233934 and parameters: {'num_leaves': 70, 'feature_fraction': 0.7000000000000001, 'bagging_fraction': 1.0, 'bagging_freq': 4}. Best is trial 11 with value: 1592.6530216233934.\n"
     ]
    },
    {
     "name": "stdout",
     "output_type": "stream",
     "text": [
      "Training until validation scores don't improve for 5 rounds\n",
      "Did not meet early stopping. Best iteration is:\n",
      "[100]\tvalid_0's rmse: 1592.13\n"
     ]
    },
    {
     "name": "stderr",
     "output_type": "stream",
     "text": [
      "[I 2024-05-28 18:16:20,916] Trial 12 finished with value: 1592.1266170572276 and parameters: {'num_leaves': 69, 'feature_fraction': 0.8, 'bagging_fraction': 1.0, 'bagging_freq': 3}. Best is trial 12 with value: 1592.1266170572276.\n"
     ]
    },
    {
     "name": "stdout",
     "output_type": "stream",
     "text": [
      "Training until validation scores don't improve for 5 rounds\n",
      "Did not meet early stopping. Best iteration is:\n",
      "[100]\tvalid_0's rmse: 1603.86\n"
     ]
    },
    {
     "name": "stderr",
     "output_type": "stream",
     "text": [
      "[I 2024-05-28 18:16:29,409] Trial 13 finished with value: 1603.8621216031097 and parameters: {'num_leaves': 60, 'feature_fraction': 0.8, 'bagging_fraction': 1.0, 'bagging_freq': 3}. Best is trial 12 with value: 1592.1266170572276.\n"
     ]
    },
    {
     "name": "stdout",
     "output_type": "stream",
     "text": [
      "Training until validation scores don't improve for 5 rounds\n",
      "Did not meet early stopping. Best iteration is:\n",
      "[100]\tvalid_0's rmse: 1640.06\n"
     ]
    },
    {
     "name": "stderr",
     "output_type": "stream",
     "text": [
      "[I 2024-05-28 18:16:35,701] Trial 14 finished with value: 1640.0635286850181 and parameters: {'num_leaves': 39, 'feature_fraction': 0.8, 'bagging_fraction': 1.0, 'bagging_freq': 3}. Best is trial 12 with value: 1592.1266170572276.\n"
     ]
    },
    {
     "name": "stdout",
     "output_type": "stream",
     "text": [
      "Training until validation scores don't improve for 5 rounds\n",
      "Did not meet early stopping. Best iteration is:\n",
      "[100]\tvalid_0's rmse: 1610.16\n"
     ]
    },
    {
     "name": "stderr",
     "output_type": "stream",
     "text": [
      "[I 2024-05-28 18:16:46,514] Trial 15 finished with value: 1610.1589163329543 and parameters: {'num_leaves': 56, 'feature_fraction': 0.8, 'bagging_fraction': 0.9, 'bagging_freq': 2}. Best is trial 12 with value: 1592.1266170572276.\n"
     ]
    },
    {
     "name": "stdout",
     "output_type": "stream",
     "text": [
      "Training until validation scores don't improve for 5 rounds\n",
      "Did not meet early stopping. Best iteration is:\n",
      "[100]\tvalid_0's rmse: 1601.42\n"
     ]
    },
    {
     "name": "stderr",
     "output_type": "stream",
     "text": [
      "[I 2024-05-28 18:16:59,805] Trial 16 finished with value: 1601.4146619979829 and parameters: {'num_leaves': 64, 'feature_fraction': 0.6000000000000001, 'bagging_fraction': 0.7000000000000001, 'bagging_freq': 2}. Best is trial 12 with value: 1592.1266170572276.\n"
     ]
    },
    {
     "name": "stdout",
     "output_type": "stream",
     "text": [
      "Training until validation scores don't improve for 5 rounds\n",
      "Did not meet early stopping. Best iteration is:\n",
      "[100]\tvalid_0's rmse: 1648.66\n"
     ]
    },
    {
     "name": "stderr",
     "output_type": "stream",
     "text": [
      "[I 2024-05-28 18:17:06,018] Trial 17 finished with value: 1648.6601701519323 and parameters: {'num_leaves': 36, 'feature_fraction': 0.9, 'bagging_fraction': 1.0, 'bagging_freq': 4}. Best is trial 12 with value: 1592.1266170572276.\n"
     ]
    },
    {
     "name": "stdout",
     "output_type": "stream",
     "text": [
      "Training until validation scores don't improve for 5 rounds\n",
      "Did not meet early stopping. Best iteration is:\n",
      "[100]\tvalid_0's rmse: 1612.49\n"
     ]
    },
    {
     "name": "stderr",
     "output_type": "stream",
     "text": [
      "[I 2024-05-28 18:17:15,804] Trial 18 finished with value: 1612.4879148241112 and parameters: {'num_leaves': 55, 'feature_fraction': 0.6000000000000001, 'bagging_fraction': 0.8, 'bagging_freq': 2}. Best is trial 12 with value: 1592.1266170572276.\n"
     ]
    },
    {
     "name": "stdout",
     "output_type": "stream",
     "text": [
      "Training until validation scores don't improve for 5 rounds\n",
      "Did not meet early stopping. Best iteration is:\n",
      "[100]\tvalid_0's rmse: 1602.43\n"
     ]
    },
    {
     "name": "stderr",
     "output_type": "stream",
     "text": [
      "[I 2024-05-28 18:17:26,304] Trial 19 finished with value: 1602.4348985899824 and parameters: {'num_leaves': 64, 'feature_fraction': 0.8, 'bagging_fraction': 0.7000000000000001, 'bagging_freq': 6}. Best is trial 12 with value: 1592.1266170572276.\n"
     ]
    },
    {
     "name": "stdout",
     "output_type": "stream",
     "text": [
      "Training until validation scores don't improve for 5 rounds\n",
      "Did not meet early stopping. Best iteration is:\n",
      "[100]\tvalid_0's rmse: 1600.89\n"
     ]
    },
    {
     "name": "stderr",
     "output_type": "stream",
     "text": [
      "[I 2024-05-28 18:17:37,807] Trial 20 finished with value: 1600.8936572418756 and parameters: {'num_leaves': 70, 'feature_fraction': 0.5, 'bagging_fraction': 0.9, 'bagging_freq': 3}. Best is trial 12 with value: 1592.1266170572276.\n"
     ]
    },
    {
     "name": "stdout",
     "output_type": "stream",
     "text": [
      "Training until validation scores don't improve for 5 rounds\n",
      "Did not meet early stopping. Best iteration is:\n",
      "[100]\tvalid_0's rmse: 1595.73\n"
     ]
    },
    {
     "name": "stderr",
     "output_type": "stream",
     "text": [
      "[I 2024-05-28 18:17:47,818] Trial 21 finished with value: 1595.7348259220003 and parameters: {'num_leaves': 70, 'feature_fraction': 0.7000000000000001, 'bagging_fraction': 0.8, 'bagging_freq': 4}. Best is trial 12 with value: 1592.1266170572276.\n"
     ]
    },
    {
     "name": "stdout",
     "output_type": "stream",
     "text": [
      "Training until validation scores don't improve for 5 rounds\n",
      "Did not meet early stopping. Best iteration is:\n",
      "[100]\tvalid_0's rmse: 1601.13\n"
     ]
    },
    {
     "name": "stderr",
     "output_type": "stream",
     "text": [
      "[I 2024-05-28 18:17:55,003] Trial 22 finished with value: 1601.1341191735862 and parameters: {'num_leaves': 62, 'feature_fraction': 0.7000000000000001, 'bagging_fraction': 1.0, 'bagging_freq': 4}. Best is trial 12 with value: 1592.1266170572276.\n"
     ]
    },
    {
     "name": "stdout",
     "output_type": "stream",
     "text": [
      "Training until validation scores don't improve for 5 rounds\n",
      "Did not meet early stopping. Best iteration is:\n",
      "[100]\tvalid_0's rmse: 1598.52\n"
     ]
    },
    {
     "name": "stderr",
     "output_type": "stream",
     "text": [
      "[I 2024-05-28 18:18:06,013] Trial 23 finished with value: 1598.5205637888614 and parameters: {'num_leaves': 70, 'feature_fraction': 0.6000000000000001, 'bagging_fraction': 0.8, 'bagging_freq': 4}. Best is trial 12 with value: 1592.1266170572276.\n"
     ]
    },
    {
     "name": "stdout",
     "output_type": "stream",
     "text": [
      "Training until validation scores don't improve for 5 rounds\n",
      "Did not meet early stopping. Best iteration is:\n",
      "[100]\tvalid_0's rmse: 1597.98\n"
     ]
    },
    {
     "name": "stderr",
     "output_type": "stream",
     "text": [
      "[I 2024-05-28 18:18:15,809] Trial 24 finished with value: 1597.9851142441767 and parameters: {'num_leaves': 65, 'feature_fraction': 0.8, 'bagging_fraction': 0.9, 'bagging_freq': 5}. Best is trial 12 with value: 1592.1266170572276.\n"
     ]
    },
    {
     "name": "stdout",
     "output_type": "stream",
     "text": [
      "Training until validation scores don't improve for 5 rounds\n",
      "Did not meet early stopping. Best iteration is:\n",
      "[100]\tvalid_0's rmse: 1615.31\n"
     ]
    },
    {
     "name": "stderr",
     "output_type": "stream",
     "text": [
      "[I 2024-05-28 18:18:24,012] Trial 25 finished with value: 1615.3080118311523 and parameters: {'num_leaves': 53, 'feature_fraction': 0.7000000000000001, 'bagging_fraction': 1.0, 'bagging_freq': 3}. Best is trial 12 with value: 1592.1266170572276.\n"
     ]
    },
    {
     "name": "stdout",
     "output_type": "stream",
     "text": [
      "Training until validation scores don't improve for 5 rounds\n",
      "Did not meet early stopping. Best iteration is:\n",
      "[100]\tvalid_0's rmse: 1613.01\n"
     ]
    },
    {
     "name": "stderr",
     "output_type": "stream",
     "text": [
      "[I 2024-05-28 18:18:33,610] Trial 26 finished with value: 1613.005633863128 and parameters: {'num_leaves': 60, 'feature_fraction': 0.9, 'bagging_fraction': 0.6000000000000001, 'bagging_freq': 6}. Best is trial 12 with value: 1592.1266170572276.\n"
     ]
    },
    {
     "name": "stdout",
     "output_type": "stream",
     "text": [
      "Training until validation scores don't improve for 5 rounds\n",
      "Did not meet early stopping. Best iteration is:\n",
      "[100]\tvalid_0's rmse: 1599.19\n"
     ]
    },
    {
     "name": "stderr",
     "output_type": "stream",
     "text": [
      "[I 2024-05-28 18:18:44,214] Trial 27 finished with value: 1599.1872635400207 and parameters: {'num_leaves': 66, 'feature_fraction': 0.8, 'bagging_fraction': 0.9, 'bagging_freq': 2}. Best is trial 12 with value: 1592.1266170572276.\n"
     ]
    },
    {
     "name": "stdout",
     "output_type": "stream",
     "text": [
      "Training until validation scores don't improve for 5 rounds\n",
      "Did not meet early stopping. Best iteration is:\n",
      "[100]\tvalid_0's rmse: 1629.16\n"
     ]
    },
    {
     "name": "stderr",
     "output_type": "stream",
     "text": [
      "[I 2024-05-28 18:18:51,713] Trial 28 finished with value: 1629.161981661435 and parameters: {'num_leaves': 43, 'feature_fraction': 0.6000000000000001, 'bagging_fraction': 1.0, 'bagging_freq': 4}. Best is trial 12 with value: 1592.1266170572276.\n"
     ]
    },
    {
     "name": "stdout",
     "output_type": "stream",
     "text": [
      "Training until validation scores don't improve for 5 rounds\n",
      "Did not meet early stopping. Best iteration is:\n",
      "[100]\tvalid_0's rmse: 1623.62\n"
     ]
    },
    {
     "name": "stderr",
     "output_type": "stream",
     "text": [
      "[I 2024-05-28 18:19:00,216] Trial 29 finished with value: 1623.6209838395998 and parameters: {'num_leaves': 52, 'feature_fraction': 0.9, 'bagging_fraction': 0.6000000000000001, 'bagging_freq': 5}. Best is trial 12 with value: 1592.1266170572276.\n"
     ]
    },
    {
     "name": "stdout",
     "output_type": "stream",
     "text": [
      "Training until validation scores don't improve for 5 rounds\n",
      "Did not meet early stopping. Best iteration is:\n",
      "[100]\tvalid_0's rmse: 1603.91\n"
     ]
    },
    {
     "name": "stderr",
     "output_type": "stream",
     "text": [
      "[I 2024-05-28 18:19:10,803] Trial 30 finished with value: 1603.9080763510347 and parameters: {'num_leaves': 67, 'feature_fraction': 0.7000000000000001, 'bagging_fraction': 0.7000000000000001, 'bagging_freq': 3}. Best is trial 12 with value: 1592.1266170572276.\n"
     ]
    },
    {
     "name": "stdout",
     "output_type": "stream",
     "text": [
      "Training until validation scores don't improve for 5 rounds\n",
      "Did not meet early stopping. Best iteration is:\n",
      "[100]\tvalid_0's rmse: 1595.73\n"
     ]
    },
    {
     "name": "stderr",
     "output_type": "stream",
     "text": [
      "[I 2024-05-28 18:19:22,513] Trial 31 finished with value: 1595.7348259220003 and parameters: {'num_leaves': 70, 'feature_fraction': 0.7000000000000001, 'bagging_fraction': 0.8, 'bagging_freq': 4}. Best is trial 12 with value: 1592.1266170572276.\n"
     ]
    },
    {
     "name": "stdout",
     "output_type": "stream",
     "text": [
      "Training until validation scores don't improve for 5 rounds\n",
      "Did not meet early stopping. Best iteration is:\n",
      "[100]\tvalid_0's rmse: 1604.15\n"
     ]
    },
    {
     "name": "stderr",
     "output_type": "stream",
     "text": [
      "[I 2024-05-28 18:19:32,405] Trial 32 finished with value: 1604.1570703596312 and parameters: {'num_leaves': 61, 'feature_fraction': 0.7000000000000001, 'bagging_fraction': 0.8, 'bagging_freq': 4}. Best is trial 12 with value: 1592.1266170572276.\n"
     ]
    },
    {
     "name": "stdout",
     "output_type": "stream",
     "text": [
      "Training until validation scores don't improve for 5 rounds\n",
      "Did not meet early stopping. Best iteration is:\n",
      "[100]\tvalid_0's rmse: 1595.51\n"
     ]
    },
    {
     "name": "stderr",
     "output_type": "stream",
     "text": [
      "[I 2024-05-28 18:19:42,616] Trial 33 finished with value: 1595.511774956544 and parameters: {'num_leaves': 68, 'feature_fraction': 0.8, 'bagging_fraction': 0.8, 'bagging_freq': 5}. Best is trial 12 with value: 1592.1266170572276.\n"
     ]
    },
    {
     "name": "stdout",
     "output_type": "stream",
     "text": [
      "Training until validation scores don't improve for 5 rounds\n",
      "Did not meet early stopping. Best iteration is:\n",
      "[100]\tvalid_0's rmse: 1610.18\n"
     ]
    },
    {
     "name": "stderr",
     "output_type": "stream",
     "text": [
      "[I 2024-05-28 18:19:52,911] Trial 34 finished with value: 1610.179252498067 and parameters: {'num_leaves': 63, 'feature_fraction': 1.0, 'bagging_fraction': 0.9, 'bagging_freq': 5}. Best is trial 12 with value: 1592.1266170572276.\n"
     ]
    },
    {
     "name": "stdout",
     "output_type": "stream",
     "text": [
      "Training until validation scores don't improve for 5 rounds\n",
      "Did not meet early stopping. Best iteration is:\n",
      "[100]\tvalid_0's rmse: 1602.72\n"
     ]
    },
    {
     "name": "stderr",
     "output_type": "stream",
     "text": [
      "[I 2024-05-28 18:20:02,305] Trial 35 finished with value: 1602.7209633925747 and parameters: {'num_leaves': 67, 'feature_fraction': 0.8, 'bagging_fraction': 0.7000000000000001, 'bagging_freq': 6}. Best is trial 12 with value: 1592.1266170572276.\n"
     ]
    },
    {
     "name": "stdout",
     "output_type": "stream",
     "text": [
      "Training until validation scores don't improve for 5 rounds\n",
      "Did not meet early stopping. Best iteration is:\n",
      "[100]\tvalid_0's rmse: 1608.54\n"
     ]
    },
    {
     "name": "stderr",
     "output_type": "stream",
     "text": [
      "[I 2024-05-28 18:20:11,106] Trial 36 finished with value: 1608.542651758715 and parameters: {'num_leaves': 59, 'feature_fraction': 0.9, 'bagging_fraction': 1.0, 'bagging_freq': 5}. Best is trial 12 with value: 1592.1266170572276.\n"
     ]
    },
    {
     "name": "stdout",
     "output_type": "stream",
     "text": [
      "Training until validation scores don't improve for 5 rounds\n",
      "Did not meet early stopping. Best iteration is:\n",
      "[100]\tvalid_0's rmse: 1599.69\n"
     ]
    },
    {
     "name": "stderr",
     "output_type": "stream",
     "text": [
      "[I 2024-05-28 18:20:22,804] Trial 37 finished with value: 1599.693216012607 and parameters: {'num_leaves': 67, 'feature_fraction': 0.8, 'bagging_fraction': 0.9, 'bagging_freq': 7}. Best is trial 12 with value: 1592.1266170572276.\n"
     ]
    },
    {
     "name": "stdout",
     "output_type": "stream",
     "text": [
      "Training until validation scores don't improve for 5 rounds\n",
      "Did not meet early stopping. Best iteration is:\n",
      "[100]\tvalid_0's rmse: 1613.18\n"
     ]
    },
    {
     "name": "stderr",
     "output_type": "stream",
     "text": [
      "[I 2024-05-28 18:20:33,212] Trial 38 finished with value: 1613.1823721139333 and parameters: {'num_leaves': 58, 'feature_fraction': 0.6000000000000001, 'bagging_fraction': 0.6000000000000001, 'bagging_freq': 3}. Best is trial 12 with value: 1592.1266170572276.\n"
     ]
    },
    {
     "name": "stdout",
     "output_type": "stream",
     "text": [
      "Training until validation scores don't improve for 5 rounds\n",
      "Did not meet early stopping. Best iteration is:\n",
      "[100]\tvalid_0's rmse: 1603.22\n"
     ]
    },
    {
     "name": "stderr",
     "output_type": "stream",
     "text": [
      "[I 2024-05-28 18:20:42,714] Trial 39 finished with value: 1603.214466552694 and parameters: {'num_leaves': 63, 'feature_fraction': 0.9, 'bagging_fraction': 0.8, 'bagging_freq': 4}. Best is trial 12 with value: 1592.1266170572276.\n"
     ]
    },
    {
     "name": "stdout",
     "output_type": "stream",
     "text": [
      "Training until validation scores don't improve for 5 rounds\n",
      "Did not meet early stopping. Best iteration is:\n",
      "[100]\tvalid_0's rmse: 1618.86\n"
     ]
    },
    {
     "name": "stderr",
     "output_type": "stream",
     "text": [
      "[I 2024-05-28 18:20:53,703] Trial 40 finished with value: 1618.861333470736 and parameters: {'num_leaves': 68, 'feature_fraction': 1.0, 'bagging_fraction': 0.4, 'bagging_freq': 5}. Best is trial 12 with value: 1592.1266170572276.\n"
     ]
    },
    {
     "name": "stdout",
     "output_type": "stream",
     "text": [
      "Training until validation scores don't improve for 5 rounds\n",
      "Did not meet early stopping. Best iteration is:\n",
      "[100]\tvalid_0's rmse: 1595.73\n"
     ]
    },
    {
     "name": "stderr",
     "output_type": "stream",
     "text": [
      "[I 2024-05-28 18:21:04,116] Trial 41 finished with value: 1595.7348259220003 and parameters: {'num_leaves': 70, 'feature_fraction': 0.7000000000000001, 'bagging_fraction': 0.8, 'bagging_freq': 4}. Best is trial 12 with value: 1592.1266170572276.\n"
     ]
    },
    {
     "name": "stdout",
     "output_type": "stream",
     "text": [
      "Training until validation scores don't improve for 5 rounds\n",
      "Did not meet early stopping. Best iteration is:\n",
      "[100]\tvalid_0's rmse: 1594.57\n"
     ]
    },
    {
     "name": "stderr",
     "output_type": "stream",
     "text": [
      "[I 2024-05-28 18:21:15,020] Trial 42 finished with value: 1594.5712107855752 and parameters: {'num_leaves': 68, 'feature_fraction': 0.7000000000000001, 'bagging_fraction': 0.8, 'bagging_freq': 5}. Best is trial 12 with value: 1592.1266170572276.\n"
     ]
    },
    {
     "name": "stdout",
     "output_type": "stream",
     "text": [
      "Training until validation scores don't improve for 5 rounds\n",
      "Did not meet early stopping. Best iteration is:\n",
      "[100]\tvalid_0's rmse: 1603.21\n"
     ]
    },
    {
     "name": "stderr",
     "output_type": "stream",
     "text": [
      "[I 2024-05-28 18:21:26,410] Trial 43 finished with value: 1603.2050275400832 and parameters: {'num_leaves': 65, 'feature_fraction': 0.8, 'bagging_fraction': 0.7000000000000001, 'bagging_freq': 5}. Best is trial 12 with value: 1592.1266170572276.\n"
     ]
    },
    {
     "name": "stdout",
     "output_type": "stream",
     "text": [
      "Training until validation scores don't improve for 5 rounds\n",
      "Did not meet early stopping. Best iteration is:\n",
      "[100]\tvalid_0's rmse: 1598.69\n"
     ]
    },
    {
     "name": "stderr",
     "output_type": "stream",
     "text": [
      "[I 2024-05-28 18:21:37,411] Trial 44 finished with value: 1598.691725546341 and parameters: {'num_leaves': 67, 'feature_fraction': 0.8, 'bagging_fraction': 0.9, 'bagging_freq': 6}. Best is trial 12 with value: 1592.1266170572276.\n"
     ]
    },
    {
     "name": "stdout",
     "output_type": "stream",
     "text": [
      "Training until validation scores don't improve for 5 rounds\n",
      "Did not meet early stopping. Best iteration is:\n",
      "[100]\tvalid_0's rmse: 1655.49\n"
     ]
    },
    {
     "name": "stderr",
     "output_type": "stream",
     "text": [
      "[I 2024-05-28 18:21:43,216] Trial 45 finished with value: 1655.4922710843073 and parameters: {'num_leaves': 30, 'feature_fraction': 0.7000000000000001, 'bagging_fraction': 1.0, 'bagging_freq': 3}. Best is trial 12 with value: 1592.1266170572276.\n"
     ]
    },
    {
     "name": "stdout",
     "output_type": "stream",
     "text": [
      "Training until validation scores don't improve for 5 rounds\n",
      "Did not meet early stopping. Best iteration is:\n",
      "[100]\tvalid_0's rmse: 1605.66\n"
     ]
    },
    {
     "name": "stderr",
     "output_type": "stream",
     "text": [
      "[I 2024-05-28 18:21:52,515] Trial 46 finished with value: 1605.6585218597982 and parameters: {'num_leaves': 61, 'feature_fraction': 0.6000000000000001, 'bagging_fraction': 0.8, 'bagging_freq': 5}. Best is trial 12 with value: 1592.1266170572276.\n"
     ]
    },
    {
     "name": "stdout",
     "output_type": "stream",
     "text": [
      "Training until validation scores don't improve for 5 rounds\n",
      "Did not meet early stopping. Best iteration is:\n",
      "[100]\tvalid_0's rmse: 1594.75\n"
     ]
    },
    {
     "name": "stderr",
     "output_type": "stream",
     "text": [
      "[I 2024-05-28 18:22:03,709] Trial 47 finished with value: 1594.747195143495 and parameters: {'num_leaves': 68, 'feature_fraction': 0.7000000000000001, 'bagging_fraction': 0.9, 'bagging_freq': 5}. Best is trial 12 with value: 1592.1266170572276.\n"
     ]
    },
    {
     "name": "stdout",
     "output_type": "stream",
     "text": [
      "Training until validation scores don't improve for 5 rounds\n",
      "Did not meet early stopping. Best iteration is:\n",
      "[100]\tvalid_0's rmse: 1621.83\n"
     ]
    },
    {
     "name": "stderr",
     "output_type": "stream",
     "text": [
      "[I 2024-05-28 18:22:09,918] Trial 48 finished with value: 1621.8277877206954 and parameters: {'num_leaves': 46, 'feature_fraction': 0.8, 'bagging_fraction': 1.0, 'bagging_freq': 5}. Best is trial 12 with value: 1592.1266170572276.\n"
     ]
    },
    {
     "name": "stdout",
     "output_type": "stream",
     "text": [
      "Training until validation scores don't improve for 5 rounds\n",
      "Did not meet early stopping. Best iteration is:\n",
      "[100]\tvalid_0's rmse: 1602.14\n"
     ]
    },
    {
     "name": "stderr",
     "output_type": "stream",
     "text": [
      "[I 2024-05-28 18:22:20,216] Trial 49 finished with value: 1602.1445135094411 and parameters: {'num_leaves': 68, 'feature_fraction': 0.5, 'bagging_fraction': 0.9, 'bagging_freq': 6}. Best is trial 12 with value: 1592.1266170572276.\n"
     ]
    },
    {
     "name": "stdout",
     "output_type": "stream",
     "text": [
      "Training until validation scores don't improve for 5 rounds\n",
      "Did not meet early stopping. Best iteration is:\n",
      "[100]\tvalid_0's rmse: 1601.8\n"
     ]
    },
    {
     "name": "stderr",
     "output_type": "stream",
     "text": [
      "[I 2024-05-28 18:22:28,602] Trial 50 finished with value: 1601.8000730660513 and parameters: {'num_leaves': 65, 'feature_fraction': 0.7000000000000001, 'bagging_fraction': 1.0, 'bagging_freq': 5}. Best is trial 12 with value: 1592.1266170572276.\n"
     ]
    },
    {
     "name": "stdout",
     "output_type": "stream",
     "text": [
      "Training until validation scores don't improve for 5 rounds\n",
      "Did not meet early stopping. Best iteration is:\n",
      "[100]\tvalid_0's rmse: 1700.97\n"
     ]
    },
    {
     "name": "stderr",
     "output_type": "stream",
     "text": [
      "[I 2024-05-28 18:22:36,211] Trial 51 finished with value: 1700.9654398385528 and parameters: {'num_leaves': 20, 'feature_fraction': 0.6000000000000001, 'bagging_fraction': 0.9, 'bagging_freq': 4}. Best is trial 12 with value: 1592.1266170572276.\n"
     ]
    },
    {
     "name": "stdout",
     "output_type": "stream",
     "text": [
      "Training until validation scores don't improve for 5 rounds\n",
      "Did not meet early stopping. Best iteration is:\n",
      "[100]\tvalid_0's rmse: 1594.75\n"
     ]
    },
    {
     "name": "stderr",
     "output_type": "stream",
     "text": [
      "[I 2024-05-28 18:22:47,306] Trial 52 finished with value: 1594.747195143495 and parameters: {'num_leaves': 68, 'feature_fraction': 0.7000000000000001, 'bagging_fraction': 0.9, 'bagging_freq': 5}. Best is trial 12 with value: 1592.1266170572276.\n"
     ]
    },
    {
     "name": "stdout",
     "output_type": "stream",
     "text": [
      "Training until validation scores don't improve for 5 rounds\n",
      "Did not meet early stopping. Best iteration is:\n",
      "[100]\tvalid_0's rmse: 1594.75\n"
     ]
    },
    {
     "name": "stderr",
     "output_type": "stream",
     "text": [
      "[I 2024-05-28 18:22:59,616] Trial 53 finished with value: 1594.747195143495 and parameters: {'num_leaves': 68, 'feature_fraction': 0.7000000000000001, 'bagging_fraction': 0.9, 'bagging_freq': 5}. Best is trial 12 with value: 1592.1266170572276.\n"
     ]
    },
    {
     "name": "stdout",
     "output_type": "stream",
     "text": [
      "Training until validation scores don't improve for 5 rounds\n",
      "Did not meet early stopping. Best iteration is:\n",
      "[100]\tvalid_0's rmse: 1599.96\n"
     ]
    },
    {
     "name": "stderr",
     "output_type": "stream",
     "text": [
      "[I 2024-05-28 18:23:10,406] Trial 54 finished with value: 1599.960406696661 and parameters: {'num_leaves': 65, 'feature_fraction': 0.7000000000000001, 'bagging_fraction': 0.9, 'bagging_freq': 6}. Best is trial 12 with value: 1592.1266170572276.\n"
     ]
    },
    {
     "name": "stdout",
     "output_type": "stream",
     "text": [
      "Training until validation scores don't improve for 5 rounds\n",
      "Did not meet early stopping. Best iteration is:\n",
      "[100]\tvalid_0's rmse: 1604.99\n"
     ]
    },
    {
     "name": "stderr",
     "output_type": "stream",
     "text": [
      "[I 2024-05-28 18:23:21,814] Trial 55 finished with value: 1604.992221148433 and parameters: {'num_leaves': 63, 'feature_fraction': 0.6000000000000001, 'bagging_fraction': 0.9, 'bagging_freq': 6}. Best is trial 12 with value: 1592.1266170572276.\n"
     ]
    },
    {
     "name": "stdout",
     "output_type": "stream",
     "text": [
      "Training until validation scores don't improve for 5 rounds\n",
      "Did not meet early stopping. Best iteration is:\n",
      "[100]\tvalid_0's rmse: 1592.65\n"
     ]
    },
    {
     "name": "stderr",
     "output_type": "stream",
     "text": [
      "[I 2024-05-28 18:23:30,006] Trial 56 finished with value: 1592.6530216233934 and parameters: {'num_leaves': 70, 'feature_fraction': 0.7000000000000001, 'bagging_fraction': 1.0, 'bagging_freq': 5}. Best is trial 12 with value: 1592.1266170572276.\n"
     ]
    },
    {
     "name": "stdout",
     "output_type": "stream",
     "text": [
      "Training until validation scores don't improve for 5 rounds\n",
      "Did not meet early stopping. Best iteration is:\n",
      "[100]\tvalid_0's rmse: 1592.52\n"
     ]
    },
    {
     "name": "stderr",
     "output_type": "stream",
     "text": [
      "[I 2024-05-28 18:23:38,507] Trial 57 finished with value: 1592.5130584891551 and parameters: {'num_leaves': 69, 'feature_fraction': 0.7000000000000001, 'bagging_fraction': 1.0, 'bagging_freq': 4}. Best is trial 12 with value: 1592.1266170572276.\n"
     ]
    },
    {
     "name": "stdout",
     "output_type": "stream",
     "text": [
      "Training until validation scores don't improve for 5 rounds\n",
      "Did not meet early stopping. Best iteration is:\n",
      "[100]\tvalid_0's rmse: 1594.3\n"
     ]
    },
    {
     "name": "stderr",
     "output_type": "stream",
     "text": [
      "[I 2024-05-28 18:23:46,305] Trial 58 finished with value: 1594.302411002177 and parameters: {'num_leaves': 69, 'feature_fraction': 0.6000000000000001, 'bagging_fraction': 1.0, 'bagging_freq': 4}. Best is trial 12 with value: 1592.1266170572276.\n"
     ]
    },
    {
     "name": "stdout",
     "output_type": "stream",
     "text": [
      "Training until validation scores don't improve for 5 rounds\n",
      "Did not meet early stopping. Best iteration is:\n",
      "[100]\tvalid_0's rmse: 1599.56\n"
     ]
    },
    {
     "name": "stderr",
     "output_type": "stream",
     "text": [
      "[I 2024-05-28 18:23:56,309] Trial 59 finished with value: 1599.5650901913327 and parameters: {'num_leaves': 70, 'feature_fraction': 0.5, 'bagging_fraction': 1.0, 'bagging_freq': 4}. Best is trial 12 with value: 1592.1266170572276.\n"
     ]
    },
    {
     "name": "stdout",
     "output_type": "stream",
     "text": [
      "Training until validation scores don't improve for 5 rounds\n",
      "Did not meet early stopping. Best iteration is:\n",
      "[100]\tvalid_0's rmse: 1750.7\n"
     ]
    },
    {
     "name": "stderr",
     "output_type": "stream",
     "text": [
      "[I 2024-05-28 18:24:04,014] Trial 60 finished with value: 1750.6979716566752 and parameters: {'num_leaves': 56, 'feature_fraction': 0.4, 'bagging_fraction': 1.0, 'bagging_freq': 2}. Best is trial 12 with value: 1592.1266170572276.\n"
     ]
    },
    {
     "name": "stdout",
     "output_type": "stream",
     "text": [
      "Training until validation scores don't improve for 5 rounds\n",
      "Did not meet early stopping. Best iteration is:\n",
      "[100]\tvalid_0's rmse: 1595.51\n"
     ]
    },
    {
     "name": "stderr",
     "output_type": "stream",
     "text": [
      "[I 2024-05-28 18:24:12,403] Trial 61 finished with value: 1595.5053609022643 and parameters: {'num_leaves': 66, 'feature_fraction': 0.6000000000000001, 'bagging_fraction': 1.0, 'bagging_freq': 4}. Best is trial 12 with value: 1592.1266170572276.\n"
     ]
    },
    {
     "name": "stdout",
     "output_type": "stream",
     "text": [
      "Training until validation scores don't improve for 5 rounds\n",
      "Did not meet early stopping. Best iteration is:\n",
      "[100]\tvalid_0's rmse: 1592.65\n"
     ]
    },
    {
     "name": "stderr",
     "output_type": "stream",
     "text": [
      "[I 2024-05-28 18:24:21,413] Trial 62 finished with value: 1592.6530216233934 and parameters: {'num_leaves': 70, 'feature_fraction': 0.7000000000000001, 'bagging_fraction': 1.0, 'bagging_freq': 3}. Best is trial 12 with value: 1592.1266170572276.\n"
     ]
    },
    {
     "name": "stdout",
     "output_type": "stream",
     "text": [
      "Training until validation scores don't improve for 5 rounds\n",
      "Did not meet early stopping. Best iteration is:\n",
      "[100]\tvalid_0's rmse: 1594.3\n"
     ]
    },
    {
     "name": "stderr",
     "output_type": "stream",
     "text": [
      "[I 2024-05-28 18:24:30,107] Trial 63 finished with value: 1594.302411002177 and parameters: {'num_leaves': 69, 'feature_fraction': 0.6000000000000001, 'bagging_fraction': 1.0, 'bagging_freq': 3}. Best is trial 12 with value: 1592.1266170572276.\n"
     ]
    },
    {
     "name": "stdout",
     "output_type": "stream",
     "text": [
      "Training until validation scores don't improve for 5 rounds\n",
      "Did not meet early stopping. Best iteration is:\n",
      "[100]\tvalid_0's rmse: 1599.56\n"
     ]
    },
    {
     "name": "stderr",
     "output_type": "stream",
     "text": [
      "[I 2024-05-28 18:24:38,501] Trial 64 finished with value: 1599.5650901913327 and parameters: {'num_leaves': 70, 'feature_fraction': 0.5, 'bagging_fraction': 1.0, 'bagging_freq': 3}. Best is trial 12 with value: 1592.1266170572276.\n"
     ]
    },
    {
     "name": "stdout",
     "output_type": "stream",
     "text": [
      "Training until validation scores don't improve for 5 rounds\n",
      "Did not meet early stopping. Best iteration is:\n",
      "[100]\tvalid_0's rmse: 1599.74\n"
     ]
    },
    {
     "name": "stderr",
     "output_type": "stream",
     "text": [
      "[I 2024-05-28 18:24:46,301] Trial 65 finished with value: 1599.7458158059715 and parameters: {'num_leaves': 64, 'feature_fraction': 0.6000000000000001, 'bagging_fraction': 1.0, 'bagging_freq': 3}. Best is trial 12 with value: 1592.1266170572276.\n"
     ]
    },
    {
     "name": "stdout",
     "output_type": "stream",
     "text": [
      "Training until validation scores don't improve for 5 rounds\n",
      "Did not meet early stopping. Best iteration is:\n",
      "[100]\tvalid_0's rmse: 1594.82\n"
     ]
    },
    {
     "name": "stderr",
     "output_type": "stream",
     "text": [
      "[I 2024-05-28 18:24:56,212] Trial 66 finished with value: 1594.8236219789205 and parameters: {'num_leaves': 70, 'feature_fraction': 0.6000000000000001, 'bagging_fraction': 1.0, 'bagging_freq': 3}. Best is trial 12 with value: 1592.1266170572276.\n"
     ]
    },
    {
     "name": "stdout",
     "output_type": "stream",
     "text": [
      "Training until validation scores don't improve for 5 rounds\n",
      "Did not meet early stopping. Best iteration is:\n",
      "[100]\tvalid_0's rmse: 1595.51\n"
     ]
    },
    {
     "name": "stderr",
     "output_type": "stream",
     "text": [
      "[I 2024-05-28 18:25:04,103] Trial 67 finished with value: 1595.5053609022643 and parameters: {'num_leaves': 66, 'feature_fraction': 0.6000000000000001, 'bagging_fraction': 1.0, 'bagging_freq': 2}. Best is trial 12 with value: 1592.1266170572276.\n"
     ]
    },
    {
     "name": "stdout",
     "output_type": "stream",
     "text": [
      "Training until validation scores don't improve for 5 rounds\n",
      "Did not meet early stopping. Best iteration is:\n",
      "[100]\tvalid_0's rmse: 1592.52\n"
     ]
    },
    {
     "name": "stderr",
     "output_type": "stream",
     "text": [
      "[I 2024-05-28 18:25:12,013] Trial 68 finished with value: 1592.5130584891551 and parameters: {'num_leaves': 69, 'feature_fraction': 0.7000000000000001, 'bagging_fraction': 1.0, 'bagging_freq': 1}. Best is trial 12 with value: 1592.1266170572276.\n"
     ]
    },
    {
     "name": "stdout",
     "output_type": "stream",
     "text": [
      "Training until validation scores don't improve for 5 rounds\n",
      "Did not meet early stopping. Best iteration is:\n",
      "[100]\tvalid_0's rmse: 1601.13\n"
     ]
    },
    {
     "name": "stderr",
     "output_type": "stream",
     "text": [
      "[I 2024-05-28 18:25:23,907] Trial 69 finished with value: 1601.1341191735862 and parameters: {'num_leaves': 62, 'feature_fraction': 0.7000000000000001, 'bagging_fraction': 1.0, 'bagging_freq': 1}. Best is trial 12 with value: 1592.1266170572276.\n"
     ]
    },
    {
     "name": "stdout",
     "output_type": "stream",
     "text": [
      "Training until validation scores don't improve for 5 rounds\n",
      "Did not meet early stopping. Best iteration is:\n",
      "[100]\tvalid_0's rmse: 1634.03\n"
     ]
    },
    {
     "name": "stderr",
     "output_type": "stream",
     "text": [
      "[I 2024-05-28 18:25:31,916] Trial 70 finished with value: 1634.0295618514108 and parameters: {'num_leaves': 40, 'feature_fraction': 0.8, 'bagging_fraction': 1.0, 'bagging_freq': 1}. Best is trial 12 with value: 1592.1266170572276.\n"
     ]
    },
    {
     "name": "stdout",
     "output_type": "stream",
     "text": [
      "Training until validation scores don't improve for 5 rounds\n",
      "Did not meet early stopping. Best iteration is:\n",
      "[100]\tvalid_0's rmse: 1592.52\n"
     ]
    },
    {
     "name": "stderr",
     "output_type": "stream",
     "text": [
      "[I 2024-05-28 18:25:40,312] Trial 71 finished with value: 1592.5130584891551 and parameters: {'num_leaves': 69, 'feature_fraction': 0.7000000000000001, 'bagging_fraction': 1.0, 'bagging_freq': 2}. Best is trial 12 with value: 1592.1266170572276.\n"
     ]
    },
    {
     "name": "stdout",
     "output_type": "stream",
     "text": [
      "Training until validation scores don't improve for 5 rounds\n",
      "Did not meet early stopping. Best iteration is:\n",
      "[100]\tvalid_0's rmse: 1594.63\n"
     ]
    },
    {
     "name": "stderr",
     "output_type": "stream",
     "text": [
      "[I 2024-05-28 18:25:47,802] Trial 72 finished with value: 1594.6309401489655 and parameters: {'num_leaves': 66, 'feature_fraction': 0.7000000000000001, 'bagging_fraction': 1.0, 'bagging_freq': 1}. Best is trial 12 with value: 1592.1266170572276.\n"
     ]
    },
    {
     "name": "stdout",
     "output_type": "stream",
     "text": [
      "Training until validation scores don't improve for 5 rounds\n",
      "Did not meet early stopping. Best iteration is:\n",
      "[100]\tvalid_0's rmse: 1592.52\n"
     ]
    },
    {
     "name": "stderr",
     "output_type": "stream",
     "text": [
      "[I 2024-05-28 18:25:55,712] Trial 73 finished with value: 1592.5130584891551 and parameters: {'num_leaves': 69, 'feature_fraction': 0.7000000000000001, 'bagging_fraction': 1.0, 'bagging_freq': 2}. Best is trial 12 with value: 1592.1266170572276.\n"
     ]
    },
    {
     "name": "stdout",
     "output_type": "stream",
     "text": [
      "Training until validation scores don't improve for 5 rounds\n",
      "Did not meet early stopping. Best iteration is:\n",
      "[100]\tvalid_0's rmse: 1599.25\n"
     ]
    },
    {
     "name": "stderr",
     "output_type": "stream",
     "text": [
      "[I 2024-05-28 18:26:04,918] Trial 74 finished with value: 1599.2534896871725 and parameters: {'num_leaves': 64, 'feature_fraction': 0.7000000000000001, 'bagging_fraction': 1.0, 'bagging_freq': 2}. Best is trial 12 with value: 1592.1266170572276.\n"
     ]
    },
    {
     "name": "stdout",
     "output_type": "stream",
     "text": [
      "Training until validation scores don't improve for 5 rounds\n",
      "Did not meet early stopping. Best iteration is:\n",
      "[100]\tvalid_0's rmse: 1594.63\n"
     ]
    },
    {
     "name": "stderr",
     "output_type": "stream",
     "text": [
      "[I 2024-05-28 18:26:14,201] Trial 75 finished with value: 1594.6309401489655 and parameters: {'num_leaves': 66, 'feature_fraction': 0.7000000000000001, 'bagging_fraction': 1.0, 'bagging_freq': 2}. Best is trial 12 with value: 1592.1266170572276.\n"
     ]
    },
    {
     "name": "stdout",
     "output_type": "stream",
     "text": [
      "Training until validation scores don't improve for 5 rounds\n",
      "Did not meet early stopping. Best iteration is:\n",
      "[100]\tvalid_0's rmse: 1592.13\n"
     ]
    },
    {
     "name": "stderr",
     "output_type": "stream",
     "text": [
      "[I 2024-05-28 18:26:23,712] Trial 76 finished with value: 1592.1266170572276 and parameters: {'num_leaves': 69, 'feature_fraction': 0.8, 'bagging_fraction': 1.0, 'bagging_freq': 1}. Best is trial 12 with value: 1592.1266170572276.\n"
     ]
    },
    {
     "name": "stdout",
     "output_type": "stream",
     "text": [
      "Training until validation scores don't improve for 5 rounds\n",
      "Did not meet early stopping. Best iteration is:\n",
      "[100]\tvalid_0's rmse: 1611.96\n"
     ]
    },
    {
     "name": "stderr",
     "output_type": "stream",
     "text": [
      "[I 2024-05-28 18:26:34,515] Trial 77 finished with value: 1611.9584356312453 and parameters: {'num_leaves': 62, 'feature_fraction': 0.8, 'bagging_fraction': 0.5, 'bagging_freq': 1}. Best is trial 12 with value: 1592.1266170572276.\n"
     ]
    },
    {
     "name": "stdout",
     "output_type": "stream",
     "text": [
      "Training until validation scores don't improve for 5 rounds\n",
      "Did not meet early stopping. Best iteration is:\n",
      "[100]\tvalid_0's rmse: 1646.49\n"
     ]
    },
    {
     "name": "stderr",
     "output_type": "stream",
     "text": [
      "[I 2024-05-28 18:26:40,911] Trial 78 finished with value: 1646.4900282152398 and parameters: {'num_leaves': 34, 'feature_fraction': 0.8, 'bagging_fraction': 1.0, 'bagging_freq': 1}. Best is trial 12 with value: 1592.1266170572276.\n"
     ]
    },
    {
     "name": "stdout",
     "output_type": "stream",
     "text": [
      "Training until validation scores don't improve for 5 rounds\n",
      "Did not meet early stopping. Best iteration is:\n",
      "[100]\tvalid_0's rmse: 1592.13\n"
     ]
    },
    {
     "name": "stderr",
     "output_type": "stream",
     "text": [
      "[I 2024-05-28 18:26:49,214] Trial 79 finished with value: 1592.1266170572276 and parameters: {'num_leaves': 69, 'feature_fraction': 0.8, 'bagging_fraction': 1.0, 'bagging_freq': 2}. Best is trial 12 with value: 1592.1266170572276.\n"
     ]
    },
    {
     "name": "stdout",
     "output_type": "stream",
     "text": [
      "Training until validation scores don't improve for 5 rounds\n",
      "Did not meet early stopping. Best iteration is:\n",
      "[100]\tvalid_0's rmse: 1598.7\n"
     ]
    },
    {
     "name": "stderr",
     "output_type": "stream",
     "text": [
      "[I 2024-05-28 18:26:58,403] Trial 80 finished with value: 1598.6987703058917 and parameters: {'num_leaves': 59, 'feature_fraction': 0.8, 'bagging_fraction': 1.0, 'bagging_freq': 2}. Best is trial 12 with value: 1592.1266170572276.\n"
     ]
    },
    {
     "name": "stdout",
     "output_type": "stream",
     "text": [
      "Training until validation scores don't improve for 5 rounds\n",
      "Did not meet early stopping. Best iteration is:\n",
      "[100]\tvalid_0's rmse: 1592.13\n"
     ]
    },
    {
     "name": "stderr",
     "output_type": "stream",
     "text": [
      "[I 2024-05-28 18:27:06,106] Trial 81 finished with value: 1592.1266170572276 and parameters: {'num_leaves': 69, 'feature_fraction': 0.8, 'bagging_fraction': 1.0, 'bagging_freq': 1}. Best is trial 12 with value: 1592.1266170572276.\n"
     ]
    },
    {
     "name": "stdout",
     "output_type": "stream",
     "text": [
      "Training until validation scores don't improve for 5 rounds\n",
      "Did not meet early stopping. Best iteration is:\n",
      "[100]\tvalid_0's rmse: 1598.7\n"
     ]
    },
    {
     "name": "stderr",
     "output_type": "stream",
     "text": [
      "[I 2024-05-28 18:27:13,502] Trial 82 finished with value: 1598.6986024266646 and parameters: {'num_leaves': 67, 'feature_fraction': 0.9, 'bagging_fraction': 1.0, 'bagging_freq': 1}. Best is trial 12 with value: 1592.1266170572276.\n"
     ]
    },
    {
     "name": "stdout",
     "output_type": "stream",
     "text": [
      "Training until validation scores don't improve for 5 rounds\n",
      "Did not meet early stopping. Best iteration is:\n",
      "[100]\tvalid_0's rmse: 1592.13\n"
     ]
    },
    {
     "name": "stderr",
     "output_type": "stream",
     "text": [
      "[I 2024-05-28 18:27:23,115] Trial 83 finished with value: 1592.1266170572276 and parameters: {'num_leaves': 69, 'feature_fraction': 0.8, 'bagging_fraction': 1.0, 'bagging_freq': 1}. Best is trial 12 with value: 1592.1266170572276.\n"
     ]
    },
    {
     "name": "stdout",
     "output_type": "stream",
     "text": [
      "Training until validation scores don't improve for 5 rounds\n",
      "Did not meet early stopping. Best iteration is:\n",
      "[100]\tvalid_0's rmse: 1592.13\n"
     ]
    },
    {
     "name": "stderr",
     "output_type": "stream",
     "text": [
      "[I 2024-05-28 18:27:31,208] Trial 84 finished with value: 1592.1266170572276 and parameters: {'num_leaves': 69, 'feature_fraction': 0.8, 'bagging_fraction': 1.0, 'bagging_freq': 1}. Best is trial 12 with value: 1592.1266170572276.\n"
     ]
    },
    {
     "name": "stdout",
     "output_type": "stream",
     "text": [
      "Training until validation scores don't improve for 5 rounds\n",
      "Did not meet early stopping. Best iteration is:\n",
      "[100]\tvalid_0's rmse: 1597.68\n"
     ]
    },
    {
     "name": "stderr",
     "output_type": "stream",
     "text": [
      "[I 2024-05-28 18:27:39,013] Trial 85 finished with value: 1597.6821360994566 and parameters: {'num_leaves': 65, 'feature_fraction': 0.8, 'bagging_fraction': 1.0, 'bagging_freq': 1}. Best is trial 12 with value: 1592.1266170572276.\n"
     ]
    },
    {
     "name": "stdout",
     "output_type": "stream",
     "text": [
      "Training until validation scores don't improve for 5 rounds\n",
      "Did not meet early stopping. Best iteration is:\n",
      "[100]\tvalid_0's rmse: 1598.7\n"
     ]
    },
    {
     "name": "stderr",
     "output_type": "stream",
     "text": [
      "[I 2024-05-28 18:27:47,505] Trial 86 finished with value: 1598.6986024266646 and parameters: {'num_leaves': 67, 'feature_fraction': 0.9, 'bagging_fraction': 1.0, 'bagging_freq': 1}. Best is trial 12 with value: 1592.1266170572276.\n"
     ]
    },
    {
     "name": "stdout",
     "output_type": "stream",
     "text": [
      "Training until validation scores don't improve for 5 rounds\n",
      "Did not meet early stopping. Best iteration is:\n",
      "[100]\tvalid_0's rmse: 1598.17\n"
     ]
    },
    {
     "name": "stderr",
     "output_type": "stream",
     "text": [
      "[I 2024-05-28 18:27:55,910] Trial 87 finished with value: 1598.1723750227213 and parameters: {'num_leaves': 69, 'feature_fraction': 0.9, 'bagging_fraction': 0.9, 'bagging_freq': 1}. Best is trial 12 with value: 1592.1266170572276.\n"
     ]
    },
    {
     "name": "stdout",
     "output_type": "stream",
     "text": [
      "Training until validation scores don't improve for 5 rounds\n",
      "Did not meet early stopping. Best iteration is:\n",
      "[100]\tvalid_0's rmse: 1597.72\n"
     ]
    },
    {
     "name": "stderr",
     "output_type": "stream",
     "text": [
      "[I 2024-05-28 18:28:03,504] Trial 88 finished with value: 1597.7260086100948 and parameters: {'num_leaves': 64, 'feature_fraction': 0.8, 'bagging_fraction': 1.0, 'bagging_freq': 1}. Best is trial 12 with value: 1592.1266170572276.\n"
     ]
    },
    {
     "name": "stdout",
     "output_type": "stream",
     "text": [
      "Training until validation scores don't improve for 5 rounds\n",
      "Did not meet early stopping. Best iteration is:\n",
      "[100]\tvalid_0's rmse: 1617.44\n"
     ]
    },
    {
     "name": "stderr",
     "output_type": "stream",
     "text": [
      "[I 2024-05-28 18:28:11,001] Trial 89 finished with value: 1617.4431721605997 and parameters: {'num_leaves': 50, 'feature_fraction': 0.8, 'bagging_fraction': 0.9, 'bagging_freq': 1}. Best is trial 12 with value: 1592.1266170572276.\n"
     ]
    },
    {
     "name": "stdout",
     "output_type": "stream",
     "text": [
      "Training until validation scores don't improve for 5 rounds\n",
      "Did not meet early stopping. Best iteration is:\n",
      "[100]\tvalid_0's rmse: 1593.04\n"
     ]
    },
    {
     "name": "stderr",
     "output_type": "stream",
     "text": [
      "[I 2024-05-28 18:28:19,715] Trial 90 finished with value: 1593.0387792480678 and parameters: {'num_leaves': 68, 'feature_fraction': 0.8, 'bagging_fraction': 1.0, 'bagging_freq': 1}. Best is trial 12 with value: 1592.1266170572276.\n"
     ]
    },
    {
     "name": "stdout",
     "output_type": "stream",
     "text": [
      "Training until validation scores don't improve for 5 rounds\n",
      "Did not meet early stopping. Best iteration is:\n",
      "[100]\tvalid_0's rmse: 1592.13\n"
     ]
    },
    {
     "name": "stderr",
     "output_type": "stream",
     "text": [
      "[I 2024-05-28 18:28:27,713] Trial 91 finished with value: 1592.1266170572276 and parameters: {'num_leaves': 69, 'feature_fraction': 0.8, 'bagging_fraction': 1.0, 'bagging_freq': 2}. Best is trial 12 with value: 1592.1266170572276.\n"
     ]
    },
    {
     "name": "stdout",
     "output_type": "stream",
     "text": [
      "Training until validation scores don't improve for 5 rounds\n",
      "Did not meet early stopping. Best iteration is:\n",
      "[100]\tvalid_0's rmse: 1592.13\n"
     ]
    },
    {
     "name": "stderr",
     "output_type": "stream",
     "text": [
      "[I 2024-05-28 18:28:35,804] Trial 92 finished with value: 1592.1266170572276 and parameters: {'num_leaves': 69, 'feature_fraction': 0.8, 'bagging_fraction': 1.0, 'bagging_freq': 2}. Best is trial 12 with value: 1592.1266170572276.\n"
     ]
    },
    {
     "name": "stdout",
     "output_type": "stream",
     "text": [
      "Training until validation scores don't improve for 5 rounds\n",
      "Did not meet early stopping. Best iteration is:\n",
      "[100]\tvalid_0's rmse: 1595.58\n"
     ]
    },
    {
     "name": "stderr",
     "output_type": "stream",
     "text": [
      "[I 2024-05-28 18:28:43,506] Trial 93 finished with value: 1595.5824587398765 and parameters: {'num_leaves': 67, 'feature_fraction': 0.8, 'bagging_fraction': 1.0, 'bagging_freq': 2}. Best is trial 12 with value: 1592.1266170572276.\n"
     ]
    },
    {
     "name": "stdout",
     "output_type": "stream",
     "text": [
      "Training until validation scores don't improve for 5 rounds\n",
      "Did not meet early stopping. Best iteration is:\n",
      "[100]\tvalid_0's rmse: 1597.23\n"
     ]
    },
    {
     "name": "stderr",
     "output_type": "stream",
     "text": [
      "[I 2024-05-28 18:28:54,213] Trial 94 finished with value: 1597.226346640903 and parameters: {'num_leaves': 66, 'feature_fraction': 0.8, 'bagging_fraction': 1.0, 'bagging_freq': 1}. Best is trial 12 with value: 1592.1266170572276.\n"
     ]
    },
    {
     "name": "stdout",
     "output_type": "stream",
     "text": [
      "Training until validation scores don't improve for 5 rounds\n",
      "Did not meet early stopping. Best iteration is:\n",
      "[100]\tvalid_0's rmse: 1597.79\n"
     ]
    },
    {
     "name": "stderr",
     "output_type": "stream",
     "text": [
      "[I 2024-05-28 18:29:04,909] Trial 95 finished with value: 1597.7939959477567 and parameters: {'num_leaves': 69, 'feature_fraction': 0.8, 'bagging_fraction': 0.9, 'bagging_freq': 2}. Best is trial 12 with value: 1592.1266170572276.\n"
     ]
    },
    {
     "name": "stdout",
     "output_type": "stream",
     "text": [
      "Training until validation scores don't improve for 5 rounds\n",
      "Did not meet early stopping. Best iteration is:\n",
      "[100]\tvalid_0's rmse: 1595.58\n"
     ]
    },
    {
     "name": "stderr",
     "output_type": "stream",
     "text": [
      "[I 2024-05-28 18:29:13,213] Trial 96 finished with value: 1595.5824587398765 and parameters: {'num_leaves': 67, 'feature_fraction': 0.8, 'bagging_fraction': 1.0, 'bagging_freq': 1}. Best is trial 12 with value: 1592.1266170572276.\n"
     ]
    },
    {
     "name": "stdout",
     "output_type": "stream",
     "text": [
      "Training until validation scores don't improve for 5 rounds\n",
      "Did not meet early stopping. Best iteration is:\n",
      "[100]\tvalid_0's rmse: 1597.72\n"
     ]
    },
    {
     "name": "stderr",
     "output_type": "stream",
     "text": [
      "[I 2024-05-28 18:29:21,502] Trial 97 finished with value: 1597.7260086100948 and parameters: {'num_leaves': 64, 'feature_fraction': 0.8, 'bagging_fraction': 1.0, 'bagging_freq': 1}. Best is trial 12 with value: 1592.1266170572276.\n"
     ]
    },
    {
     "name": "stdout",
     "output_type": "stream",
     "text": [
      "Training until validation scores don't improve for 5 rounds\n",
      "Did not meet early stopping. Best iteration is:\n",
      "[100]\tvalid_0's rmse: 1598.92\n"
     ]
    },
    {
     "name": "stderr",
     "output_type": "stream",
     "text": [
      "[I 2024-05-28 18:29:29,315] Trial 98 finished with value: 1598.9257712780084 and parameters: {'num_leaves': 69, 'feature_fraction': 0.9, 'bagging_fraction': 1.0, 'bagging_freq': 2}. Best is trial 12 with value: 1592.1266170572276.\n"
     ]
    },
    {
     "name": "stdout",
     "output_type": "stream",
     "text": [
      "Training until validation scores don't improve for 5 rounds\n",
      "Did not meet early stopping. Best iteration is:\n",
      "[100]\tvalid_0's rmse: 1595.34\n"
     ]
    },
    {
     "name": "stderr",
     "output_type": "stream",
     "text": [
      "[I 2024-05-28 18:29:37,711] Trial 99 finished with value: 1595.3394412912357 and parameters: {'num_leaves': 68, 'feature_fraction': 0.8, 'bagging_fraction': 0.9, 'bagging_freq': 1}. Best is trial 12 with value: 1592.1266170572276.\n"
     ]
    },
    {
     "name": "stdout",
     "output_type": "stream",
     "text": [
      "Number of finished trials: 100\n",
      "Best trial:\n",
      "  Params: \n",
      "    num_leaves: 69\n",
      "    feature_fraction: 0.8\n",
      "    bagging_fraction: 1.0\n",
      "    bagging_freq: 3\n"
     ]
    }
   ],
   "source": [
    "#Разделим данные на на обучающую и валидационную выборки для модли бустинга.\n",
    "X_train_test, X_val_lgb, y_train_test, y_val_lgb = train_test_split(\n",
    "    df.drop([\"Price\"], axis=1),\n",
    "    df[\"Price\"],\n",
    "    test_size=0.2,\n",
    "    random_state=RANDOM_STATE\n",
    ")\n",
    "\n",
    "X_train_lgb, X_test_lgb, y_train_lgb, y_test_lgb = train_test_split(\n",
    "    X_train_test,\n",
    "    y_train_test,\n",
    "    test_size=0.2,\n",
    "    random_state=RANDOM_STATE\n",
    ")\n",
    "\n",
    "lgb_train = lgb.Dataset(X_train_lgb, label=y_train_lgb)\n",
    "lgb_val = lgb.Dataset(X_val_lgb, label=y_val_lgb, reference=lgb_train)\n",
    "\n",
    "#Проведем подбор гиперпараметров через optuna\n",
    "def objective(trial):\n",
    "    params = {\n",
    "         \"metric\": \"rmse\",\n",
    "         \"num_leaves\": trial.suggest_int(\"num_leaves\", 20, 70),\n",
    "         \"feature_fraction\": trial.suggest_float(\"feature_fraction\", 0.4, 1.0, step=0.1),\n",
    "         \"bagging_fraction\": trial.suggest_float(\"bagging_fraction\", 0.4, 1.0, step=0.1),\n",
    "         \"bagging_freq\": trial.suggest_int(\"bagging_freq\", 1, 7),\n",
    "         \"force_row_wise\": True,\n",
    "         \"verbose\": 0,\n",
    "         \"random_state\": RANDOM_STATE\n",
    "     }\n",
    "    \n",
    "    gbm = lgb.train(\n",
    "         params,\n",
    "         lgb_train,\n",
    "         valid_sets=[lgb_val], callbacks=[lgb.early_stopping(stopping_rounds=5)]\n",
    "     )\n",
    "     \n",
    "    preds = gbm.predict(X_val_lgb)\n",
    "    pred_labels = np.rint(preds)\n",
    "    rmse = root_mean_squared_error(y_val_lgb, pred_labels)\n",
    "    \n",
    "    return rmse\n",
    "\n",
    "\n",
    "study = optuna.create_study(direction=\"minimize\")\n",
    "study.optimize(objective, n_trials=100)\n",
    "\n",
    "print(f\"Number of finished trials: {len(study.trials)}\")\n",
    "\n",
    "print(f\"Best trial:\")\n",
    "trial = study.best_trial\n",
    "\n",
    "print(\"  Params: \")\n",
    "for key, value in trial.params.items():\n",
    "     print(f\"    {key}: {value}\")"
   ]
  },
  {
   "cell_type": "markdown",
   "metadata": {},
   "source": [
    "При помощи `optuna` поулчилось подобрать гиперпараметры, чтобы уменьшить метрику на этапе обучения. `RMSE`= 1592.12. Это ощутимое улучшение метрики. "
   ]
  },
  {
   "cell_type": "markdown",
   "metadata": {},
   "source": [
    "Мы обучили првоели подобор гиперпатметров для моедли бустинга, полдобрали оптимальную класическую модель и гиперпараметры к ней, опираясь на скоринг и метрику по `RMSE`.\n",
    "\n",
    "## Анализ моделей\n",
    "\n",
    "По работе на валидационной выборке оценим метрику и время для обученяи и предсказания, котоыре выдают модели."
   ]
  },
  {
   "cell_type": "code",
   "execution_count": 32,
   "metadata": {},
   "outputs": [
    {
     "name": "stdout",
     "output_type": "stream",
     "text": [
      "Метрика RMSE лучшей модели на валидационной выборке: 2,317.85.\n",
      "\n",
      " Время обучения лучшей модели: 0.17 мс.\n",
      "\n"
     ]
    }
   ],
   "source": [
    "# Обучим лучшую модель на валидацйионно выборке выборке\n",
    "model = grid_search.best_estimator_\n",
    "\n",
    "y_predict_val = model.predict(X_val)\n",
    "\n",
    "print(\n",
    "    f\"Метрика RMSE лучшей модели на валидационной выборке: \"\n",
    "    f\"{root_mean_squared_error(y_val, y_predict_val):,.2f}.\\n\\n\",\n",
    "    \n",
    "    f\"Время обучения лучшей модели: \"\n",
    "    f\"{abs(grid_search.cv_results_['mean_fit_time'][grid_search.best_index_]):,.2f} мс\",\n",
    "    end=\".\\n\\n\",\n",
    ")"
   ]
  },
  {
   "cell_type": "code",
   "execution_count": 33,
   "metadata": {},
   "outputs": [
    {
     "name": "stdout",
     "output_type": "stream",
     "text": [
      "Время предсказания лучшей модели: \n",
      "\n",
      " \n",
      "CPU times: user 13.2 ms, sys: 17 µs, total: 13.2 ms\n",
      "Wall time: 11.9 ms\n"
     ]
    }
   ],
   "source": [
    "%%time\n",
    "y_predict_val = model.predict(X_val)\n",
    "\n",
    "print(\n",
    "        f\"Время предсказания лучшей модели: \\n\\n \"\n",
    ")"
   ]
  },
  {
   "cell_type": "markdown",
   "metadata": {},
   "source": [
    "Обучение дерева решений и его предскзание заняли буквально мнгновение, что впечатляет. `RMSE` на валидационной выборке оказался 2,317.85\n",
    "Поосмтрим как справится бустинг."
   ]
  },
  {
   "cell_type": "code",
   "execution_count": 34,
   "metadata": {},
   "outputs": [
    {
     "name": "stdout",
     "output_type": "stream",
     "text": [
      "Training until validation scores don't improve for 5 rounds\n",
      "Did not meet early stopping. Best iteration is:\n",
      "[100]\tvalid_0's rmse: 1595.95\n",
      "CPU times: user 10.3 s, sys: 60.9 ms, total: 10.4 s\n",
      "Wall time: 10.3 s\n"
     ]
    }
   ],
   "source": [
    "%%time\n",
    "params = {\n",
    "    \"metric\": \"rmse\",\n",
    "    \"num_leaves\": 70,\n",
    "    \"feature_fraction\": 0.6,\n",
    "    \"bagging_fraction\": 0.9,\n",
    "    \"bagging_freq\": 3,\n",
    "    \"force_row_wise\": True,\n",
    "    \"verbose\": 0,\n",
    "    \"random_state\": RANDOM_STATE\n",
    "}\n",
    "\n",
    "evals_result={}\n",
    "\n",
    "model_lgb = lgb.train(\n",
    "    params,\n",
    "    lgb_train,\n",
    "    valid_sets=[lgb_val],\n",
    "    callbacks=[\n",
    "        lgb.early_stopping(stopping_rounds=5),\n",
    "        lgb.record_evaluation(evals_result)\n",
    "    ]\n",
    ")"
   ]
  },
  {
   "cell_type": "code",
   "execution_count": 35,
   "metadata": {},
   "outputs": [
    {
     "name": "stdout",
     "output_type": "stream",
     "text": [
      "Метрика RMSE лучшей модели на валидационной выборке: 1,595.95.\n",
      "\n",
      "CPU times: user 463 ms, sys: 3.26 ms, total: 467 ms\n",
      "Wall time: 497 ms\n"
     ]
    }
   ],
   "source": [
    "%%time\n",
    "y_predict_lgb_val = model_lgb.predict(\n",
    "    X_val_lgb,\n",
    "    num_iteration=model_lgb.best_iteration\n",
    ")\n",
    "\n",
    "print(\n",
    "    f\"Метрика RMSE лучшей модели на валидационной выборке: \"\n",
    "    f\"{root_mean_squared_error(y_val_lgb, y_predict_lgb_val):,.2f}\",\n",
    "    end=\".\\n\\n\",\n",
    ")"
   ]
  },
  {
   "cell_type": "markdown",
   "metadata": {},
   "source": [
    "При помощи `optuna` получилось подобрать гиперпараметры к модели таким образом, чтобы снизить ошибку. `RMSE`= 1,595.95. Это значительное улучшение метрики в сравнении с класичсеким деревом. Модель обучается значительно дольше, в разы. На нашей размерности данных это не критичная разница, если смотреть на абсолютные значения, но на бОльших данных это может иметь значение.\n",
    "\n",
    "Псольку время работы в абсолютных значениях занимает мало времни, и роли значительной разницы не имеет, то руководствуясь метрикой, которая ощутимо отличается, основим свой выбор на модели бустинга.\\\n",
    "Обучим модель на тестовых данных и взглянем на финальную метрику."
   ]
  },
  {
   "cell_type": "code",
   "execution_count": 36,
   "metadata": {},
   "outputs": [
    {
     "name": "stdout",
     "output_type": "stream",
     "text": [
      "Метрика RMSE лучшей модели на тестовой выборке: 1,607.60.\n",
      "\n",
      "CPU times: user 398 ms, sys: 0 ns, total: 398 ms\n",
      "Wall time: 486 ms\n"
     ]
    }
   ],
   "source": [
    "%%time\n",
    "y_predict = model_lgb.predict(\n",
    "    X_test_lgb,\n",
    "    num_iteration=model_lgb.best_iteration\n",
    ")\n",
    "\n",
    "print(\n",
    "    f\"Метрика RMSE лучшей модели на тестовой выборке: \"\n",
    "    f\"{root_mean_squared_error(y_test_lgb, y_predict):,.2f}\",\n",
    "    end=\".\\n\\n\",\n",
    ")"
   ]
  },
  {
   "cell_type": "markdown",
   "metadata": {},
   "source": [
    "Финальаня метрика на тестовых данных для лучией моедли, которой оказался градиентый бустинг 1,607.60."
   ]
  },
  {
   "cell_type": "markdown",
   "metadata": {},
   "source": [
    "По предскаазанию, как и обучению, схожая картина - классическая модель считает быстрее в разы, но в абсолютных значениях, в нашем случае не имеет большой разницы\n",
    "\n",
    "## Итоговые выводы\n",
    "\n",
    "Была посталвена задча по определнию рыночной стоимость автомобиля, на вход были данные с параметрами авто. При предсказании особое внимание удалялось таким критериям как: качество предсказания, время обучения модели, время предсказания модели.\n",
    "\n",
    "Провели стандартный EDA, в ходе которого исследовали параметры более подробно, обработав и прроанализироов, в некоторых из них отселки выбросы.\n",
    "\n",
    "На этапе кореляционного анализа првоерили данные на утечку целевого признака и мултиколенеарность. Выявили наиболее влияющие на цену паарметры (которые открытием не стали). \n",
    "\n",
    "Для обучения стандартных моделей выбрали деерво решений к которому перебирали гиперпарметры через `GridSearch` и линейную регрессию. Лушие результаты показало дерево.\n",
    "\n",
    "Для модели бутинга гиперпараметры подбирали через `optuna`, что заняло боьше времени, чем подобор гиперпаметров для обычной модели, зато получилось их подобрать достаточно точно и улучшить метрику.\n",
    "\n",
    "При анализе моделей на каждом этапе тенденция сохранлась, бустинг проводит вычисления дольше, но за счет этого получилось сократить метрику, что говорит об увлечении точности предсказаний модели. Самый долгий этап - подобор гипрепаметров проходит вне заказчика, абсолютные заначеняи времени на обучение и предсказания не велики, с учетом того и значителнього улучшения метрики, бустинг - лучшая модель в данном случае."
   ]
  }
 ],
 "metadata": {
  "ExecuteTimeLog": [
   {
    "duration": 5238,
    "start_time": "2024-04-15T17:37:37.571Z"
   },
   {
    "duration": 153,
    "start_time": "2024-04-15T17:37:42.812Z"
   },
   {
    "duration": 1240,
    "start_time": "2024-04-15T17:38:07.984Z"
   },
   {
    "duration": 157,
    "start_time": "2024-04-15T17:38:35.256Z"
   },
   {
    "duration": 167,
    "start_time": "2024-04-15T17:38:58.401Z"
   },
   {
    "duration": 248,
    "start_time": "2024-04-15T19:03:39.924Z"
   },
   {
    "duration": 146,
    "start_time": "2024-04-15T19:03:46.704Z"
   },
   {
    "duration": 385,
    "start_time": "2024-04-15T19:06:41.214Z"
   },
   {
    "duration": 13,
    "start_time": "2024-04-15T19:07:35.593Z"
   },
   {
    "duration": 377,
    "start_time": "2024-04-15T19:07:43.090Z"
   },
   {
    "duration": 753,
    "start_time": "2024-04-15T19:07:48.970Z"
   },
   {
    "duration": 11,
    "start_time": "2024-04-15T19:17:09.755Z"
   },
   {
    "duration": 3,
    "start_time": "2024-04-15T19:17:12.127Z"
   },
   {
    "duration": 11,
    "start_time": "2024-04-15T19:17:12.376Z"
   },
   {
    "duration": 4,
    "start_time": "2024-04-15T19:17:23.943Z"
   },
   {
    "duration": 10,
    "start_time": "2024-04-15T19:17:24.145Z"
   },
   {
    "duration": 4,
    "start_time": "2024-04-15T19:17:29.110Z"
   },
   {
    "duration": 9,
    "start_time": "2024-04-15T19:17:29.671Z"
   },
   {
    "duration": 4,
    "start_time": "2024-04-15T19:18:03.307Z"
   },
   {
    "duration": 9,
    "start_time": "2024-04-15T19:18:03.559Z"
   },
   {
    "duration": 204,
    "start_time": "2024-04-15T19:18:32.633Z"
   },
   {
    "duration": 12,
    "start_time": "2024-04-15T19:18:44.578Z"
   },
   {
    "duration": 11,
    "start_time": "2024-04-15T19:18:46.546Z"
   },
   {
    "duration": 3,
    "start_time": "2024-04-15T19:18:48.811Z"
   },
   {
    "duration": 21,
    "start_time": "2024-04-15T19:18:48.816Z"
   },
   {
    "duration": 3,
    "start_time": "2024-04-15T19:18:51.635Z"
   },
   {
    "duration": 9,
    "start_time": "2024-04-15T19:18:51.855Z"
   },
   {
    "duration": 1512,
    "start_time": "2024-04-15T19:18:57.510Z"
   },
   {
    "duration": 3,
    "start_time": "2024-04-15T19:19:07.778Z"
   },
   {
    "duration": 1327,
    "start_time": "2024-04-15T19:19:08.355Z"
   },
   {
    "duration": 9,
    "start_time": "2024-04-15T19:19:13.639Z"
   },
   {
    "duration": 1289,
    "start_time": "2024-04-15T19:19:18.752Z"
   },
   {
    "duration": 4,
    "start_time": "2024-04-15T19:19:28.804Z"
   },
   {
    "duration": 187,
    "start_time": "2024-04-15T19:19:28.982Z"
   },
   {
    "duration": 118,
    "start_time": "2024-04-15T19:26:40.839Z"
   },
   {
    "duration": 88,
    "start_time": "2024-04-15T19:26:52.160Z"
   },
   {
    "duration": 84,
    "start_time": "2024-04-15T19:27:39.906Z"
   },
   {
    "duration": 3587,
    "start_time": "2024-04-15T19:28:05.082Z"
   },
   {
    "duration": 154,
    "start_time": "2024-04-15T19:28:29.061Z"
   },
   {
    "duration": 164,
    "start_time": "2024-04-15T19:28:44.055Z"
   },
   {
    "duration": 676,
    "start_time": "2024-04-15T19:31:09.894Z"
   },
   {
    "duration": 111,
    "start_time": "2024-04-15T19:34:34.157Z"
   },
   {
    "duration": 905,
    "start_time": "2024-04-15T19:34:53.438Z"
   },
   {
    "duration": 172,
    "start_time": "2024-04-15T19:34:59.340Z"
   },
   {
    "duration": 4804,
    "start_time": "2024-05-16T18:53:16.825Z"
   },
   {
    "duration": 1015,
    "start_time": "2024-05-16T18:53:21.631Z"
   },
   {
    "duration": 142,
    "start_time": "2024-05-16T18:53:22.647Z"
   },
   {
    "duration": 151,
    "start_time": "2024-05-16T18:53:22.794Z"
   },
   {
    "duration": 295,
    "start_time": "2024-05-16T18:53:22.946Z"
   },
   {
    "duration": 598,
    "start_time": "2024-05-16T18:53:23.242Z"
   },
   {
    "duration": 4,
    "start_time": "2024-05-16T18:53:23.841Z"
   },
   {
    "duration": 149,
    "start_time": "2024-05-16T18:53:23.846Z"
   },
   {
    "duration": 96,
    "start_time": "2024-05-16T18:53:23.997Z"
   },
   {
    "duration": 130,
    "start_time": "2024-05-16T18:53:24.095Z"
   },
   {
    "duration": 598,
    "start_time": "2024-05-16T18:53:24.227Z"
   },
   {
    "duration": 105,
    "start_time": "2024-05-16T18:53:24.827Z"
   },
   {
    "duration": 4,
    "start_time": "2024-05-16T18:53:24.933Z"
   },
   {
    "duration": 1233,
    "start_time": "2024-05-16T19:20:24.556Z"
   },
   {
    "duration": 673,
    "start_time": "2024-05-16T19:20:25.791Z"
   },
   {
    "duration": 128,
    "start_time": "2024-05-16T19:20:26.465Z"
   },
   {
    "duration": 156,
    "start_time": "2024-05-16T19:20:26.595Z"
   },
   {
    "duration": 305,
    "start_time": "2024-05-16T19:20:26.752Z"
   },
   {
    "duration": 569,
    "start_time": "2024-05-16T19:20:27.058Z"
   },
   {
    "duration": 3,
    "start_time": "2024-05-16T19:20:27.629Z"
   },
   {
    "duration": 161,
    "start_time": "2024-05-16T19:20:27.633Z"
   },
   {
    "duration": 94,
    "start_time": "2024-05-16T19:20:27.796Z"
   },
   {
    "duration": 136,
    "start_time": "2024-05-16T19:20:27.892Z"
   },
   {
    "duration": 540,
    "start_time": "2024-05-16T19:20:28.029Z"
   },
   {
    "duration": 87,
    "start_time": "2024-05-16T19:20:28.571Z"
   },
   {
    "duration": 3,
    "start_time": "2024-05-16T19:20:28.659Z"
   },
   {
    "duration": 432,
    "start_time": "2024-05-16T19:20:28.663Z"
   },
   {
    "duration": 105,
    "start_time": "2024-05-16T19:26:09.158Z"
   },
   {
    "duration": 8,
    "start_time": "2024-05-16T19:30:19.299Z"
   },
   {
    "duration": 51,
    "start_time": "2024-05-16T19:31:54.273Z"
   },
   {
    "duration": 7,
    "start_time": "2024-05-16T19:32:00.231Z"
   },
   {
    "duration": 8,
    "start_time": "2024-05-16T19:54:32.133Z"
   },
   {
    "duration": 55,
    "start_time": "2024-05-16T19:54:41.936Z"
   },
   {
    "duration": 5,
    "start_time": "2024-05-16T19:56:06.362Z"
   },
   {
    "duration": 5,
    "start_time": "2024-05-16T19:56:14.422Z"
   },
   {
    "duration": 6,
    "start_time": "2024-05-16T19:56:18.767Z"
   },
   {
    "duration": 8,
    "start_time": "2024-05-16T19:56:50.046Z"
   },
   {
    "duration": 9,
    "start_time": "2024-05-16T19:57:16.269Z"
   },
   {
    "duration": 71,
    "start_time": "2024-05-16T19:57:25.730Z"
   },
   {
    "duration": 6,
    "start_time": "2024-05-16T19:57:36.594Z"
   },
   {
    "duration": 674,
    "start_time": "2024-05-16T19:57:36.602Z"
   },
   {
    "duration": 122,
    "start_time": "2024-05-16T19:57:37.277Z"
   },
   {
    "duration": 151,
    "start_time": "2024-05-16T19:57:37.400Z"
   },
   {
    "duration": 309,
    "start_time": "2024-05-16T19:57:37.552Z"
   },
   {
    "duration": 595,
    "start_time": "2024-05-16T19:57:37.862Z"
   },
   {
    "duration": 3,
    "start_time": "2024-05-16T19:57:38.458Z"
   },
   {
    "duration": 140,
    "start_time": "2024-05-16T19:57:38.463Z"
   },
   {
    "duration": 93,
    "start_time": "2024-05-16T19:57:38.604Z"
   },
   {
    "duration": 125,
    "start_time": "2024-05-16T19:57:38.699Z"
   },
   {
    "duration": 476,
    "start_time": "2024-05-16T19:57:38.825Z"
   },
   {
    "duration": 94,
    "start_time": "2024-05-16T19:57:39.302Z"
   },
   {
    "duration": 4,
    "start_time": "2024-05-16T19:57:39.397Z"
   },
   {
    "duration": 452,
    "start_time": "2024-05-16T19:57:39.402Z"
   },
   {
    "duration": 7,
    "start_time": "2024-05-16T19:57:39.856Z"
   },
   {
    "duration": 0,
    "start_time": "2024-05-16T19:57:39.864Z"
   },
   {
    "duration": 29,
    "start_time": "2024-05-16T20:05:37.181Z"
   },
   {
    "duration": 18,
    "start_time": "2024-05-16T20:05:41.600Z"
   },
   {
    "duration": 17,
    "start_time": "2024-05-16T20:06:16.344Z"
   },
   {
    "duration": 11,
    "start_time": "2024-05-16T20:06:35.581Z"
   },
   {
    "duration": 931,
    "start_time": "2024-05-16T20:07:28.284Z"
   },
   {
    "duration": 405,
    "start_time": "2024-05-16T20:08:07.722Z"
   },
   {
    "duration": 5356,
    "start_time": "2024-05-17T15:36:33.656Z"
   },
   {
    "duration": 1289,
    "start_time": "2024-05-17T15:36:39.015Z"
   },
   {
    "duration": 179,
    "start_time": "2024-05-17T15:36:40.306Z"
   },
   {
    "duration": 225,
    "start_time": "2024-05-17T15:36:40.486Z"
   },
   {
    "duration": 400,
    "start_time": "2024-05-17T15:36:40.714Z"
   },
   {
    "duration": 807,
    "start_time": "2024-05-17T15:36:41.116Z"
   },
   {
    "duration": 4,
    "start_time": "2024-05-17T15:36:41.925Z"
   },
   {
    "duration": 203,
    "start_time": "2024-05-17T15:36:41.930Z"
   },
   {
    "duration": 132,
    "start_time": "2024-05-17T15:36:42.134Z"
   },
   {
    "duration": 169,
    "start_time": "2024-05-17T15:36:42.268Z"
   },
   {
    "duration": 745,
    "start_time": "2024-05-17T15:36:42.439Z"
   },
   {
    "duration": 129,
    "start_time": "2024-05-17T15:36:43.185Z"
   },
   {
    "duration": 5,
    "start_time": "2024-05-17T15:36:43.315Z"
   },
   {
    "duration": 636,
    "start_time": "2024-05-17T15:36:43.322Z"
   },
   {
    "duration": 44,
    "start_time": "2024-05-17T15:36:43.960Z"
   },
   {
    "duration": 495,
    "start_time": "2024-05-17T15:36:44.006Z"
   },
   {
    "duration": 555,
    "start_time": "2024-05-17T15:36:44.503Z"
   },
   {
    "duration": 23,
    "start_time": "2024-05-17T15:36:45.059Z"
   },
   {
    "duration": 550,
    "start_time": "2024-05-17T15:39:20.993Z"
   },
   {
    "duration": 4,
    "start_time": "2024-05-17T15:39:59.591Z"
   },
   {
    "duration": 398,
    "start_time": "2024-05-17T15:40:05.547Z"
   },
   {
    "duration": 4,
    "start_time": "2024-05-17T15:40:19.818Z"
   },
   {
    "duration": 500,
    "start_time": "2024-05-17T15:40:20.455Z"
   },
   {
    "duration": 1585,
    "start_time": "2024-05-17T15:40:31.781Z"
   },
   {
    "duration": 1035,
    "start_time": "2024-05-17T15:40:33.368Z"
   },
   {
    "duration": 241,
    "start_time": "2024-05-17T15:40:34.405Z"
   },
   {
    "duration": 241,
    "start_time": "2024-05-17T15:40:34.648Z"
   },
   {
    "duration": 469,
    "start_time": "2024-05-17T15:40:34.891Z"
   },
   {
    "duration": 814,
    "start_time": "2024-05-17T15:40:35.362Z"
   },
   {
    "duration": 4,
    "start_time": "2024-05-17T15:40:36.178Z"
   },
   {
    "duration": 198,
    "start_time": "2024-05-17T15:40:36.184Z"
   },
   {
    "duration": 122,
    "start_time": "2024-05-17T15:40:36.384Z"
   },
   {
    "duration": 178,
    "start_time": "2024-05-17T15:40:36.508Z"
   },
   {
    "duration": 749,
    "start_time": "2024-05-17T15:40:36.688Z"
   },
   {
    "duration": 126,
    "start_time": "2024-05-17T15:40:37.439Z"
   },
   {
    "duration": 13,
    "start_time": "2024-05-17T15:40:37.567Z"
   },
   {
    "duration": 609,
    "start_time": "2024-05-17T15:40:37.584Z"
   },
   {
    "duration": 38,
    "start_time": "2024-05-17T15:40:38.195Z"
   },
   {
    "duration": 548,
    "start_time": "2024-05-17T15:40:38.235Z"
   },
   {
    "duration": 574,
    "start_time": "2024-05-17T15:40:38.785Z"
   },
   {
    "duration": 48,
    "start_time": "2024-05-17T15:40:39.361Z"
   },
   {
    "duration": 488,
    "start_time": "2024-05-17T15:40:39.411Z"
   },
   {
    "duration": 15,
    "start_time": "2024-05-17T15:40:39.901Z"
   },
   {
    "duration": 26,
    "start_time": "2024-05-17T15:41:29.168Z"
   },
   {
    "duration": 538,
    "start_time": "2024-05-17T15:41:29.426Z"
   },
   {
    "duration": 1485,
    "start_time": "2024-05-17T15:42:30.099Z"
   },
   {
    "duration": 1001,
    "start_time": "2024-05-17T15:42:31.586Z"
   },
   {
    "duration": 185,
    "start_time": "2024-05-17T15:42:32.589Z"
   },
   {
    "duration": 223,
    "start_time": "2024-05-17T15:42:32.775Z"
   },
   {
    "duration": 389,
    "start_time": "2024-05-17T15:42:33.001Z"
   },
   {
    "duration": 749,
    "start_time": "2024-05-17T15:42:33.392Z"
   },
   {
    "duration": 4,
    "start_time": "2024-05-17T15:42:34.143Z"
   },
   {
    "duration": 306,
    "start_time": "2024-05-17T15:42:34.148Z"
   },
   {
    "duration": 136,
    "start_time": "2024-05-17T15:42:34.456Z"
   },
   {
    "duration": 185,
    "start_time": "2024-05-17T15:42:34.594Z"
   },
   {
    "duration": 762,
    "start_time": "2024-05-17T15:42:34.782Z"
   },
   {
    "duration": 138,
    "start_time": "2024-05-17T15:42:35.546Z"
   },
   {
    "duration": 5,
    "start_time": "2024-05-17T15:42:35.686Z"
   },
   {
    "duration": 596,
    "start_time": "2024-05-17T15:42:35.694Z"
   },
   {
    "duration": 33,
    "start_time": "2024-05-17T15:42:36.292Z"
   },
   {
    "duration": 521,
    "start_time": "2024-05-17T15:42:36.327Z"
   },
   {
    "duration": 530,
    "start_time": "2024-05-17T15:42:36.850Z"
   },
   {
    "duration": 32,
    "start_time": "2024-05-17T15:42:37.382Z"
   },
   {
    "duration": 486,
    "start_time": "2024-05-17T15:42:37.416Z"
   },
   {
    "duration": 14,
    "start_time": "2024-05-17T15:42:37.903Z"
   },
   {
    "duration": 582,
    "start_time": "2024-05-17T15:44:05.610Z"
   },
   {
    "duration": 479,
    "start_time": "2024-05-17T15:47:48.306Z"
   },
   {
    "duration": 429,
    "start_time": "2024-05-17T15:47:55.546Z"
   },
   {
    "duration": 51,
    "start_time": "2024-05-17T15:50:48.805Z"
   },
   {
    "duration": 183,
    "start_time": "2024-05-17T15:55:28.852Z"
   },
   {
    "duration": 65,
    "start_time": "2024-05-17T15:57:23.598Z"
   },
   {
    "duration": 89,
    "start_time": "2024-05-17T15:57:30.920Z"
   },
   {
    "duration": 58,
    "start_time": "2024-05-17T17:13:10.900Z"
   },
   {
    "duration": 1478,
    "start_time": "2024-05-17T17:13:18.848Z"
   },
   {
    "duration": 973,
    "start_time": "2024-05-17T17:13:20.329Z"
   },
   {
    "duration": 187,
    "start_time": "2024-05-17T17:13:21.303Z"
   },
   {
    "duration": 297,
    "start_time": "2024-05-17T17:13:21.491Z"
   },
   {
    "duration": 193,
    "start_time": "2024-05-17T17:13:21.791Z"
   },
   {
    "duration": 327,
    "start_time": "2024-05-17T17:13:21.986Z"
   },
   {
    "duration": 633,
    "start_time": "2024-05-17T17:13:22.315Z"
   },
   {
    "duration": 3,
    "start_time": "2024-05-17T17:13:22.950Z"
   },
   {
    "duration": 184,
    "start_time": "2024-05-17T17:13:22.955Z"
   },
   {
    "duration": 119,
    "start_time": "2024-05-17T17:13:23.140Z"
   },
   {
    "duration": 165,
    "start_time": "2024-05-17T17:13:23.261Z"
   },
   {
    "duration": 741,
    "start_time": "2024-05-17T17:13:23.428Z"
   },
   {
    "duration": 131,
    "start_time": "2024-05-17T17:13:24.171Z"
   },
   {
    "duration": 5,
    "start_time": "2024-05-17T17:13:24.305Z"
   },
   {
    "duration": 598,
    "start_time": "2024-05-17T17:13:24.311Z"
   },
   {
    "duration": 28,
    "start_time": "2024-05-17T17:13:24.910Z"
   },
   {
    "duration": 566,
    "start_time": "2024-05-17T17:13:24.939Z"
   },
   {
    "duration": 26,
    "start_time": "2024-05-17T17:13:25.506Z"
   },
   {
    "duration": 531,
    "start_time": "2024-05-17T17:13:25.533Z"
   },
   {
    "duration": 37,
    "start_time": "2024-05-17T17:13:26.066Z"
   },
   {
    "duration": 596,
    "start_time": "2024-05-17T17:13:26.105Z"
   },
   {
    "duration": 50,
    "start_time": "2024-05-17T17:24:30.485Z"
   },
   {
    "duration": 1603,
    "start_time": "2024-05-17T17:24:43.044Z"
   },
   {
    "duration": 1546,
    "start_time": "2024-05-17T17:24:44.649Z"
   },
   {
    "duration": 310,
    "start_time": "2024-05-17T17:24:46.196Z"
   },
   {
    "duration": 433,
    "start_time": "2024-05-17T17:24:46.508Z"
   },
   {
    "duration": 191,
    "start_time": "2024-05-17T17:24:46.943Z"
   },
   {
    "duration": 312,
    "start_time": "2024-05-17T17:24:47.135Z"
   },
   {
    "duration": 596,
    "start_time": "2024-05-17T17:24:47.449Z"
   },
   {
    "duration": 4,
    "start_time": "2024-05-17T17:24:48.046Z"
   },
   {
    "duration": 228,
    "start_time": "2024-05-17T17:24:48.052Z"
   },
   {
    "duration": 128,
    "start_time": "2024-05-17T17:24:48.283Z"
   },
   {
    "duration": 170,
    "start_time": "2024-05-17T17:24:48.413Z"
   },
   {
    "duration": 751,
    "start_time": "2024-05-17T17:24:48.585Z"
   },
   {
    "duration": 126,
    "start_time": "2024-05-17T17:24:49.337Z"
   },
   {
    "duration": 15,
    "start_time": "2024-05-17T17:24:49.465Z"
   },
   {
    "duration": 539,
    "start_time": "2024-05-17T17:24:49.482Z"
   },
   {
    "duration": 25,
    "start_time": "2024-05-17T17:24:50.023Z"
   },
   {
    "duration": 530,
    "start_time": "2024-05-17T17:24:50.050Z"
   },
   {
    "duration": 25,
    "start_time": "2024-05-17T17:24:50.582Z"
   },
   {
    "duration": 516,
    "start_time": "2024-05-17T17:24:50.609Z"
   },
   {
    "duration": 26,
    "start_time": "2024-05-17T17:24:51.127Z"
   },
   {
    "duration": 574,
    "start_time": "2024-05-17T17:24:51.154Z"
   },
   {
    "duration": 15,
    "start_time": "2024-05-17T17:24:51.730Z"
   },
   {
    "duration": 171,
    "start_time": "2024-05-17T17:25:37.206Z"
   },
   {
    "duration": 685,
    "start_time": "2024-05-17T17:28:47.102Z"
   },
   {
    "duration": 544,
    "start_time": "2024-05-17T17:29:17.255Z"
   },
   {
    "duration": 1417,
    "start_time": "2024-05-17T17:29:42.228Z"
   },
   {
    "duration": 894,
    "start_time": "2024-05-17T17:29:43.647Z"
   },
   {
    "duration": 200,
    "start_time": "2024-05-17T17:29:44.543Z"
   },
   {
    "duration": 2,
    "start_time": "2024-05-17T17:29:44.745Z"
   },
   {
    "duration": 305,
    "start_time": "2024-05-17T17:29:44.750Z"
   },
   {
    "duration": 392,
    "start_time": "2024-05-17T17:29:45.057Z"
   },
   {
    "duration": 704,
    "start_time": "2024-05-17T17:29:45.450Z"
   },
   {
    "duration": 4,
    "start_time": "2024-05-17T17:29:46.155Z"
   },
   {
    "duration": 191,
    "start_time": "2024-05-17T17:29:46.160Z"
   },
   {
    "duration": 119,
    "start_time": "2024-05-17T17:29:46.352Z"
   },
   {
    "duration": 174,
    "start_time": "2024-05-17T17:29:46.480Z"
   },
   {
    "duration": 698,
    "start_time": "2024-05-17T17:29:46.656Z"
   },
   {
    "duration": 127,
    "start_time": "2024-05-17T17:29:47.355Z"
   },
   {
    "duration": 5,
    "start_time": "2024-05-17T17:29:47.485Z"
   },
   {
    "duration": 548,
    "start_time": "2024-05-17T17:29:47.492Z"
   },
   {
    "duration": 42,
    "start_time": "2024-05-17T17:29:48.041Z"
   },
   {
    "duration": 505,
    "start_time": "2024-05-17T17:29:48.085Z"
   },
   {
    "duration": 38,
    "start_time": "2024-05-17T17:29:48.591Z"
   },
   {
    "duration": 509,
    "start_time": "2024-05-17T17:29:48.631Z"
   },
   {
    "duration": 39,
    "start_time": "2024-05-17T17:29:49.142Z"
   },
   {
    "duration": 599,
    "start_time": "2024-05-17T17:29:49.182Z"
   },
   {
    "duration": 819,
    "start_time": "2024-05-17T17:29:49.783Z"
   },
   {
    "duration": 0,
    "start_time": "2024-05-17T17:29:50.603Z"
   },
   {
    "duration": 14,
    "start_time": "2024-05-17T17:32:55.840Z"
   },
   {
    "duration": 10,
    "start_time": "2024-05-17T17:33:40.430Z"
   },
   {
    "duration": 23,
    "start_time": "2024-05-17T17:33:45.367Z"
   },
   {
    "duration": 6084,
    "start_time": "2024-05-17T17:33:56.908Z"
   },
   {
    "duration": 6116,
    "start_time": "2024-05-17T17:34:15.199Z"
   },
   {
    "duration": 13,
    "start_time": "2024-05-17T17:37:16.571Z"
   },
   {
    "duration": 5955,
    "start_time": "2024-05-17T19:24:17.283Z"
   },
   {
    "duration": 12,
    "start_time": "2024-05-17T19:27:44.470Z"
   },
   {
    "duration": 5051,
    "start_time": "2024-05-20T17:02:50.900Z"
   },
   {
    "duration": 115,
    "start_time": "2024-05-20T18:33:28.308Z"
   },
   {
    "duration": 0,
    "start_time": "2024-05-20T18:33:28.426Z"
   },
   {
    "duration": 0,
    "start_time": "2024-05-20T18:33:28.427Z"
   },
   {
    "duration": 0,
    "start_time": "2024-05-20T18:33:28.428Z"
   },
   {
    "duration": 0,
    "start_time": "2024-05-20T18:33:28.429Z"
   },
   {
    "duration": 0,
    "start_time": "2024-05-20T18:33:28.430Z"
   },
   {
    "duration": 0,
    "start_time": "2024-05-20T18:33:28.432Z"
   },
   {
    "duration": 0,
    "start_time": "2024-05-20T18:33:28.433Z"
   },
   {
    "duration": 0,
    "start_time": "2024-05-20T18:33:28.434Z"
   },
   {
    "duration": 0,
    "start_time": "2024-05-20T18:33:28.435Z"
   },
   {
    "duration": 0,
    "start_time": "2024-05-20T18:33:28.436Z"
   },
   {
    "duration": 0,
    "start_time": "2024-05-20T18:33:28.438Z"
   },
   {
    "duration": 0,
    "start_time": "2024-05-20T18:33:28.439Z"
   },
   {
    "duration": 0,
    "start_time": "2024-05-20T18:33:28.440Z"
   },
   {
    "duration": 0,
    "start_time": "2024-05-20T18:33:28.442Z"
   },
   {
    "duration": 0,
    "start_time": "2024-05-20T18:33:28.443Z"
   },
   {
    "duration": 0,
    "start_time": "2024-05-20T18:33:28.444Z"
   },
   {
    "duration": 0,
    "start_time": "2024-05-20T18:33:28.445Z"
   },
   {
    "duration": 0,
    "start_time": "2024-05-20T18:33:28.446Z"
   },
   {
    "duration": 0,
    "start_time": "2024-05-20T18:33:28.448Z"
   },
   {
    "duration": 0,
    "start_time": "2024-05-20T18:33:28.449Z"
   },
   {
    "duration": 0,
    "start_time": "2024-05-20T18:33:28.450Z"
   },
   {
    "duration": 0,
    "start_time": "2024-05-20T18:33:28.494Z"
   },
   {
    "duration": 0,
    "start_time": "2024-05-20T18:33:28.496Z"
   },
   {
    "duration": 1,
    "start_time": "2024-05-20T18:33:28.496Z"
   },
   {
    "duration": 0,
    "start_time": "2024-05-20T18:33:28.498Z"
   },
   {
    "duration": 0,
    "start_time": "2024-05-20T18:33:28.499Z"
   },
   {
    "duration": 0,
    "start_time": "2024-05-20T18:33:28.501Z"
   },
   {
    "duration": 12,
    "start_time": "2024-05-20T18:34:30.520Z"
   },
   {
    "duration": 11,
    "start_time": "2024-05-20T18:35:50.506Z"
   },
   {
    "duration": 15,
    "start_time": "2024-05-20T18:36:37.432Z"
   },
   {
    "duration": 3161,
    "start_time": "2024-05-20T18:37:42.985Z"
   },
   {
    "duration": 6,
    "start_time": "2024-05-20T18:37:55.174Z"
   },
   {
    "duration": 5,
    "start_time": "2024-05-20T18:38:04.774Z"
   },
   {
    "duration": 5,
    "start_time": "2024-05-20T18:38:22.508Z"
   },
   {
    "duration": 1146,
    "start_time": "2024-05-20T18:38:22.515Z"
   },
   {
    "duration": 152,
    "start_time": "2024-05-20T18:38:23.662Z"
   },
   {
    "duration": 4,
    "start_time": "2024-05-20T18:38:23.817Z"
   },
   {
    "duration": 179,
    "start_time": "2024-05-20T18:38:23.823Z"
   },
   {
    "duration": 332,
    "start_time": "2024-05-20T18:38:24.003Z"
   },
   {
    "duration": 674,
    "start_time": "2024-05-20T18:38:24.336Z"
   },
   {
    "duration": 3,
    "start_time": "2024-05-20T18:38:25.012Z"
   },
   {
    "duration": 181,
    "start_time": "2024-05-20T18:38:25.017Z"
   },
   {
    "duration": 105,
    "start_time": "2024-05-20T18:38:25.200Z"
   },
   {
    "duration": 234,
    "start_time": "2024-05-20T18:38:25.306Z"
   },
   {
    "duration": 609,
    "start_time": "2024-05-20T18:38:25.541Z"
   },
   {
    "duration": 102,
    "start_time": "2024-05-20T18:38:26.152Z"
   },
   {
    "duration": 4,
    "start_time": "2024-05-20T18:38:26.256Z"
   },
   {
    "duration": 483,
    "start_time": "2024-05-20T18:38:26.261Z"
   },
   {
    "duration": 29,
    "start_time": "2024-05-20T18:38:26.745Z"
   },
   {
    "duration": 434,
    "start_time": "2024-05-20T18:38:26.776Z"
   },
   {
    "duration": 29,
    "start_time": "2024-05-20T18:38:27.211Z"
   },
   {
    "duration": 528,
    "start_time": "2024-05-20T18:38:27.242Z"
   },
   {
    "duration": 37,
    "start_time": "2024-05-20T18:38:27.771Z"
   },
   {
    "duration": 498,
    "start_time": "2024-05-20T18:38:27.810Z"
   },
   {
    "duration": 25,
    "start_time": "2024-05-20T18:38:28.309Z"
   },
   {
    "duration": 6041,
    "start_time": "2024-05-20T18:38:28.335Z"
   },
   {
    "duration": 20,
    "start_time": "2024-05-20T18:38:34.378Z"
   },
   {
    "duration": 29,
    "start_time": "2024-05-20T18:38:34.399Z"
   },
   {
    "duration": 182,
    "start_time": "2024-05-20T18:38:34.430Z"
   },
   {
    "duration": 0,
    "start_time": "2024-05-20T18:38:34.613Z"
   },
   {
    "duration": 0,
    "start_time": "2024-05-20T18:38:34.615Z"
   },
   {
    "duration": 11,
    "start_time": "2024-05-20T18:39:34.095Z"
   },
   {
    "duration": 11,
    "start_time": "2024-05-20T18:39:40.268Z"
   },
   {
    "duration": 11,
    "start_time": "2024-05-20T18:40:55.740Z"
   },
   {
    "duration": 59,
    "start_time": "2024-05-20T18:45:26.974Z"
   },
   {
    "duration": 66,
    "start_time": "2024-05-20T18:45:48.060Z"
   },
   {
    "duration": 59,
    "start_time": "2024-05-20T18:45:52.867Z"
   },
   {
    "duration": 24,
    "start_time": "2024-05-20T18:45:57.470Z"
   },
   {
    "duration": 28,
    "start_time": "2024-05-20T18:46:33.216Z"
   },
   {
    "duration": 6,
    "start_time": "2024-05-20T18:46:37.234Z"
   },
   {
    "duration": 53,
    "start_time": "2024-05-20T18:46:53.233Z"
   },
   {
    "duration": 748,
    "start_time": "2024-05-20T18:46:55.929Z"
   },
   {
    "duration": 572,
    "start_time": "2024-05-20T18:47:24.106Z"
   },
   {
    "duration": 547,
    "start_time": "2024-05-20T18:47:55.068Z"
   },
   {
    "duration": 6652,
    "start_time": "2024-05-20T18:48:07.110Z"
   },
   {
    "duration": 6810,
    "start_time": "2024-05-20T18:52:24.999Z"
   },
   {
    "duration": 6866,
    "start_time": "2024-05-20T18:53:47.770Z"
   },
   {
    "duration": 17,
    "start_time": "2024-05-20T18:55:16.410Z"
   },
   {
    "duration": 12,
    "start_time": "2024-05-20T18:55:53.584Z"
   },
   {
    "duration": 6724,
    "start_time": "2024-05-20T18:56:03.836Z"
   },
   {
    "duration": 5,
    "start_time": "2024-05-20T19:11:01.505Z"
   },
   {
    "duration": 6789,
    "start_time": "2024-05-20T19:11:10.337Z"
   },
   {
    "duration": 62,
    "start_time": "2024-05-20T19:19:57.598Z"
   },
   {
    "duration": 11,
    "start_time": "2024-05-20T19:20:03.522Z"
   },
   {
    "duration": 45,
    "start_time": "2024-05-20T19:20:10.391Z"
   },
   {
    "duration": 576,
    "start_time": "2024-05-20T19:25:59.787Z"
   },
   {
    "duration": 587,
    "start_time": "2024-05-20T19:26:37.031Z"
   },
   {
    "duration": 558,
    "start_time": "2024-05-20T19:29:29.210Z"
   },
   {
    "duration": 624,
    "start_time": "2024-05-20T19:29:35.197Z"
   },
   {
    "duration": 1040,
    "start_time": "2024-05-20T19:31:45.652Z"
   },
   {
    "duration": 135115,
    "start_time": "2024-05-20T19:31:53.537Z"
   },
   {
    "duration": 0,
    "start_time": "2024-05-20T19:34:08.653Z"
   },
   {
    "duration": 5716,
    "start_time": "2024-05-20T19:38:22.663Z"
   },
   {
    "duration": 46,
    "start_time": "2024-05-20T19:38:47.454Z"
   },
   {
    "duration": 2267,
    "start_time": "2024-05-20T19:38:59.667Z"
   },
   {
    "duration": 1156,
    "start_time": "2024-05-20T19:39:01.936Z"
   },
   {
    "duration": 157,
    "start_time": "2024-05-20T19:39:03.093Z"
   },
   {
    "duration": 2,
    "start_time": "2024-05-20T19:39:03.252Z"
   },
   {
    "duration": 231,
    "start_time": "2024-05-20T19:39:03.256Z"
   },
   {
    "duration": 341,
    "start_time": "2024-05-20T19:39:03.488Z"
   },
   {
    "duration": 676,
    "start_time": "2024-05-20T19:39:03.831Z"
   },
   {
    "duration": 4,
    "start_time": "2024-05-20T19:39:04.509Z"
   },
   {
    "duration": 219,
    "start_time": "2024-05-20T19:39:04.514Z"
   },
   {
    "duration": 110,
    "start_time": "2024-05-20T19:39:04.735Z"
   },
   {
    "duration": 240,
    "start_time": "2024-05-20T19:39:04.846Z"
   },
   {
    "duration": 617,
    "start_time": "2024-05-20T19:39:05.088Z"
   },
   {
    "duration": 114,
    "start_time": "2024-05-20T19:39:05.707Z"
   },
   {
    "duration": 76,
    "start_time": "2024-05-20T19:39:05.822Z"
   },
   {
    "duration": 612,
    "start_time": "2024-05-20T19:39:05.899Z"
   },
   {
    "duration": 29,
    "start_time": "2024-05-20T19:39:06.513Z"
   },
   {
    "duration": 516,
    "start_time": "2024-05-20T19:39:06.544Z"
   },
   {
    "duration": 39,
    "start_time": "2024-05-20T19:39:07.062Z"
   },
   {
    "duration": 501,
    "start_time": "2024-05-20T19:39:07.102Z"
   },
   {
    "duration": 29,
    "start_time": "2024-05-20T19:39:07.605Z"
   },
   {
    "duration": 566,
    "start_time": "2024-05-20T19:39:07.635Z"
   },
   {
    "duration": 26,
    "start_time": "2024-05-20T19:39:08.205Z"
   },
   {
    "duration": 5863,
    "start_time": "2024-05-20T19:39:08.232Z"
   },
   {
    "duration": 16,
    "start_time": "2024-05-20T19:39:14.096Z"
   },
   {
    "duration": 213,
    "start_time": "2024-05-20T19:39:14.113Z"
   },
   {
    "duration": 96,
    "start_time": "2024-05-20T19:39:14.328Z"
   },
   {
    "duration": 83,
    "start_time": "2024-05-20T19:39:14.427Z"
   },
   {
    "duration": 10,
    "start_time": "2024-05-20T19:40:59.408Z"
   },
   {
    "duration": 1038,
    "start_time": "2024-05-20T19:41:04.129Z"
   },
   {
    "duration": 6705,
    "start_time": "2024-05-20T19:41:07.185Z"
   },
   {
    "duration": 12,
    "start_time": "2024-05-20T19:42:19.181Z"
   },
   {
    "duration": 11,
    "start_time": "2024-05-20T19:42:53.649Z"
   },
   {
    "duration": 8,
    "start_time": "2024-05-20T19:43:39.326Z"
   },
   {
    "duration": 18,
    "start_time": "2024-05-20T19:43:46.596Z"
   },
   {
    "duration": 58,
    "start_time": "2024-05-20T19:44:18.774Z"
   },
   {
    "duration": 959,
    "start_time": "2024-05-20T19:44:21.900Z"
   },
   {
    "duration": 10,
    "start_time": "2024-05-20T19:44:26.448Z"
   },
   {
    "duration": 6,
    "start_time": "2024-05-20T19:44:54.492Z"
   },
   {
    "duration": 138760,
    "start_time": "2024-05-20T19:44:59.139Z"
   },
   {
    "duration": 64,
    "start_time": "2024-05-20T19:51:12.007Z"
   },
   {
    "duration": 138582,
    "start_time": "2024-05-20T19:51:17.880Z"
   },
   {
    "duration": 139247,
    "start_time": "2024-05-20T19:54:07.952Z"
   },
   {
    "duration": 8,
    "start_time": "2024-05-20T20:00:06.574Z"
   },
   {
    "duration": 69,
    "start_time": "2024-05-20T20:02:06.900Z"
   },
   {
    "duration": 54,
    "start_time": "2024-05-20T20:02:10.433Z"
   },
   {
    "duration": 46,
    "start_time": "2024-05-20T20:02:44.785Z"
   },
   {
    "duration": 11,
    "start_time": "2024-05-20T20:03:16.418Z"
   },
   {
    "duration": 113,
    "start_time": "2024-05-20T20:04:01.689Z"
   },
   {
    "duration": 45,
    "start_time": "2024-05-20T20:04:03.467Z"
   },
   {
    "duration": 12,
    "start_time": "2024-05-20T20:04:08.659Z"
   },
   {
    "duration": 13,
    "start_time": "2024-05-20T20:04:42.806Z"
   },
   {
    "duration": 63,
    "start_time": "2024-05-20T20:04:52.937Z"
   },
   {
    "duration": 3941,
    "start_time": "2024-05-20T20:04:57.011Z"
   },
   {
    "duration": 7,
    "start_time": "2024-05-20T20:05:05.928Z"
   },
   {
    "duration": 62,
    "start_time": "2024-05-20T20:05:14.975Z"
   },
   {
    "duration": 25,
    "start_time": "2024-05-20T20:05:35.949Z"
   },
   {
    "duration": 47,
    "start_time": "2024-05-20T20:05:40.674Z"
   },
   {
    "duration": 34,
    "start_time": "2024-05-20T20:05:42.281Z"
   },
   {
    "duration": 11,
    "start_time": "2024-05-20T20:11:08.152Z"
   },
   {
    "duration": 16,
    "start_time": "2024-05-20T20:11:13.656Z"
   },
   {
    "duration": 1532,
    "start_time": "2024-05-20T20:12:38.566Z"
   },
   {
    "duration": 891,
    "start_time": "2024-05-20T20:12:40.100Z"
   },
   {
    "duration": 174,
    "start_time": "2024-05-20T20:12:40.992Z"
   },
   {
    "duration": 2,
    "start_time": "2024-05-20T20:12:41.168Z"
   },
   {
    "duration": 223,
    "start_time": "2024-05-20T20:12:41.172Z"
   },
   {
    "duration": 356,
    "start_time": "2024-05-20T20:12:41.397Z"
   },
   {
    "duration": 661,
    "start_time": "2024-05-20T20:12:41.754Z"
   },
   {
    "duration": 4,
    "start_time": "2024-05-20T20:12:42.416Z"
   },
   {
    "duration": 254,
    "start_time": "2024-05-20T20:12:42.421Z"
   },
   {
    "duration": 181,
    "start_time": "2024-05-20T20:12:42.677Z"
   },
   {
    "duration": 164,
    "start_time": "2024-05-20T20:12:42.859Z"
   },
   {
    "duration": 588,
    "start_time": "2024-05-20T20:12:43.025Z"
   },
   {
    "duration": 112,
    "start_time": "2024-05-20T20:12:43.615Z"
   },
   {
    "duration": 4,
    "start_time": "2024-05-20T20:12:43.730Z"
   },
   {
    "duration": 576,
    "start_time": "2024-05-20T20:12:43.736Z"
   },
   {
    "duration": 33,
    "start_time": "2024-05-20T20:12:44.315Z"
   },
   {
    "duration": 521,
    "start_time": "2024-05-20T20:12:44.349Z"
   },
   {
    "duration": 39,
    "start_time": "2024-05-20T20:12:44.871Z"
   },
   {
    "duration": 469,
    "start_time": "2024-05-20T20:12:44.912Z"
   },
   {
    "duration": 39,
    "start_time": "2024-05-20T20:12:45.382Z"
   },
   {
    "duration": 664,
    "start_time": "2024-05-20T20:12:45.422Z"
   },
   {
    "duration": 32,
    "start_time": "2024-05-20T20:12:46.087Z"
   },
   {
    "duration": 5990,
    "start_time": "2024-05-20T20:12:46.120Z"
   },
   {
    "duration": 17,
    "start_time": "2024-05-20T20:12:52.112Z"
   },
   {
    "duration": 103,
    "start_time": "2024-05-20T20:12:52.130Z"
   },
   {
    "duration": 114,
    "start_time": "2024-05-20T20:12:52.234Z"
   },
   {
    "duration": 61,
    "start_time": "2024-05-20T20:12:52.350Z"
   },
   {
    "duration": 289,
    "start_time": "2024-05-20T20:12:52.413Z"
   },
   {
    "duration": 0,
    "start_time": "2024-05-20T20:12:52.704Z"
   },
   {
    "duration": 0,
    "start_time": "2024-05-20T20:12:52.705Z"
   },
   {
    "duration": 10,
    "start_time": "2024-05-20T20:13:26.966Z"
   },
   {
    "duration": 15,
    "start_time": "2024-05-20T20:13:28.289Z"
   },
   {
    "duration": 10,
    "start_time": "2024-05-20T20:16:18.909Z"
   },
   {
    "duration": 8,
    "start_time": "2024-05-20T20:16:26.235Z"
   },
   {
    "duration": 4,
    "start_time": "2024-05-20T20:16:36.822Z"
   },
   {
    "duration": 23,
    "start_time": "2024-05-20T20:16:48.161Z"
   },
   {
    "duration": 4,
    "start_time": "2024-05-20T20:16:48.769Z"
   },
   {
    "duration": 13,
    "start_time": "2024-05-20T20:18:43.166Z"
   },
   {
    "duration": 22,
    "start_time": "2024-05-20T20:28:31.319Z"
   },
   {
    "duration": 4,
    "start_time": "2024-05-20T20:28:31.815Z"
   },
   {
    "duration": 18,
    "start_time": "2024-05-20T20:28:35.909Z"
   },
   {
    "duration": 40,
    "start_time": "2024-05-20T20:28:47.075Z"
   },
   {
    "duration": 6,
    "start_time": "2024-05-20T20:28:52.839Z"
   },
   {
    "duration": 3,
    "start_time": "2024-05-20T20:28:53.148Z"
   },
   {
    "duration": 56,
    "start_time": "2024-05-20T20:28:53.534Z"
   },
   {
    "duration": 43,
    "start_time": "2024-05-20T20:28:54.338Z"
   },
   {
    "duration": 22,
    "start_time": "2024-05-20T20:29:01.183Z"
   },
   {
    "duration": 6,
    "start_time": "2024-05-20T20:29:52.847Z"
   },
   {
    "duration": 4,
    "start_time": "2024-05-20T20:29:53.457Z"
   },
   {
    "duration": 53,
    "start_time": "2024-05-20T20:29:55.468Z"
   },
   {
    "duration": 46,
    "start_time": "2024-05-20T20:29:57.207Z"
   },
   {
    "duration": 5,
    "start_time": "2024-05-20T20:31:11.381Z"
   },
   {
    "duration": 4,
    "start_time": "2024-05-20T20:31:11.610Z"
   },
   {
    "duration": 55,
    "start_time": "2024-05-20T20:31:14.583Z"
   },
   {
    "duration": 42,
    "start_time": "2024-05-20T20:31:18.486Z"
   },
   {
    "duration": 1491,
    "start_time": "2024-05-20T20:31:49.005Z"
   },
   {
    "duration": 820,
    "start_time": "2024-05-20T20:31:50.498Z"
   },
   {
    "duration": 159,
    "start_time": "2024-05-20T20:31:51.320Z"
   },
   {
    "duration": 2,
    "start_time": "2024-05-20T20:31:51.480Z"
   },
   {
    "duration": 227,
    "start_time": "2024-05-20T20:31:51.495Z"
   },
   {
    "duration": 356,
    "start_time": "2024-05-20T20:31:51.724Z"
   },
   {
    "duration": 645,
    "start_time": "2024-05-20T20:31:52.082Z"
   },
   {
    "duration": 3,
    "start_time": "2024-05-20T20:31:52.729Z"
   },
   {
    "duration": 181,
    "start_time": "2024-05-20T20:31:52.733Z"
   },
   {
    "duration": 219,
    "start_time": "2024-05-20T20:31:52.916Z"
   },
   {
    "duration": 157,
    "start_time": "2024-05-20T20:31:53.137Z"
   },
   {
    "duration": 555,
    "start_time": "2024-05-20T20:31:53.295Z"
   },
   {
    "duration": 112,
    "start_time": "2024-05-20T20:31:53.851Z"
   },
   {
    "duration": 4,
    "start_time": "2024-05-20T20:31:53.965Z"
   },
   {
    "duration": 492,
    "start_time": "2024-05-20T20:31:53.970Z"
   },
   {
    "duration": 37,
    "start_time": "2024-05-20T20:31:54.464Z"
   },
   {
    "duration": 479,
    "start_time": "2024-05-20T20:31:54.503Z"
   },
   {
    "duration": 40,
    "start_time": "2024-05-20T20:31:54.983Z"
   },
   {
    "duration": 437,
    "start_time": "2024-05-20T20:31:55.025Z"
   },
   {
    "duration": 39,
    "start_time": "2024-05-20T20:31:55.464Z"
   },
   {
    "duration": 632,
    "start_time": "2024-05-20T20:31:55.504Z"
   },
   {
    "duration": 29,
    "start_time": "2024-05-20T20:31:56.138Z"
   },
   {
    "duration": 5693,
    "start_time": "2024-05-20T20:31:56.169Z"
   },
   {
    "duration": 17,
    "start_time": "2024-05-20T20:32:01.864Z"
   },
   {
    "duration": 263,
    "start_time": "2024-05-20T20:32:01.882Z"
   },
   {
    "duration": 63,
    "start_time": "2024-05-20T20:32:10.691Z"
   },
   {
    "duration": 110,
    "start_time": "2024-05-20T20:32:13.935Z"
   },
   {
    "duration": 4,
    "start_time": "2024-05-20T20:32:15.273Z"
   },
   {
    "duration": 22,
    "start_time": "2024-05-20T20:32:18.427Z"
   },
   {
    "duration": 49,
    "start_time": "2024-05-20T20:32:21.345Z"
   },
   {
    "duration": 156,
    "start_time": "2024-05-20T20:32:22.648Z"
   },
   {
    "duration": 7,
    "start_time": "2024-05-20T20:58:03.574Z"
   },
   {
    "duration": 4,
    "start_time": "2024-05-20T20:58:03.944Z"
   },
   {
    "duration": 5,
    "start_time": "2024-05-20T20:58:05.089Z"
   },
   {
    "duration": 77,
    "start_time": "2024-05-20T20:58:18.787Z"
   },
   {
    "duration": 22,
    "start_time": "2024-05-20T20:58:21.504Z"
   },
   {
    "duration": 6,
    "start_time": "2024-05-20T20:59:27.805Z"
   },
   {
    "duration": 895,
    "start_time": "2024-05-20T20:59:27.813Z"
   },
   {
    "duration": 152,
    "start_time": "2024-05-20T20:59:28.710Z"
   },
   {
    "duration": 2,
    "start_time": "2024-05-20T20:59:28.864Z"
   },
   {
    "duration": 220,
    "start_time": "2024-05-20T20:59:28.869Z"
   },
   {
    "duration": 366,
    "start_time": "2024-05-20T20:59:29.090Z"
   },
   {
    "duration": 690,
    "start_time": "2024-05-20T20:59:29.457Z"
   },
   {
    "duration": 4,
    "start_time": "2024-05-20T20:59:30.148Z"
   },
   {
    "duration": 332,
    "start_time": "2024-05-20T20:59:30.153Z"
   },
   {
    "duration": 112,
    "start_time": "2024-05-20T20:59:30.486Z"
   },
   {
    "duration": 196,
    "start_time": "2024-05-20T20:59:30.600Z"
   },
   {
    "duration": 556,
    "start_time": "2024-05-20T20:59:30.798Z"
   },
   {
    "duration": 118,
    "start_time": "2024-05-20T20:59:31.355Z"
   },
   {
    "duration": 53,
    "start_time": "2024-05-20T20:59:31.476Z"
   },
   {
    "duration": 523,
    "start_time": "2024-05-20T20:59:31.531Z"
   },
   {
    "duration": 43,
    "start_time": "2024-05-20T20:59:32.056Z"
   },
   {
    "duration": 585,
    "start_time": "2024-05-20T20:59:32.101Z"
   },
   {
    "duration": 45,
    "start_time": "2024-05-20T20:59:32.688Z"
   },
   {
    "duration": 449,
    "start_time": "2024-05-20T20:59:32.735Z"
   },
   {
    "duration": 36,
    "start_time": "2024-05-20T20:59:33.185Z"
   },
   {
    "duration": 486,
    "start_time": "2024-05-20T20:59:33.223Z"
   },
   {
    "duration": 25,
    "start_time": "2024-05-20T20:59:33.710Z"
   },
   {
    "duration": 5482,
    "start_time": "2024-05-20T20:59:33.737Z"
   },
   {
    "duration": 15,
    "start_time": "2024-05-20T20:59:39.221Z"
   },
   {
    "duration": 113,
    "start_time": "2024-05-20T20:59:44.966Z"
   },
   {
    "duration": 18,
    "start_time": "2024-05-20T20:59:45.081Z"
   },
   {
    "duration": 225,
    "start_time": "2024-05-20T20:59:45.102Z"
   },
   {
    "duration": 0,
    "start_time": "2024-05-20T20:59:45.329Z"
   },
   {
    "duration": 0,
    "start_time": "2024-05-20T20:59:45.330Z"
   },
   {
    "duration": 13,
    "start_time": "2024-05-20T21:00:01.469Z"
   },
   {
    "duration": 21,
    "start_time": "2024-05-20T21:00:02.890Z"
   },
   {
    "duration": 7483,
    "start_time": "2024-05-20T21:00:15.927Z"
   },
   {
    "duration": 11577,
    "start_time": "2024-05-20T21:01:50.345Z"
   },
   {
    "duration": 8415,
    "start_time": "2024-05-20T21:02:07.006Z"
   },
   {
    "duration": 8317,
    "start_time": "2024-05-20T21:03:05.298Z"
   },
   {
    "duration": 13,
    "start_time": "2024-05-20T21:03:22.393Z"
   },
   {
    "duration": 9897,
    "start_time": "2024-05-20T21:03:29.509Z"
   },
   {
    "duration": 9873,
    "start_time": "2024-05-20T21:03:46.737Z"
   },
   {
    "duration": 8494,
    "start_time": "2024-05-20T21:07:51.013Z"
   },
   {
    "duration": 5,
    "start_time": "2024-05-20T21:08:54.859Z"
   },
   {
    "duration": 61,
    "start_time": "2024-05-20T21:09:30.842Z"
   },
   {
    "duration": 60482,
    "start_time": "2024-05-20T21:10:07.740Z"
   },
   {
    "duration": 0,
    "start_time": "2024-05-20T21:11:08.223Z"
   },
   {
    "duration": 40083,
    "start_time": "2024-05-20T21:11:24.441Z"
   },
   {
    "duration": 13,
    "start_time": "2024-05-20T21:12:14.116Z"
   },
   {
    "duration": 6,
    "start_time": "2024-05-20T21:12:59.074Z"
   },
   {
    "duration": 59012,
    "start_time": "2024-05-20T21:13:26.628Z"
   },
   {
    "duration": 20,
    "start_time": "2024-05-20T21:16:57.247Z"
   },
   {
    "duration": 1504,
    "start_time": "2024-05-21T16:37:56.890Z"
   },
   {
    "duration": 0,
    "start_time": "2024-05-21T16:37:58.396Z"
   },
   {
    "duration": 1,
    "start_time": "2024-05-21T16:37:58.397Z"
   },
   {
    "duration": 3,
    "start_time": "2024-05-21T16:37:59.089Z"
   },
   {
    "duration": 10,
    "start_time": "2024-05-21T16:37:59.520Z"
   },
   {
    "duration": 15,
    "start_time": "2024-05-21T16:38:01.533Z"
   },
   {
    "duration": 12,
    "start_time": "2024-05-21T16:38:07.905Z"
   },
   {
    "duration": 1279,
    "start_time": "2024-05-21T16:38:09.481Z"
   },
   {
    "duration": 174,
    "start_time": "2024-05-21T16:38:11.337Z"
   },
   {
    "duration": 2,
    "start_time": "2024-05-21T16:38:13.506Z"
   },
   {
    "duration": 212,
    "start_time": "2024-05-21T16:38:14.712Z"
   },
   {
    "duration": 392,
    "start_time": "2024-05-21T16:38:16.204Z"
   },
   {
    "duration": 834,
    "start_time": "2024-05-21T16:38:18.614Z"
   },
   {
    "duration": 39,
    "start_time": "2024-05-21T16:38:33.141Z"
   },
   {
    "duration": 15,
    "start_time": "2024-05-21T16:38:37.175Z"
   },
   {
    "duration": 118,
    "start_time": "2024-05-21T16:38:44.544Z"
   },
   {
    "duration": 19,
    "start_time": "2024-05-21T16:38:59.922Z"
   },
   {
    "duration": 22,
    "start_time": "2024-05-21T16:39:22.445Z"
   },
   {
    "duration": 1572,
    "start_time": "2024-05-21T20:38:33.864Z"
   },
   {
    "duration": 314,
    "start_time": "2024-05-21T20:40:14.555Z"
   },
   {
    "duration": 19,
    "start_time": "2024-05-21T20:41:41.035Z"
   },
   {
    "duration": 19,
    "start_time": "2024-05-21T20:42:04.967Z"
   },
   {
    "duration": 19,
    "start_time": "2024-05-21T20:42:08.785Z"
   },
   {
    "duration": 17,
    "start_time": "2024-05-21T20:43:02.724Z"
   },
   {
    "duration": 11062,
    "start_time": "2024-05-21T20:43:34.634Z"
   },
   {
    "duration": 13,
    "start_time": "2024-05-21T20:44:45.220Z"
   },
   {
    "duration": 1408,
    "start_time": "2024-05-21T20:44:50.843Z"
   },
   {
    "duration": 183,
    "start_time": "2024-05-21T20:44:52.253Z"
   },
   {
    "duration": 3,
    "start_time": "2024-05-21T20:44:52.563Z"
   },
   {
    "duration": 215,
    "start_time": "2024-05-21T20:44:53.597Z"
   },
   {
    "duration": 401,
    "start_time": "2024-05-21T20:44:54.527Z"
   },
   {
    "duration": 770,
    "start_time": "2024-05-21T20:44:55.465Z"
   },
   {
    "duration": 210,
    "start_time": "2024-05-21T20:45:05.527Z"
   },
   {
    "duration": 269,
    "start_time": "2024-05-21T20:45:11.721Z"
   },
   {
    "duration": 241,
    "start_time": "2024-05-21T20:45:22.668Z"
   },
   {
    "duration": 15,
    "start_time": "2024-05-21T20:45:54.085Z"
   },
   {
    "duration": 7,
    "start_time": "2024-05-21T20:45:57.564Z"
   },
   {
    "duration": 7,
    "start_time": "2024-05-21T20:46:00.146Z"
   },
   {
    "duration": 185132,
    "start_time": "2024-05-21T20:46:01.070Z"
   },
   {
    "duration": 1366498,
    "start_time": "2024-05-21T21:06:22.292Z"
   },
   {
    "duration": 1038,
    "start_time": "2024-05-21T21:41:28.000Z"
   },
   {
    "duration": 13,
    "start_time": "2024-05-21T21:41:29.875Z"
   },
   {
    "duration": 21,
    "start_time": "2024-05-21T21:41:43.008Z"
   },
   {
    "duration": 16,
    "start_time": "2024-05-21T21:41:55.507Z"
   },
   {
    "duration": 9,
    "start_time": "2024-05-21T21:46:40.757Z"
   },
   {
    "duration": 25,
    "start_time": "2024-05-21T21:47:12.636Z"
   },
   {
    "duration": 11,
    "start_time": "2024-05-21T21:50:03.333Z"
   },
   {
    "duration": 18,
    "start_time": "2024-05-21T21:54:51.447Z"
   },
   {
    "duration": 12,
    "start_time": "2024-05-21T21:55:48.128Z"
   },
   {
    "duration": 16,
    "start_time": "2024-05-21T22:03:42.961Z"
   },
   {
    "duration": 19,
    "start_time": "2024-05-21T22:04:03.491Z"
   },
   {
    "duration": 173243,
    "start_time": "2024-05-21T22:07:08.267Z"
   },
   {
    "duration": 1194,
    "start_time": "2024-05-21T22:10:02.716Z"
   },
   {
    "duration": 6814,
    "start_time": "2024-05-21T22:11:12.350Z"
   },
   {
    "duration": 3259,
    "start_time": "2024-05-21T22:11:43.966Z"
   },
   {
    "duration": 1268,
    "start_time": "2024-05-21T22:18:33.782Z"
   },
   {
    "duration": 26,
    "start_time": "2024-05-21T22:18:41.549Z"
   },
   {
    "duration": 3171,
    "start_time": "2024-05-21T22:19:02.023Z"
   },
   {
    "duration": 3190,
    "start_time": "2024-05-21T22:19:39.467Z"
   },
   {
    "duration": 25,
    "start_time": "2024-05-21T22:19:45.212Z"
   },
   {
    "duration": 19,
    "start_time": "2024-05-21T22:21:15.816Z"
   },
   {
    "duration": 3180,
    "start_time": "2024-05-21T22:22:00.443Z"
   },
   {
    "duration": 1550,
    "start_time": "2024-05-21T22:22:03.626Z"
   },
   {
    "duration": 12,
    "start_time": "2024-05-21T22:22:12.930Z"
   },
   {
    "duration": 3185,
    "start_time": "2024-05-21T22:24:40.198Z"
   },
   {
    "duration": 955,
    "start_time": "2024-05-21T22:24:43.386Z"
   },
   {
    "duration": 187,
    "start_time": "2024-05-21T22:24:44.342Z"
   },
   {
    "duration": 3,
    "start_time": "2024-05-21T22:24:44.531Z"
   },
   {
    "duration": 243,
    "start_time": "2024-05-21T22:24:44.537Z"
   },
   {
    "duration": 381,
    "start_time": "2024-05-21T22:24:44.782Z"
   },
   {
    "duration": 740,
    "start_time": "2024-05-21T22:24:45.165Z"
   },
   {
    "duration": 4,
    "start_time": "2024-05-21T22:24:45.907Z"
   },
   {
    "duration": 224,
    "start_time": "2024-05-21T22:24:45.913Z"
   },
   {
    "duration": 138,
    "start_time": "2024-05-21T22:24:46.140Z"
   },
   {
    "duration": 264,
    "start_time": "2024-05-21T22:24:46.280Z"
   },
   {
    "duration": 686,
    "start_time": "2024-05-21T22:24:46.545Z"
   },
   {
    "duration": 127,
    "start_time": "2024-05-21T22:24:47.233Z"
   },
   {
    "duration": 10,
    "start_time": "2024-05-21T22:24:47.363Z"
   },
   {
    "duration": 604,
    "start_time": "2024-05-21T22:24:47.374Z"
   },
   {
    "duration": 33,
    "start_time": "2024-05-21T22:24:47.980Z"
   },
   {
    "duration": 517,
    "start_time": "2024-05-21T22:24:48.014Z"
   },
   {
    "duration": 45,
    "start_time": "2024-05-21T22:24:48.533Z"
   },
   {
    "duration": 511,
    "start_time": "2024-05-21T22:24:48.580Z"
   },
   {
    "duration": 31,
    "start_time": "2024-05-21T22:24:49.092Z"
   },
   {
    "duration": 574,
    "start_time": "2024-05-21T22:24:49.125Z"
   },
   {
    "duration": 27,
    "start_time": "2024-05-21T22:24:49.700Z"
   },
   {
    "duration": 6564,
    "start_time": "2024-05-21T22:24:49.729Z"
   },
   {
    "duration": 17,
    "start_time": "2024-05-21T22:24:56.295Z"
   },
   {
    "duration": 1202,
    "start_time": "2024-05-21T22:24:56.314Z"
   },
   {
    "duration": 156169,
    "start_time": "2024-05-21T22:27:03.141Z"
   },
   {
    "duration": 112,
    "start_time": "2024-05-21T22:33:42.502Z"
   },
   {
    "duration": 10835,
    "start_time": "2024-05-21T22:33:43.775Z"
   },
   {
    "duration": 975933,
    "start_time": "2024-05-21T22:34:26.749Z"
   },
   {
    "duration": 78,
    "start_time": "2024-05-22T20:38:05.183Z"
   },
   {
    "duration": 21276,
    "start_time": "2024-05-22T20:44:57.177Z"
   },
   {
    "duration": 3113,
    "start_time": "2024-05-22T20:45:18.457Z"
   },
   {
    "duration": 195,
    "start_time": "2024-05-22T20:45:21.572Z"
   },
   {
    "duration": 3,
    "start_time": "2024-05-22T20:45:21.768Z"
   },
   {
    "duration": 234,
    "start_time": "2024-05-22T20:45:21.773Z"
   },
   {
    "duration": 407,
    "start_time": "2024-05-22T20:45:22.008Z"
   },
   {
    "duration": 854,
    "start_time": "2024-05-22T20:45:22.417Z"
   },
   {
    "duration": 4,
    "start_time": "2024-05-22T20:45:23.273Z"
   },
   {
    "duration": 217,
    "start_time": "2024-05-22T20:45:23.278Z"
   },
   {
    "duration": 160,
    "start_time": "2024-05-22T20:45:23.497Z"
   },
   {
    "duration": 295,
    "start_time": "2024-05-22T20:45:23.659Z"
   },
   {
    "duration": 744,
    "start_time": "2024-05-22T20:45:23.956Z"
   },
   {
    "duration": 156,
    "start_time": "2024-05-22T20:45:24.702Z"
   },
   {
    "duration": 5,
    "start_time": "2024-05-22T20:45:24.862Z"
   },
   {
    "duration": 625,
    "start_time": "2024-05-22T20:45:24.869Z"
   },
   {
    "duration": 52,
    "start_time": "2024-05-22T20:45:25.497Z"
   },
   {
    "duration": 580,
    "start_time": "2024-05-22T20:45:25.552Z"
   },
   {
    "duration": 37,
    "start_time": "2024-05-22T20:45:26.134Z"
   },
   {
    "duration": 514,
    "start_time": "2024-05-22T20:45:26.172Z"
   },
   {
    "duration": 41,
    "start_time": "2024-05-22T20:45:26.688Z"
   },
   {
    "duration": 610,
    "start_time": "2024-05-22T20:45:26.731Z"
   },
   {
    "duration": 29,
    "start_time": "2024-05-22T20:45:27.343Z"
   },
   {
    "duration": 7323,
    "start_time": "2024-05-22T20:45:27.374Z"
   },
   {
    "duration": 34,
    "start_time": "2024-05-22T20:45:34.699Z"
   },
   {
    "duration": 1345,
    "start_time": "2024-05-22T20:45:34.737Z"
   },
   {
    "duration": 28883,
    "start_time": "2024-05-22T20:45:36.084Z"
   },
   {
    "duration": 130,
    "start_time": "2024-05-22T20:46:04.969Z"
   },
   {
    "duration": 201670,
    "start_time": "2024-05-22T20:46:05.101Z"
   },
   {
    "duration": 0,
    "start_time": "2024-05-22T20:49:26.772Z"
   },
   {
    "duration": 0,
    "start_time": "2024-05-22T20:49:26.774Z"
   },
   {
    "duration": 0,
    "start_time": "2024-05-22T20:49:26.775Z"
   },
   {
    "duration": 5064,
    "start_time": "2024-05-22T20:53:05.851Z"
   },
   {
    "duration": 1015,
    "start_time": "2024-05-22T20:53:10.918Z"
   },
   {
    "duration": 205,
    "start_time": "2024-05-22T20:53:11.936Z"
   },
   {
    "duration": 4,
    "start_time": "2024-05-22T20:53:12.144Z"
   },
   {
    "duration": 230,
    "start_time": "2024-05-22T20:53:12.151Z"
   },
   {
    "duration": 429,
    "start_time": "2024-05-22T20:53:12.383Z"
   },
   {
    "duration": 856,
    "start_time": "2024-05-22T20:53:12.814Z"
   },
   {
    "duration": 4,
    "start_time": "2024-05-22T20:53:13.672Z"
   },
   {
    "duration": 213,
    "start_time": "2024-05-22T20:53:13.677Z"
   },
   {
    "duration": 123,
    "start_time": "2024-05-22T20:53:13.892Z"
   },
   {
    "duration": 264,
    "start_time": "2024-05-22T20:53:14.017Z"
   },
   {
    "duration": 725,
    "start_time": "2024-05-22T20:53:14.284Z"
   },
   {
    "duration": 160,
    "start_time": "2024-05-22T20:53:15.011Z"
   },
   {
    "duration": 4,
    "start_time": "2024-05-22T20:53:15.175Z"
   },
   {
    "duration": 635,
    "start_time": "2024-05-22T20:53:15.181Z"
   },
   {
    "duration": 46,
    "start_time": "2024-05-22T20:53:15.818Z"
   },
   {
    "duration": 568,
    "start_time": "2024-05-22T20:53:15.866Z"
   },
   {
    "duration": 33,
    "start_time": "2024-05-22T20:53:16.435Z"
   },
   {
    "duration": 545,
    "start_time": "2024-05-22T20:53:16.470Z"
   },
   {
    "duration": 45,
    "start_time": "2024-05-22T20:53:17.017Z"
   },
   {
    "duration": 585,
    "start_time": "2024-05-22T20:53:17.064Z"
   },
   {
    "duration": 27,
    "start_time": "2024-05-22T20:53:17.651Z"
   },
   {
    "duration": 6810,
    "start_time": "2024-05-22T20:53:17.680Z"
   },
   {
    "duration": 18,
    "start_time": "2024-05-22T20:53:24.492Z"
   },
   {
    "duration": 1371,
    "start_time": "2024-05-22T20:53:24.512Z"
   },
   {
    "duration": 28571,
    "start_time": "2024-05-22T20:53:25.885Z"
   },
   {
    "duration": 125,
    "start_time": "2024-05-22T20:53:54.458Z"
   },
   {
    "duration": 5044,
    "start_time": "2024-05-22T21:44:39.641Z"
   },
   {
    "duration": 1019,
    "start_time": "2024-05-22T21:44:44.687Z"
   },
   {
    "duration": 191,
    "start_time": "2024-05-22T21:44:45.708Z"
   },
   {
    "duration": 3,
    "start_time": "2024-05-22T21:44:45.901Z"
   },
   {
    "duration": 249,
    "start_time": "2024-05-22T21:44:45.907Z"
   },
   {
    "duration": 432,
    "start_time": "2024-05-22T21:44:46.158Z"
   },
   {
    "duration": 805,
    "start_time": "2024-05-22T21:44:46.593Z"
   },
   {
    "duration": 4,
    "start_time": "2024-05-22T21:44:47.400Z"
   },
   {
    "duration": 225,
    "start_time": "2024-05-22T21:44:47.406Z"
   },
   {
    "duration": 140,
    "start_time": "2024-05-22T21:44:47.636Z"
   },
   {
    "duration": 281,
    "start_time": "2024-05-22T21:44:47.778Z"
   },
   {
    "duration": 689,
    "start_time": "2024-05-22T21:44:48.060Z"
   },
   {
    "duration": 146,
    "start_time": "2024-05-22T21:44:48.751Z"
   },
   {
    "duration": 4,
    "start_time": "2024-05-22T21:44:48.900Z"
   },
   {
    "duration": 545,
    "start_time": "2024-05-22T21:44:48.906Z"
   },
   {
    "duration": 33,
    "start_time": "2024-05-22T21:44:49.453Z"
   },
   {
    "duration": 518,
    "start_time": "2024-05-22T21:44:49.488Z"
   },
   {
    "duration": 54,
    "start_time": "2024-05-22T21:44:50.008Z"
   },
   {
    "duration": 565,
    "start_time": "2024-05-22T21:44:50.064Z"
   },
   {
    "duration": 39,
    "start_time": "2024-05-22T21:44:50.632Z"
   },
   {
    "duration": 1058,
    "start_time": "2024-05-22T21:44:50.673Z"
   },
   {
    "duration": 37,
    "start_time": "2024-05-22T21:44:51.734Z"
   },
   {
    "duration": 7576,
    "start_time": "2024-05-22T21:44:51.829Z"
   },
   {
    "duration": 36,
    "start_time": "2024-05-22T21:44:59.407Z"
   },
   {
    "duration": 1294,
    "start_time": "2024-05-22T21:44:59.445Z"
   },
   {
    "duration": 25434,
    "start_time": "2024-05-22T21:45:00.741Z"
   },
   {
    "duration": 137,
    "start_time": "2024-05-22T21:45:26.176Z"
   },
   {
    "duration": 4940,
    "start_time": "2024-05-22T21:50:22.837Z"
   },
   {
    "duration": 1061,
    "start_time": "2024-05-22T21:50:27.779Z"
   },
   {
    "duration": 197,
    "start_time": "2024-05-22T21:50:28.843Z"
   },
   {
    "duration": 3,
    "start_time": "2024-05-22T21:50:29.043Z"
   },
   {
    "duration": 255,
    "start_time": "2024-05-22T21:50:29.050Z"
   },
   {
    "duration": 448,
    "start_time": "2024-05-22T21:50:29.306Z"
   },
   {
    "duration": 871,
    "start_time": "2024-05-22T21:50:29.756Z"
   },
   {
    "duration": 7,
    "start_time": "2024-05-22T21:50:30.630Z"
   },
   {
    "duration": 249,
    "start_time": "2024-05-22T21:50:30.641Z"
   },
   {
    "duration": 140,
    "start_time": "2024-05-22T21:50:30.893Z"
   },
   {
    "duration": 445,
    "start_time": "2024-05-22T21:50:31.036Z"
   },
   {
    "duration": 809,
    "start_time": "2024-05-22T21:50:31.483Z"
   },
   {
    "duration": 146,
    "start_time": "2024-05-22T21:50:32.294Z"
   },
   {
    "duration": 8,
    "start_time": "2024-05-22T21:50:32.446Z"
   },
   {
    "duration": 602,
    "start_time": "2024-05-22T21:50:32.456Z"
   },
   {
    "duration": 33,
    "start_time": "2024-05-22T21:50:33.059Z"
   },
   {
    "duration": 518,
    "start_time": "2024-05-22T21:50:33.093Z"
   },
   {
    "duration": 49,
    "start_time": "2024-05-22T21:50:33.613Z"
   },
   {
    "duration": 589,
    "start_time": "2024-05-22T21:50:33.664Z"
   },
   {
    "duration": 31,
    "start_time": "2024-05-22T21:50:34.254Z"
   },
   {
    "duration": 562,
    "start_time": "2024-05-22T21:50:34.287Z"
   },
   {
    "duration": 34,
    "start_time": "2024-05-22T21:50:34.851Z"
   },
   {
    "duration": 7215,
    "start_time": "2024-05-22T21:50:34.887Z"
   },
   {
    "duration": 27,
    "start_time": "2024-05-22T21:50:42.104Z"
   },
   {
    "duration": 1237,
    "start_time": "2024-05-22T21:50:42.133Z"
   },
   {
    "duration": 25299,
    "start_time": "2024-05-22T21:50:43.371Z"
   },
   {
    "duration": 159,
    "start_time": "2024-05-22T21:51:08.672Z"
   },
   {
    "duration": 5177,
    "start_time": "2024-05-22T21:51:31.859Z"
   },
   {
    "duration": 1039,
    "start_time": "2024-05-22T21:51:37.040Z"
   },
   {
    "duration": 214,
    "start_time": "2024-05-22T21:51:38.080Z"
   },
   {
    "duration": 6,
    "start_time": "2024-05-22T21:51:38.296Z"
   },
   {
    "duration": 248,
    "start_time": "2024-05-22T21:51:38.305Z"
   },
   {
    "duration": 427,
    "start_time": "2024-05-22T21:51:38.556Z"
   },
   {
    "duration": 805,
    "start_time": "2024-05-22T21:51:38.985Z"
   },
   {
    "duration": 4,
    "start_time": "2024-05-22T21:51:39.792Z"
   },
   {
    "duration": 236,
    "start_time": "2024-05-22T21:51:39.798Z"
   },
   {
    "duration": 167,
    "start_time": "2024-05-22T21:51:40.036Z"
   },
   {
    "duration": 280,
    "start_time": "2024-05-22T21:51:40.204Z"
   },
   {
    "duration": 657,
    "start_time": "2024-05-22T21:51:40.485Z"
   },
   {
    "duration": 148,
    "start_time": "2024-05-22T21:51:41.145Z"
   },
   {
    "duration": 4,
    "start_time": "2024-05-22T21:51:41.296Z"
   },
   {
    "duration": 608,
    "start_time": "2024-05-22T21:51:41.301Z"
   },
   {
    "duration": 40,
    "start_time": "2024-05-22T21:51:41.911Z"
   },
   {
    "duration": 526,
    "start_time": "2024-05-22T21:51:41.953Z"
   },
   {
    "duration": 32,
    "start_time": "2024-05-22T21:51:42.481Z"
   },
   {
    "duration": 517,
    "start_time": "2024-05-22T21:51:42.529Z"
   },
   {
    "duration": 40,
    "start_time": "2024-05-22T21:51:43.048Z"
   },
   {
    "duration": 689,
    "start_time": "2024-05-22T21:51:43.090Z"
   },
   {
    "duration": 27,
    "start_time": "2024-05-22T21:51:43.781Z"
   },
   {
    "duration": 7190,
    "start_time": "2024-05-22T21:51:43.809Z"
   },
   {
    "duration": 35,
    "start_time": "2024-05-22T21:51:51.001Z"
   },
   {
    "duration": 1355,
    "start_time": "2024-05-22T21:51:51.039Z"
   },
   {
    "duration": 31370,
    "start_time": "2024-05-22T21:51:52.396Z"
   },
   {
    "duration": 146,
    "start_time": "2024-05-22T21:52:23.768Z"
   },
   {
    "duration": 8,
    "start_time": "2024-05-22T22:10:32.715Z"
   },
   {
    "duration": 62,
    "start_time": "2024-05-22T22:11:24.692Z"
   },
   {
    "duration": 5,
    "start_time": "2024-05-22T22:12:40.532Z"
   },
   {
    "duration": 5913,
    "start_time": "2024-05-22T22:15:23.216Z"
   },
   {
    "duration": 3149,
    "start_time": "2024-05-22T22:16:07.617Z"
   },
   {
    "duration": 324955,
    "start_time": "2024-05-22T22:16:52.715Z"
   },
   {
    "duration": 4,
    "start_time": "2024-05-22T22:23:22.618Z"
   },
   {
    "duration": 12,
    "start_time": "2024-05-22T22:23:22.625Z"
   },
   {
    "duration": 5244,
    "start_time": "2024-05-22T22:23:22.639Z"
   },
   {
    "duration": 0,
    "start_time": "2024-05-22T22:23:27.887Z"
   },
   {
    "duration": 0,
    "start_time": "2024-05-22T22:23:27.889Z"
   },
   {
    "duration": 0,
    "start_time": "2024-05-22T22:23:27.891Z"
   },
   {
    "duration": 0,
    "start_time": "2024-05-22T22:23:27.893Z"
   },
   {
    "duration": 0,
    "start_time": "2024-05-22T22:23:27.894Z"
   },
   {
    "duration": 0,
    "start_time": "2024-05-22T22:23:27.896Z"
   },
   {
    "duration": 0,
    "start_time": "2024-05-22T22:23:27.897Z"
   },
   {
    "duration": 0,
    "start_time": "2024-05-22T22:23:27.899Z"
   },
   {
    "duration": 0,
    "start_time": "2024-05-22T22:23:27.900Z"
   },
   {
    "duration": 0,
    "start_time": "2024-05-22T22:23:27.901Z"
   },
   {
    "duration": 0,
    "start_time": "2024-05-22T22:23:27.933Z"
   },
   {
    "duration": 0,
    "start_time": "2024-05-22T22:23:27.937Z"
   },
   {
    "duration": 0,
    "start_time": "2024-05-22T22:23:27.940Z"
   },
   {
    "duration": 0,
    "start_time": "2024-05-22T22:23:27.943Z"
   },
   {
    "duration": 0,
    "start_time": "2024-05-22T22:23:27.947Z"
   },
   {
    "duration": 0,
    "start_time": "2024-05-22T22:23:27.949Z"
   },
   {
    "duration": 0,
    "start_time": "2024-05-22T22:23:27.951Z"
   },
   {
    "duration": 0,
    "start_time": "2024-05-22T22:23:27.953Z"
   },
   {
    "duration": 0,
    "start_time": "2024-05-22T22:23:27.955Z"
   },
   {
    "duration": 0,
    "start_time": "2024-05-22T22:23:27.956Z"
   },
   {
    "duration": 0,
    "start_time": "2024-05-22T22:23:27.958Z"
   },
   {
    "duration": 0,
    "start_time": "2024-05-22T22:23:27.959Z"
   },
   {
    "duration": 0,
    "start_time": "2024-05-22T22:23:27.961Z"
   },
   {
    "duration": 0,
    "start_time": "2024-05-22T22:23:27.962Z"
   },
   {
    "duration": 0,
    "start_time": "2024-05-22T22:23:27.964Z"
   },
   {
    "duration": 0,
    "start_time": "2024-05-22T22:23:27.965Z"
   },
   {
    "duration": 0,
    "start_time": "2024-05-22T22:23:27.966Z"
   },
   {
    "duration": 0,
    "start_time": "2024-05-22T22:23:27.967Z"
   },
   {
    "duration": 0,
    "start_time": "2024-05-22T22:23:27.969Z"
   },
   {
    "duration": 0,
    "start_time": "2024-05-22T22:23:27.970Z"
   },
   {
    "duration": 4060,
    "start_time": "2024-05-22T22:24:34.243Z"
   },
   {
    "duration": 6096,
    "start_time": "2024-05-22T22:24:46.998Z"
   },
   {
    "duration": 1180,
    "start_time": "2024-05-22T22:24:53.097Z"
   },
   {
    "duration": 176,
    "start_time": "2024-05-22T22:24:54.279Z"
   },
   {
    "duration": 3,
    "start_time": "2024-05-22T22:24:54.458Z"
   },
   {
    "duration": 211,
    "start_time": "2024-05-22T22:24:54.463Z"
   },
   {
    "duration": 350,
    "start_time": "2024-05-22T22:24:54.676Z"
   },
   {
    "duration": 639,
    "start_time": "2024-05-22T22:24:55.031Z"
   },
   {
    "duration": 4,
    "start_time": "2024-05-22T22:24:55.672Z"
   },
   {
    "duration": 238,
    "start_time": "2024-05-22T22:24:55.679Z"
   },
   {
    "duration": 169,
    "start_time": "2024-05-22T22:24:55.921Z"
   },
   {
    "duration": 195,
    "start_time": "2024-05-22T22:24:56.092Z"
   },
   {
    "duration": 686,
    "start_time": "2024-05-22T22:24:56.290Z"
   },
   {
    "duration": 155,
    "start_time": "2024-05-22T22:24:56.978Z"
   },
   {
    "duration": 9,
    "start_time": "2024-05-22T22:24:57.139Z"
   },
   {
    "duration": 751,
    "start_time": "2024-05-22T22:24:57.151Z"
   },
   {
    "duration": 47,
    "start_time": "2024-05-22T22:24:57.904Z"
   },
   {
    "duration": 554,
    "start_time": "2024-05-22T22:24:57.953Z"
   },
   {
    "duration": 46,
    "start_time": "2024-05-22T22:24:58.509Z"
   },
   {
    "duration": 582,
    "start_time": "2024-05-22T22:24:58.557Z"
   },
   {
    "duration": 41,
    "start_time": "2024-05-22T22:24:59.143Z"
   },
   {
    "duration": 663,
    "start_time": "2024-05-22T22:24:59.186Z"
   },
   {
    "duration": 34,
    "start_time": "2024-05-22T22:24:59.852Z"
   },
   {
    "duration": 7465,
    "start_time": "2024-05-22T22:24:59.889Z"
   },
   {
    "duration": 19,
    "start_time": "2024-05-22T22:25:07.356Z"
   },
   {
    "duration": 1223,
    "start_time": "2024-05-22T22:25:07.377Z"
   },
   {
    "duration": 27767,
    "start_time": "2024-05-22T22:25:08.602Z"
   },
   {
    "duration": 110,
    "start_time": "2024-05-22T22:25:36.371Z"
   },
   {
    "duration": 20493,
    "start_time": "2024-05-23T19:53:59.534Z"
   },
   {
    "duration": 2951,
    "start_time": "2024-05-23T19:54:20.029Z"
   },
   {
    "duration": 175,
    "start_time": "2024-05-23T19:54:22.982Z"
   },
   {
    "duration": 3,
    "start_time": "2024-05-23T19:54:23.159Z"
   },
   {
    "duration": 200,
    "start_time": "2024-05-23T19:54:23.163Z"
   },
   {
    "duration": 387,
    "start_time": "2024-05-23T19:54:23.365Z"
   },
   {
    "duration": 735,
    "start_time": "2024-05-23T19:54:23.754Z"
   },
   {
    "duration": 4,
    "start_time": "2024-05-23T19:54:24.491Z"
   },
   {
    "duration": 182,
    "start_time": "2024-05-23T19:54:24.497Z"
   },
   {
    "duration": 124,
    "start_time": "2024-05-23T19:54:24.682Z"
   },
   {
    "duration": 280,
    "start_time": "2024-05-23T19:54:24.809Z"
   },
   {
    "duration": 660,
    "start_time": "2024-05-23T19:54:25.091Z"
   },
   {
    "duration": 126,
    "start_time": "2024-05-23T19:54:25.753Z"
   },
   {
    "duration": 5,
    "start_time": "2024-05-23T19:54:25.881Z"
   },
   {
    "duration": 530,
    "start_time": "2024-05-23T19:54:25.888Z"
   },
   {
    "duration": 32,
    "start_time": "2024-05-23T19:54:26.429Z"
   },
   {
    "duration": 503,
    "start_time": "2024-05-23T19:54:26.463Z"
   },
   {
    "duration": 32,
    "start_time": "2024-05-23T19:54:26.968Z"
   },
   {
    "duration": 519,
    "start_time": "2024-05-23T19:54:27.002Z"
   },
   {
    "duration": 31,
    "start_time": "2024-05-23T19:54:27.530Z"
   },
   {
    "duration": 564,
    "start_time": "2024-05-23T19:54:27.562Z"
   },
   {
    "duration": 28,
    "start_time": "2024-05-23T19:54:28.129Z"
   },
   {
    "duration": 6438,
    "start_time": "2024-05-23T19:54:28.158Z"
   },
   {
    "duration": 17,
    "start_time": "2024-05-23T19:54:34.598Z"
   },
   {
    "duration": 1192,
    "start_time": "2024-05-23T19:54:34.617Z"
   },
   {
    "duration": 26629,
    "start_time": "2024-05-23T19:54:35.811Z"
   },
   {
    "duration": 115,
    "start_time": "2024-05-23T19:55:02.442Z"
   },
   {
    "duration": 1127297,
    "start_time": "2024-05-23T19:55:02.561Z"
   },
   {
    "duration": 9288,
    "start_time": "2024-05-23T20:13:49.860Z"
   },
   {
    "duration": 117,
    "start_time": "2024-05-23T20:13:59.149Z"
   },
   {
    "duration": 9370,
    "start_time": "2024-05-23T20:13:59.267Z"
   },
   {
    "duration": 190,
    "start_time": "2024-05-23T22:02:41.726Z"
   },
   {
    "duration": 75,
    "start_time": "2024-05-23T22:02:56.750Z"
   },
   {
    "duration": 337,
    "start_time": "2024-05-23T22:04:14.698Z"
   },
   {
    "duration": 11,
    "start_time": "2024-05-23T22:04:20.236Z"
   },
   {
    "duration": 115,
    "start_time": "2024-05-24T06:38:36.156Z"
   },
   {
    "duration": 64,
    "start_time": "2024-05-24T06:38:36.566Z"
   },
   {
    "duration": 19303,
    "start_time": "2024-05-24T06:39:01.403Z"
   },
   {
    "duration": 3035,
    "start_time": "2024-05-24T06:39:20.709Z"
   },
   {
    "duration": 166,
    "start_time": "2024-05-24T06:39:23.745Z"
   },
   {
    "duration": 203,
    "start_time": "2024-05-24T06:39:23.913Z"
   },
   {
    "duration": 414,
    "start_time": "2024-05-24T06:39:24.118Z"
   },
   {
    "duration": 765,
    "start_time": "2024-05-24T06:39:24.534Z"
   },
   {
    "duration": 4,
    "start_time": "2024-05-24T06:39:25.301Z"
   },
   {
    "duration": 302,
    "start_time": "2024-05-24T06:39:25.306Z"
   },
   {
    "duration": 136,
    "start_time": "2024-05-24T06:39:25.609Z"
   },
   {
    "duration": 186,
    "start_time": "2024-05-24T06:39:25.748Z"
   },
   {
    "duration": 685,
    "start_time": "2024-05-24T06:39:25.935Z"
   },
   {
    "duration": 134,
    "start_time": "2024-05-24T06:39:26.622Z"
   },
   {
    "duration": 5,
    "start_time": "2024-05-24T06:39:26.757Z"
   },
   {
    "duration": 575,
    "start_time": "2024-05-24T06:39:26.764Z"
   },
   {
    "duration": 34,
    "start_time": "2024-05-24T06:39:27.341Z"
   },
   {
    "duration": 543,
    "start_time": "2024-05-24T06:39:27.376Z"
   },
   {
    "duration": 41,
    "start_time": "2024-05-24T06:39:27.921Z"
   },
   {
    "duration": 513,
    "start_time": "2024-05-24T06:39:27.964Z"
   },
   {
    "duration": 32,
    "start_time": "2024-05-24T06:39:28.478Z"
   },
   {
    "duration": 658,
    "start_time": "2024-05-24T06:39:28.528Z"
   },
   {
    "duration": 45,
    "start_time": "2024-05-24T06:39:29.188Z"
   },
   {
    "duration": 6584,
    "start_time": "2024-05-24T06:39:29.236Z"
   },
   {
    "duration": 19,
    "start_time": "2024-05-24T06:39:35.821Z"
   },
   {
    "duration": 223,
    "start_time": "2024-05-24T06:39:35.842Z"
   },
   {
    "duration": 0,
    "start_time": "2024-05-24T06:39:36.067Z"
   },
   {
    "duration": 0,
    "start_time": "2024-05-24T06:39:36.069Z"
   },
   {
    "duration": 0,
    "start_time": "2024-05-24T06:39:36.070Z"
   },
   {
    "duration": 0,
    "start_time": "2024-05-24T06:39:36.071Z"
   },
   {
    "duration": 0,
    "start_time": "2024-05-24T06:39:36.072Z"
   },
   {
    "duration": 0,
    "start_time": "2024-05-24T06:39:36.073Z"
   },
   {
    "duration": 0,
    "start_time": "2024-05-24T06:39:36.074Z"
   },
   {
    "duration": 0,
    "start_time": "2024-05-24T06:39:36.075Z"
   },
   {
    "duration": 0,
    "start_time": "2024-05-24T06:39:36.076Z"
   },
   {
    "duration": 3213,
    "start_time": "2024-05-24T06:41:17.987Z"
   },
   {
    "duration": 4896,
    "start_time": "2024-05-24T06:41:25.920Z"
   },
   {
    "duration": 996,
    "start_time": "2024-05-24T06:41:30.818Z"
   },
   {
    "duration": 182,
    "start_time": "2024-05-24T06:41:31.816Z"
   },
   {
    "duration": 220,
    "start_time": "2024-05-24T06:41:32.000Z"
   },
   {
    "duration": 420,
    "start_time": "2024-05-24T06:41:32.221Z"
   },
   {
    "duration": 757,
    "start_time": "2024-05-24T06:41:32.642Z"
   },
   {
    "duration": 4,
    "start_time": "2024-05-24T06:41:33.401Z"
   },
   {
    "duration": 223,
    "start_time": "2024-05-24T06:41:33.407Z"
   },
   {
    "duration": 139,
    "start_time": "2024-05-24T06:41:33.632Z"
   },
   {
    "duration": 285,
    "start_time": "2024-05-24T06:41:33.773Z"
   },
   {
    "duration": 663,
    "start_time": "2024-05-24T06:41:34.059Z"
   },
   {
    "duration": 138,
    "start_time": "2024-05-24T06:41:34.729Z"
   },
   {
    "duration": 6,
    "start_time": "2024-05-24T06:41:34.869Z"
   },
   {
    "duration": 580,
    "start_time": "2024-05-24T06:41:34.876Z"
   },
   {
    "duration": 34,
    "start_time": "2024-05-24T06:41:35.458Z"
   },
   {
    "duration": 528,
    "start_time": "2024-05-24T06:41:35.494Z"
   },
   {
    "duration": 36,
    "start_time": "2024-05-24T06:41:36.023Z"
   },
   {
    "duration": 534,
    "start_time": "2024-05-24T06:41:36.060Z"
   },
   {
    "duration": 43,
    "start_time": "2024-05-24T06:41:36.596Z"
   },
   {
    "duration": 631,
    "start_time": "2024-05-24T06:41:36.641Z"
   },
   {
    "duration": 27,
    "start_time": "2024-05-24T06:41:37.274Z"
   },
   {
    "duration": 6770,
    "start_time": "2024-05-24T06:41:37.304Z"
   },
   {
    "duration": 21,
    "start_time": "2024-05-24T06:41:44.076Z"
   },
   {
    "duration": 1268,
    "start_time": "2024-05-24T06:41:44.099Z"
   },
   {
    "duration": 27097,
    "start_time": "2024-05-24T06:41:45.369Z"
   },
   {
    "duration": 130,
    "start_time": "2024-05-24T06:42:12.467Z"
   },
   {
    "duration": 1131544,
    "start_time": "2024-05-24T06:42:12.598Z"
   },
   {
    "duration": 9684,
    "start_time": "2024-05-24T07:01:04.146Z"
   },
   {
    "duration": 46,
    "start_time": "2024-05-24T07:01:13.832Z"
   },
   {
    "duration": 9460,
    "start_time": "2024-05-24T07:01:13.879Z"
   },
   {
    "duration": 90,
    "start_time": "2024-05-24T07:01:23.341Z"
   },
   {
    "duration": 405,
    "start_time": "2024-05-24T07:01:23.433Z"
   },
   {
    "duration": 167,
    "start_time": "2024-05-24T07:01:23.840Z"
   },
   {
    "duration": 5,
    "start_time": "2024-05-24T07:05:54.655Z"
   },
   {
    "duration": 15576,
    "start_time": "2024-05-24T09:08:29.918Z"
   },
   {
    "duration": 1267,
    "start_time": "2024-05-24T09:08:45.496Z"
   },
   {
    "duration": 172,
    "start_time": "2024-05-24T09:08:46.765Z"
   },
   {
    "duration": 276,
    "start_time": "2024-05-24T09:08:46.938Z"
   },
   {
    "duration": 393,
    "start_time": "2024-05-24T09:08:47.216Z"
   },
   {
    "duration": 734,
    "start_time": "2024-05-24T09:08:47.611Z"
   },
   {
    "duration": 4,
    "start_time": "2024-05-24T09:08:48.347Z"
   },
   {
    "duration": 445,
    "start_time": "2024-05-24T09:08:48.353Z"
   },
   {
    "duration": 174,
    "start_time": "2024-05-24T09:08:48.800Z"
   },
   {
    "duration": 304,
    "start_time": "2024-05-24T09:08:48.976Z"
   },
   {
    "duration": 652,
    "start_time": "2024-05-24T09:08:49.282Z"
   },
   {
    "duration": 155,
    "start_time": "2024-05-24T09:08:49.936Z"
   },
   {
    "duration": 6,
    "start_time": "2024-05-24T09:08:50.093Z"
   },
   {
    "duration": 1294,
    "start_time": "2024-05-24T09:08:50.175Z"
   },
   {
    "duration": 32,
    "start_time": "2024-05-24T09:08:51.473Z"
   },
   {
    "duration": 1151,
    "start_time": "2024-05-24T09:08:51.507Z"
   },
   {
    "duration": 48,
    "start_time": "2024-05-24T09:08:52.660Z"
   },
   {
    "duration": 1165,
    "start_time": "2024-05-24T09:08:52.710Z"
   },
   {
    "duration": 31,
    "start_time": "2024-05-24T09:08:53.877Z"
   },
   {
    "duration": 1343,
    "start_time": "2024-05-24T09:08:53.910Z"
   },
   {
    "duration": 35,
    "start_time": "2024-05-24T09:08:55.254Z"
   },
   {
    "duration": 6185,
    "start_time": "2024-05-24T09:08:55.291Z"
   },
   {
    "duration": 16,
    "start_time": "2024-05-24T09:09:01.478Z"
   },
   {
    "duration": 1398,
    "start_time": "2024-05-24T09:09:01.497Z"
   },
   {
    "duration": 26088,
    "start_time": "2024-05-24T09:09:02.897Z"
   },
   {
    "duration": 51,
    "start_time": "2024-05-24T09:47:30.814Z"
   },
   {
    "duration": 4723,
    "start_time": "2024-05-24T09:52:38.335Z"
   },
   {
    "duration": 979,
    "start_time": "2024-05-24T09:52:43.061Z"
   },
   {
    "duration": 163,
    "start_time": "2024-05-24T09:52:44.041Z"
   },
   {
    "duration": 203,
    "start_time": "2024-05-24T09:52:44.206Z"
   },
   {
    "duration": 389,
    "start_time": "2024-05-24T09:52:44.410Z"
   },
   {
    "duration": 773,
    "start_time": "2024-05-24T09:52:44.800Z"
   },
   {
    "duration": 4,
    "start_time": "2024-05-24T09:52:45.574Z"
   },
   {
    "duration": 193,
    "start_time": "2024-05-24T09:52:45.580Z"
   },
   {
    "duration": 125,
    "start_time": "2024-05-24T09:52:45.775Z"
   },
   {
    "duration": 253,
    "start_time": "2024-05-24T09:52:45.903Z"
   },
   {
    "duration": 645,
    "start_time": "2024-05-24T09:52:46.158Z"
   },
   {
    "duration": 131,
    "start_time": "2024-05-24T09:52:46.806Z"
   },
   {
    "duration": 5,
    "start_time": "2024-05-24T09:52:46.938Z"
   },
   {
    "duration": 541,
    "start_time": "2024-05-24T09:52:46.944Z"
   },
   {
    "duration": 49,
    "start_time": "2024-05-24T09:52:47.487Z"
   },
   {
    "duration": 501,
    "start_time": "2024-05-24T09:52:47.538Z"
   },
   {
    "duration": 34,
    "start_time": "2024-05-24T09:52:48.041Z"
   },
   {
    "duration": 531,
    "start_time": "2024-05-24T09:52:48.076Z"
   },
   {
    "duration": 44,
    "start_time": "2024-05-24T09:52:48.609Z"
   },
   {
    "duration": 583,
    "start_time": "2024-05-24T09:52:48.654Z"
   },
   {
    "duration": 29,
    "start_time": "2024-05-24T09:52:49.239Z"
   },
   {
    "duration": 168,
    "start_time": "2024-05-24T09:52:49.270Z"
   },
   {
    "duration": 284,
    "start_time": "2024-05-24T09:53:36.241Z"
   },
   {
    "duration": 6255,
    "start_time": "2024-05-24T10:21:54.821Z"
   },
   {
    "duration": 59,
    "start_time": "2024-05-24T10:23:59.440Z"
   },
   {
    "duration": 108,
    "start_time": "2024-05-24T10:45:16.157Z"
   },
   {
    "duration": 4819,
    "start_time": "2024-05-24T10:48:17.558Z"
   },
   {
    "duration": 964,
    "start_time": "2024-05-24T10:48:22.379Z"
   },
   {
    "duration": 185,
    "start_time": "2024-05-24T10:48:23.346Z"
   },
   {
    "duration": 218,
    "start_time": "2024-05-24T10:48:23.533Z"
   },
   {
    "duration": 383,
    "start_time": "2024-05-24T10:48:23.754Z"
   },
   {
    "duration": 729,
    "start_time": "2024-05-24T10:48:24.139Z"
   },
   {
    "duration": 4,
    "start_time": "2024-05-24T10:48:24.870Z"
   },
   {
    "duration": 205,
    "start_time": "2024-05-24T10:48:24.876Z"
   },
   {
    "duration": 133,
    "start_time": "2024-05-24T10:48:25.083Z"
   },
   {
    "duration": 276,
    "start_time": "2024-05-24T10:48:25.218Z"
   },
   {
    "duration": 658,
    "start_time": "2024-05-24T10:48:25.496Z"
   },
   {
    "duration": 132,
    "start_time": "2024-05-24T10:48:26.156Z"
   },
   {
    "duration": 5,
    "start_time": "2024-05-24T10:48:26.290Z"
   },
   {
    "duration": 584,
    "start_time": "2024-05-24T10:48:26.298Z"
   },
   {
    "duration": 49,
    "start_time": "2024-05-24T10:48:26.884Z"
   },
   {
    "duration": 504,
    "start_time": "2024-05-24T10:48:26.934Z"
   },
   {
    "duration": 34,
    "start_time": "2024-05-24T10:48:27.440Z"
   },
   {
    "duration": 529,
    "start_time": "2024-05-24T10:48:27.476Z"
   },
   {
    "duration": 42,
    "start_time": "2024-05-24T10:48:28.007Z"
   },
   {
    "duration": 598,
    "start_time": "2024-05-24T10:48:28.051Z"
   },
   {
    "duration": 28,
    "start_time": "2024-05-24T10:48:28.651Z"
   },
   {
    "duration": 172,
    "start_time": "2024-05-24T10:48:28.681Z"
   },
   {
    "duration": 291,
    "start_time": "2024-05-24T10:48:28.855Z"
   },
   {
    "duration": 6322,
    "start_time": "2024-05-24T10:48:29.148Z"
   },
   {
    "duration": 14,
    "start_time": "2024-05-24T10:48:35.472Z"
   },
   {
    "duration": 1108,
    "start_time": "2024-05-24T10:48:35.488Z"
   },
   {
    "duration": 22265,
    "start_time": "2024-05-24T10:48:36.598Z"
   },
   {
    "duration": 129,
    "start_time": "2024-05-24T10:48:58.865Z"
   },
   {
    "duration": 1229957,
    "start_time": "2024-05-24T10:48:58.996Z"
   },
   {
    "duration": 10775,
    "start_time": "2024-05-24T11:09:28.955Z"
   },
   {
    "duration": 44,
    "start_time": "2024-05-24T11:09:39.731Z"
   },
   {
    "duration": 9555,
    "start_time": "2024-05-24T11:09:39.776Z"
   },
   {
    "duration": 8,
    "start_time": "2024-05-24T11:09:49.333Z"
   },
   {
    "duration": 398,
    "start_time": "2024-05-24T11:09:49.342Z"
   },
   {
    "duration": 6,
    "start_time": "2024-05-24T11:09:49.741Z"
   },
   {
    "duration": 6,
    "start_time": "2024-05-24T11:10:57.661Z"
   },
   {
    "duration": 7,
    "start_time": "2024-05-24T11:11:04.063Z"
   },
   {
    "duration": 7,
    "start_time": "2024-05-24T11:11:11.872Z"
   },
   {
    "duration": 20376,
    "start_time": "2024-05-25T08:30:54.800Z"
   },
   {
    "duration": 1294,
    "start_time": "2024-05-25T08:31:15.179Z"
   },
   {
    "duration": 173,
    "start_time": "2024-05-25T08:31:16.475Z"
   },
   {
    "duration": 232,
    "start_time": "2024-05-25T08:31:16.650Z"
   },
   {
    "duration": 430,
    "start_time": "2024-05-25T08:31:16.885Z"
   },
   {
    "duration": 763,
    "start_time": "2024-05-25T08:31:17.317Z"
   },
   {
    "duration": 4,
    "start_time": "2024-05-25T08:31:18.081Z"
   },
   {
    "duration": 294,
    "start_time": "2024-05-25T08:31:18.086Z"
   },
   {
    "duration": 133,
    "start_time": "2024-05-25T08:31:18.382Z"
   },
   {
    "duration": 303,
    "start_time": "2024-05-25T08:31:18.517Z"
   },
   {
    "duration": 690,
    "start_time": "2024-05-25T08:31:18.822Z"
   },
   {
    "duration": 129,
    "start_time": "2024-05-25T08:31:19.514Z"
   },
   {
    "duration": 5,
    "start_time": "2024-05-25T08:31:19.645Z"
   },
   {
    "duration": 588,
    "start_time": "2024-05-25T08:31:19.652Z"
   },
   {
    "duration": 50,
    "start_time": "2024-05-25T08:31:20.242Z"
   },
   {
    "duration": 537,
    "start_time": "2024-05-25T08:31:20.294Z"
   },
   {
    "duration": 54,
    "start_time": "2024-05-25T08:31:20.833Z"
   },
   {
    "duration": 49,
    "start_time": "2024-05-25T08:40:30.266Z"
   },
   {
    "duration": 5755,
    "start_time": "2024-05-25T08:40:34.023Z"
   },
   {
    "duration": 1294,
    "start_time": "2024-05-25T08:40:39.781Z"
   },
   {
    "duration": 170,
    "start_time": "2024-05-25T08:40:41.077Z"
   },
   {
    "duration": 146,
    "start_time": "2024-05-25T08:40:41.249Z"
   },
   {
    "duration": 47,
    "start_time": "2024-05-25T08:42:23.162Z"
   },
   {
    "duration": 42,
    "start_time": "2024-05-25T08:42:42.181Z"
   },
   {
    "duration": 151,
    "start_time": "2024-05-25T08:43:36.540Z"
   },
   {
    "duration": 51,
    "start_time": "2024-05-25T08:43:42.986Z"
   },
   {
    "duration": 53,
    "start_time": "2024-05-25T08:43:58.856Z"
   },
   {
    "duration": 53,
    "start_time": "2024-05-25T08:44:00.696Z"
   },
   {
    "duration": 67,
    "start_time": "2024-05-25T08:46:20.493Z"
   },
   {
    "duration": 45,
    "start_time": "2024-05-25T08:46:53.344Z"
   },
   {
    "duration": 3272,
    "start_time": "2024-05-25T08:47:12.929Z"
   },
   {
    "duration": 1080,
    "start_time": "2024-05-25T08:47:16.206Z"
   },
   {
    "duration": 180,
    "start_time": "2024-05-25T08:47:17.288Z"
   },
   {
    "duration": 142,
    "start_time": "2024-05-25T08:47:17.470Z"
   },
   {
    "duration": 43,
    "start_time": "2024-05-25T08:47:27.710Z"
   },
   {
    "duration": 9,
    "start_time": "2024-05-25T08:47:48.729Z"
   },
   {
    "duration": 3362,
    "start_time": "2024-05-25T08:47:55.075Z"
   },
   {
    "duration": 1037,
    "start_time": "2024-05-25T08:47:58.440Z"
   },
   {
    "duration": 176,
    "start_time": "2024-05-25T08:47:59.480Z"
   },
   {
    "duration": 110,
    "start_time": "2024-05-25T08:47:59.658Z"
   },
   {
    "duration": 122,
    "start_time": "2024-05-25T08:48:04.977Z"
   },
   {
    "duration": 47,
    "start_time": "2024-05-25T08:48:16.299Z"
   },
   {
    "duration": 54,
    "start_time": "2024-05-25T08:48:29.482Z"
   },
   {
    "duration": 50,
    "start_time": "2024-05-25T08:48:36.835Z"
   },
   {
    "duration": 53,
    "start_time": "2024-05-25T08:49:02.902Z"
   },
   {
    "duration": 13,
    "start_time": "2024-05-25T08:49:09.186Z"
   },
   {
    "duration": 16,
    "start_time": "2024-05-25T08:49:15.828Z"
   },
   {
    "duration": 60,
    "start_time": "2024-05-25T08:49:34.610Z"
   },
   {
    "duration": 43,
    "start_time": "2024-05-25T08:49:41.666Z"
   },
   {
    "duration": 44,
    "start_time": "2024-05-25T08:49:44.727Z"
   },
   {
    "duration": 11,
    "start_time": "2024-05-25T08:50:33.640Z"
   },
   {
    "duration": 7,
    "start_time": "2024-05-25T08:50:46.032Z"
   },
   {
    "duration": 638,
    "start_time": "2024-05-25T08:50:48.635Z"
   },
   {
    "duration": 3354,
    "start_time": "2024-05-25T08:51:34.630Z"
   },
   {
    "duration": 974,
    "start_time": "2024-05-25T08:51:37.987Z"
   },
   {
    "duration": 189,
    "start_time": "2024-05-25T08:51:38.962Z"
   },
   {
    "duration": 141,
    "start_time": "2024-05-25T08:51:39.153Z"
   },
   {
    "duration": 18,
    "start_time": "2024-05-25T08:53:34.073Z"
   },
   {
    "duration": 4,
    "start_time": "2024-05-25T08:54:32.242Z"
   },
   {
    "duration": 1639,
    "start_time": "2024-05-25T08:54:35.114Z"
   },
   {
    "duration": 3428,
    "start_time": "2024-05-25T08:55:09.489Z"
   },
   {
    "duration": 925,
    "start_time": "2024-05-25T08:55:12.920Z"
   },
   {
    "duration": 189,
    "start_time": "2024-05-25T08:55:13.847Z"
   },
   {
    "duration": 4820,
    "start_time": "2024-05-25T09:03:45.381Z"
   },
   {
    "duration": 1022,
    "start_time": "2024-05-25T09:03:50.203Z"
   },
   {
    "duration": 175,
    "start_time": "2024-05-25T09:03:51.227Z"
   },
   {
    "duration": 336,
    "start_time": "2024-05-25T09:03:51.404Z"
   },
   {
    "duration": 142,
    "start_time": "2024-05-25T09:03:51.742Z"
   },
   {
    "duration": 235,
    "start_time": "2024-05-25T09:03:51.886Z"
   },
   {
    "duration": 444,
    "start_time": "2024-05-25T09:03:52.123Z"
   },
   {
    "duration": 13,
    "start_time": "2024-05-25T09:03:52.569Z"
   },
   {
    "duration": 225,
    "start_time": "2024-05-25T09:03:52.584Z"
   },
   {
    "duration": 149,
    "start_time": "2024-05-25T09:03:52.812Z"
   },
   {
    "duration": 275,
    "start_time": "2024-05-25T09:03:52.963Z"
   },
   {
    "duration": 669,
    "start_time": "2024-05-25T09:03:53.240Z"
   },
   {
    "duration": 135,
    "start_time": "2024-05-25T09:03:53.911Z"
   },
   {
    "duration": 5,
    "start_time": "2024-05-25T09:03:54.048Z"
   },
   {
    "duration": 634,
    "start_time": "2024-05-25T09:03:54.054Z"
   },
   {
    "duration": 22,
    "start_time": "2024-05-25T09:03:54.690Z"
   },
   {
    "duration": 1453,
    "start_time": "2024-05-25T09:03:54.713Z"
   },
   {
    "duration": 0,
    "start_time": "2024-05-25T09:03:56.168Z"
   },
   {
    "duration": 0,
    "start_time": "2024-05-25T09:03:56.180Z"
   },
   {
    "duration": 0,
    "start_time": "2024-05-25T09:03:56.182Z"
   },
   {
    "duration": 0,
    "start_time": "2024-05-25T09:03:56.183Z"
   },
   {
    "duration": 0,
    "start_time": "2024-05-25T09:03:56.185Z"
   },
   {
    "duration": 0,
    "start_time": "2024-05-25T09:03:56.186Z"
   },
   {
    "duration": 0,
    "start_time": "2024-05-25T09:03:56.187Z"
   },
   {
    "duration": 0,
    "start_time": "2024-05-25T09:03:56.189Z"
   },
   {
    "duration": 0,
    "start_time": "2024-05-25T09:03:56.190Z"
   },
   {
    "duration": 0,
    "start_time": "2024-05-25T09:03:56.192Z"
   },
   {
    "duration": 16,
    "start_time": "2024-05-25T09:18:07.092Z"
   },
   {
    "duration": 3266,
    "start_time": "2024-05-25T09:18:17.976Z"
   },
   {
    "duration": 1027,
    "start_time": "2024-05-25T09:18:21.245Z"
   },
   {
    "duration": 171,
    "start_time": "2024-05-25T09:18:22.274Z"
   },
   {
    "duration": 271,
    "start_time": "2024-05-25T09:18:22.447Z"
   },
   {
    "duration": 133,
    "start_time": "2024-05-25T09:18:22.720Z"
   },
   {
    "duration": 224,
    "start_time": "2024-05-25T09:18:22.854Z"
   },
   {
    "duration": 432,
    "start_time": "2024-05-25T09:18:23.080Z"
   },
   {
    "duration": 5,
    "start_time": "2024-05-25T09:18:23.514Z"
   },
   {
    "duration": 218,
    "start_time": "2024-05-25T09:18:23.520Z"
   },
   {
    "duration": 129,
    "start_time": "2024-05-25T09:18:23.741Z"
   },
   {
    "duration": 173,
    "start_time": "2024-05-25T09:18:23.881Z"
   },
   {
    "duration": 647,
    "start_time": "2024-05-25T09:18:24.057Z"
   },
   {
    "duration": 142,
    "start_time": "2024-05-25T09:18:24.706Z"
   },
   {
    "duration": 4,
    "start_time": "2024-05-25T09:18:24.850Z"
   },
   {
    "duration": 556,
    "start_time": "2024-05-25T09:18:24.856Z"
   },
   {
    "duration": 19,
    "start_time": "2024-05-25T09:18:25.414Z"
   },
   {
    "duration": 1257,
    "start_time": "2024-05-25T09:18:25.435Z"
   },
   {
    "duration": 0,
    "start_time": "2024-05-25T09:18:26.693Z"
   },
   {
    "duration": 0,
    "start_time": "2024-05-25T09:18:26.695Z"
   },
   {
    "duration": 0,
    "start_time": "2024-05-25T09:18:26.696Z"
   },
   {
    "duration": 0,
    "start_time": "2024-05-25T09:18:26.697Z"
   },
   {
    "duration": 0,
    "start_time": "2024-05-25T09:18:26.698Z"
   },
   {
    "duration": 0,
    "start_time": "2024-05-25T09:18:26.699Z"
   },
   {
    "duration": 0,
    "start_time": "2024-05-25T09:18:26.700Z"
   },
   {
    "duration": 0,
    "start_time": "2024-05-25T09:18:26.701Z"
   },
   {
    "duration": 0,
    "start_time": "2024-05-25T09:18:26.702Z"
   },
   {
    "duration": 0,
    "start_time": "2024-05-25T09:18:26.703Z"
   },
   {
    "duration": 0,
    "start_time": "2024-05-25T09:18:26.704Z"
   },
   {
    "duration": 0,
    "start_time": "2024-05-25T09:18:26.705Z"
   },
   {
    "duration": 7,
    "start_time": "2024-05-25T09:26:53.451Z"
   },
   {
    "duration": 12,
    "start_time": "2024-05-25T09:31:12.438Z"
   },
   {
    "duration": 16,
    "start_time": "2024-05-25T09:33:49.040Z"
   },
   {
    "duration": 71,
    "start_time": "2024-05-25T09:33:58.734Z"
   },
   {
    "duration": 13,
    "start_time": "2024-05-25T09:33:59.149Z"
   },
   {
    "duration": 6,
    "start_time": "2024-05-25T09:34:02.307Z"
   },
   {
    "duration": 1223,
    "start_time": "2024-05-25T09:34:12.020Z"
   },
   {
    "duration": 470,
    "start_time": "2024-05-25T09:35:09.919Z"
   },
   {
    "duration": 6,
    "start_time": "2024-05-25T09:35:10.552Z"
   },
   {
    "duration": 6,
    "start_time": "2024-05-25T09:35:12.093Z"
   },
   {
    "duration": 913,
    "start_time": "2024-05-25T09:35:18.790Z"
   },
   {
    "duration": 0,
    "start_time": "2024-05-25T09:35:19.705Z"
   },
   {
    "duration": 61,
    "start_time": "2024-05-25T09:35:28.778Z"
   },
   {
    "duration": 25,
    "start_time": "2024-05-25T09:36:51.713Z"
   },
   {
    "duration": 33,
    "start_time": "2024-05-25T09:37:08.117Z"
   },
   {
    "duration": 487,
    "start_time": "2024-05-25T09:37:24.896Z"
   },
   {
    "duration": 128,
    "start_time": "2024-05-25T09:37:42.836Z"
   },
   {
    "duration": 4825,
    "start_time": "2024-05-25T09:38:06.567Z"
   },
   {
    "duration": 1055,
    "start_time": "2024-05-25T09:38:11.394Z"
   },
   {
    "duration": 183,
    "start_time": "2024-05-25T09:38:12.451Z"
   },
   {
    "duration": 477,
    "start_time": "2024-05-25T09:38:12.636Z"
   },
   {
    "duration": 6,
    "start_time": "2024-05-25T09:38:13.115Z"
   },
   {
    "duration": 3203,
    "start_time": "2024-05-25T09:38:30.312Z"
   },
   {
    "duration": 959,
    "start_time": "2024-05-25T09:38:33.517Z"
   },
   {
    "duration": 166,
    "start_time": "2024-05-25T09:38:34.477Z"
   },
   {
    "duration": 397,
    "start_time": "2024-05-25T09:38:34.645Z"
   },
   {
    "duration": 160,
    "start_time": "2024-05-25T09:38:35.044Z"
   },
   {
    "duration": 184,
    "start_time": "2024-05-25T09:38:35.206Z"
   },
   {
    "duration": 315,
    "start_time": "2024-05-25T09:38:35.392Z"
   },
   {
    "duration": 4,
    "start_time": "2024-05-25T09:38:35.708Z"
   },
   {
    "duration": 198,
    "start_time": "2024-05-25T09:38:35.714Z"
   },
   {
    "duration": 135,
    "start_time": "2024-05-25T09:38:35.915Z"
   },
   {
    "duration": 260,
    "start_time": "2024-05-25T09:38:36.052Z"
   },
   {
    "duration": 656,
    "start_time": "2024-05-25T09:38:36.314Z"
   },
   {
    "duration": 131,
    "start_time": "2024-05-25T09:38:36.971Z"
   },
   {
    "duration": 4,
    "start_time": "2024-05-25T09:38:37.104Z"
   },
   {
    "duration": 579,
    "start_time": "2024-05-25T09:38:37.109Z"
   },
   {
    "duration": 19,
    "start_time": "2024-05-25T09:38:37.690Z"
   },
   {
    "duration": 494,
    "start_time": "2024-05-25T09:38:37.711Z"
   },
   {
    "duration": 493,
    "start_time": "2024-05-25T09:38:38.206Z"
   },
   {
    "duration": 20,
    "start_time": "2024-05-25T09:38:38.700Z"
   },
   {
    "duration": 533,
    "start_time": "2024-05-25T09:38:38.722Z"
   },
   {
    "duration": 36,
    "start_time": "2024-05-25T09:38:39.258Z"
   },
   {
    "duration": 656,
    "start_time": "2024-05-25T09:38:39.296Z"
   },
   {
    "duration": 31,
    "start_time": "2024-05-25T09:38:39.954Z"
   },
   {
    "duration": 148,
    "start_time": "2024-05-25T09:38:39.987Z"
   },
   {
    "duration": 285,
    "start_time": "2024-05-25T09:38:40.137Z"
   },
   {
    "duration": 6309,
    "start_time": "2024-05-25T09:38:40.425Z"
   },
   {
    "duration": 13,
    "start_time": "2024-05-25T09:38:46.736Z"
   },
   {
    "duration": 1204,
    "start_time": "2024-05-25T09:38:46.753Z"
   },
   {
    "duration": 24663,
    "start_time": "2024-05-25T09:38:47.959Z"
   },
   {
    "duration": 52,
    "start_time": "2024-05-25T10:02:11.523Z"
   },
   {
    "duration": 7,
    "start_time": "2024-05-25T10:03:16.284Z"
   },
   {
    "duration": 7,
    "start_time": "2024-05-25T10:04:50.296Z"
   },
   {
    "duration": 50,
    "start_time": "2024-05-25T10:05:03.686Z"
   },
   {
    "duration": 140,
    "start_time": "2024-05-25T10:06:49.791Z"
   },
   {
    "duration": 9,
    "start_time": "2024-05-25T10:07:02.809Z"
   },
   {
    "duration": 22317,
    "start_time": "2024-05-25T10:07:08.995Z"
   },
   {
    "duration": 10,
    "start_time": "2024-05-25T10:08:04.320Z"
   },
   {
    "duration": 11,
    "start_time": "2024-05-25T10:08:09.582Z"
   },
   {
    "duration": 4,
    "start_time": "2024-05-25T10:08:21.515Z"
   },
   {
    "duration": 27,
    "start_time": "2024-05-25T10:08:37.837Z"
   },
   {
    "duration": 51,
    "start_time": "2024-05-25T10:09:26.814Z"
   },
   {
    "duration": 4,
    "start_time": "2024-05-25T10:09:41.259Z"
   },
   {
    "duration": 44,
    "start_time": "2024-05-25T10:09:50.777Z"
   },
   {
    "duration": 10,
    "start_time": "2024-05-25T10:12:59.770Z"
   },
   {
    "duration": 4,
    "start_time": "2024-05-25T10:13:04.122Z"
   },
   {
    "duration": 56,
    "start_time": "2024-05-25T10:23:05.581Z"
   },
   {
    "duration": 3945,
    "start_time": "2024-05-25T10:23:36.730Z"
   },
   {
    "duration": 1134,
    "start_time": "2024-05-25T10:23:49.526Z"
   },
   {
    "duration": 24673,
    "start_time": "2024-05-25T10:23:52.749Z"
   },
   {
    "duration": 4,
    "start_time": "2024-05-25T10:24:22.921Z"
   },
   {
    "duration": 25,
    "start_time": "2024-05-25T10:26:57.789Z"
   },
   {
    "duration": 13,
    "start_time": "2024-05-25T10:28:00.687Z"
   },
   {
    "duration": 24288,
    "start_time": "2024-05-25T10:28:10.227Z"
   },
   {
    "duration": 24502,
    "start_time": "2024-05-25T10:28:46.112Z"
   },
   {
    "duration": 4,
    "start_time": "2024-05-25T10:29:21.721Z"
   },
   {
    "duration": 4023,
    "start_time": "2024-05-25T10:30:12.583Z"
   },
   {
    "duration": 23937,
    "start_time": "2024-05-25T10:30:18.685Z"
   },
   {
    "duration": 18,
    "start_time": "2024-05-25T10:30:48.579Z"
   },
   {
    "duration": 12,
    "start_time": "2024-05-25T10:30:55.277Z"
   },
   {
    "duration": 24270,
    "start_time": "2024-05-25T10:31:06.612Z"
   },
   {
    "duration": 3,
    "start_time": "2024-05-25T10:31:56.186Z"
   },
   {
    "duration": 5,
    "start_time": "2024-05-25T10:32:30.910Z"
   },
   {
    "duration": 25,
    "start_time": "2024-05-25T10:33:00.629Z"
   },
   {
    "duration": 23947,
    "start_time": "2024-05-25T10:35:15.486Z"
   },
   {
    "duration": 24993,
    "start_time": "2024-05-25T10:36:09.693Z"
   },
   {
    "duration": 24493,
    "start_time": "2024-05-25T10:37:51.009Z"
   },
   {
    "duration": 23946,
    "start_time": "2024-05-25T10:39:45.962Z"
   },
   {
    "duration": 158,
    "start_time": "2024-05-25T10:45:31.107Z"
   },
   {
    "duration": 107,
    "start_time": "2024-05-25T10:45:39.066Z"
   },
   {
    "duration": 4783,
    "start_time": "2024-05-25T10:59:45.672Z"
   },
   {
    "duration": 0,
    "start_time": "2024-05-25T10:59:50.458Z"
   },
   {
    "duration": 0,
    "start_time": "2024-05-25T10:59:50.459Z"
   },
   {
    "duration": 0,
    "start_time": "2024-05-25T10:59:50.461Z"
   },
   {
    "duration": 0,
    "start_time": "2024-05-25T10:59:50.462Z"
   },
   {
    "duration": 0,
    "start_time": "2024-05-25T10:59:50.463Z"
   },
   {
    "duration": 0,
    "start_time": "2024-05-25T10:59:50.464Z"
   },
   {
    "duration": 0,
    "start_time": "2024-05-25T10:59:50.465Z"
   },
   {
    "duration": 0,
    "start_time": "2024-05-25T10:59:50.481Z"
   },
   {
    "duration": 0,
    "start_time": "2024-05-25T10:59:50.482Z"
   },
   {
    "duration": 0,
    "start_time": "2024-05-25T10:59:50.483Z"
   },
   {
    "duration": 0,
    "start_time": "2024-05-25T10:59:50.485Z"
   },
   {
    "duration": 0,
    "start_time": "2024-05-25T10:59:50.486Z"
   },
   {
    "duration": 0,
    "start_time": "2024-05-25T10:59:50.488Z"
   },
   {
    "duration": 0,
    "start_time": "2024-05-25T10:59:50.489Z"
   },
   {
    "duration": 0,
    "start_time": "2024-05-25T10:59:50.491Z"
   },
   {
    "duration": 0,
    "start_time": "2024-05-25T10:59:50.495Z"
   },
   {
    "duration": 0,
    "start_time": "2024-05-25T10:59:50.497Z"
   },
   {
    "duration": 0,
    "start_time": "2024-05-25T10:59:50.499Z"
   },
   {
    "duration": 0,
    "start_time": "2024-05-25T10:59:50.500Z"
   },
   {
    "duration": 0,
    "start_time": "2024-05-25T10:59:50.501Z"
   },
   {
    "duration": 0,
    "start_time": "2024-05-25T10:59:50.503Z"
   },
   {
    "duration": 0,
    "start_time": "2024-05-25T10:59:50.504Z"
   },
   {
    "duration": 0,
    "start_time": "2024-05-25T10:59:50.505Z"
   },
   {
    "duration": 0,
    "start_time": "2024-05-25T10:59:50.506Z"
   },
   {
    "duration": 0,
    "start_time": "2024-05-25T10:59:50.508Z"
   },
   {
    "duration": 0,
    "start_time": "2024-05-25T10:59:50.509Z"
   },
   {
    "duration": 0,
    "start_time": "2024-05-25T10:59:50.510Z"
   },
   {
    "duration": 0,
    "start_time": "2024-05-25T10:59:50.512Z"
   },
   {
    "duration": 0,
    "start_time": "2024-05-25T10:59:50.514Z"
   },
   {
    "duration": 0,
    "start_time": "2024-05-25T10:59:50.515Z"
   },
   {
    "duration": 0,
    "start_time": "2024-05-25T10:59:50.516Z"
   },
   {
    "duration": 0,
    "start_time": "2024-05-25T10:59:50.580Z"
   },
   {
    "duration": 0,
    "start_time": "2024-05-25T10:59:50.582Z"
   },
   {
    "duration": 0,
    "start_time": "2024-05-25T10:59:50.583Z"
   },
   {
    "duration": 0,
    "start_time": "2024-05-25T10:59:50.584Z"
   },
   {
    "duration": 0,
    "start_time": "2024-05-25T10:59:50.585Z"
   },
   {
    "duration": 0,
    "start_time": "2024-05-25T10:59:50.586Z"
   },
   {
    "duration": 4822,
    "start_time": "2024-05-25T11:05:23.546Z"
   },
   {
    "duration": 0,
    "start_time": "2024-05-25T11:05:28.371Z"
   },
   {
    "duration": 0,
    "start_time": "2024-05-25T11:05:28.380Z"
   },
   {
    "duration": 0,
    "start_time": "2024-05-25T11:05:28.382Z"
   },
   {
    "duration": 0,
    "start_time": "2024-05-25T11:05:28.383Z"
   },
   {
    "duration": 0,
    "start_time": "2024-05-25T11:05:28.384Z"
   },
   {
    "duration": 0,
    "start_time": "2024-05-25T11:05:28.385Z"
   },
   {
    "duration": 0,
    "start_time": "2024-05-25T11:05:28.386Z"
   },
   {
    "duration": 0,
    "start_time": "2024-05-25T11:05:28.388Z"
   },
   {
    "duration": 0,
    "start_time": "2024-05-25T11:05:28.389Z"
   },
   {
    "duration": 0,
    "start_time": "2024-05-25T11:05:28.390Z"
   },
   {
    "duration": 0,
    "start_time": "2024-05-25T11:05:28.391Z"
   },
   {
    "duration": 0,
    "start_time": "2024-05-25T11:05:28.392Z"
   },
   {
    "duration": 0,
    "start_time": "2024-05-25T11:05:28.393Z"
   },
   {
    "duration": 0,
    "start_time": "2024-05-25T11:05:28.395Z"
   },
   {
    "duration": 0,
    "start_time": "2024-05-25T11:05:28.396Z"
   },
   {
    "duration": 0,
    "start_time": "2024-05-25T11:05:28.400Z"
   },
   {
    "duration": 0,
    "start_time": "2024-05-25T11:05:28.401Z"
   },
   {
    "duration": 0,
    "start_time": "2024-05-25T11:05:28.402Z"
   },
   {
    "duration": 0,
    "start_time": "2024-05-25T11:05:28.403Z"
   },
   {
    "duration": 0,
    "start_time": "2024-05-25T11:05:28.404Z"
   },
   {
    "duration": 0,
    "start_time": "2024-05-25T11:05:28.406Z"
   },
   {
    "duration": 0,
    "start_time": "2024-05-25T11:05:28.407Z"
   },
   {
    "duration": 0,
    "start_time": "2024-05-25T11:05:28.408Z"
   },
   {
    "duration": 0,
    "start_time": "2024-05-25T11:05:28.409Z"
   },
   {
    "duration": 0,
    "start_time": "2024-05-25T11:05:28.410Z"
   },
   {
    "duration": 0,
    "start_time": "2024-05-25T11:05:28.411Z"
   },
   {
    "duration": 0,
    "start_time": "2024-05-25T11:05:28.412Z"
   },
   {
    "duration": 0,
    "start_time": "2024-05-25T11:05:28.414Z"
   },
   {
    "duration": 0,
    "start_time": "2024-05-25T11:05:28.414Z"
   },
   {
    "duration": 1,
    "start_time": "2024-05-25T11:05:28.415Z"
   },
   {
    "duration": 0,
    "start_time": "2024-05-25T11:05:28.417Z"
   },
   {
    "duration": 0,
    "start_time": "2024-05-25T11:05:28.418Z"
   },
   {
    "duration": 0,
    "start_time": "2024-05-25T11:05:28.419Z"
   },
   {
    "duration": 0,
    "start_time": "2024-05-25T11:05:28.420Z"
   },
   {
    "duration": 0,
    "start_time": "2024-05-25T11:05:28.481Z"
   },
   {
    "duration": 0,
    "start_time": "2024-05-25T11:05:28.482Z"
   },
   {
    "duration": 0,
    "start_time": "2024-05-25T11:05:28.483Z"
   },
   {
    "duration": 3367,
    "start_time": "2024-05-25T11:18:46.249Z"
   },
   {
    "duration": 4619,
    "start_time": "2024-05-25T11:18:51.580Z"
   },
   {
    "duration": 943,
    "start_time": "2024-05-25T11:18:56.202Z"
   },
   {
    "duration": 196,
    "start_time": "2024-05-25T11:18:57.147Z"
   },
   {
    "duration": 479,
    "start_time": "2024-05-25T11:18:57.345Z"
   },
   {
    "duration": 171,
    "start_time": "2024-05-25T11:18:57.827Z"
   },
   {
    "duration": 190,
    "start_time": "2024-05-25T11:18:58.000Z"
   },
   {
    "duration": 315,
    "start_time": "2024-05-25T11:18:58.191Z"
   },
   {
    "duration": 4,
    "start_time": "2024-05-25T11:18:58.508Z"
   },
   {
    "duration": 207,
    "start_time": "2024-05-25T11:18:58.513Z"
   },
   {
    "duration": 125,
    "start_time": "2024-05-25T11:18:58.722Z"
   },
   {
    "duration": 265,
    "start_time": "2024-05-25T11:18:58.849Z"
   },
   {
    "duration": 667,
    "start_time": "2024-05-25T11:18:59.115Z"
   },
   {
    "duration": 129,
    "start_time": "2024-05-25T11:18:59.784Z"
   },
   {
    "duration": 4,
    "start_time": "2024-05-25T11:18:59.916Z"
   },
   {
    "duration": 534,
    "start_time": "2024-05-25T11:18:59.922Z"
   },
   {
    "duration": 30,
    "start_time": "2024-05-25T11:19:00.458Z"
   },
   {
    "duration": 644,
    "start_time": "2024-05-25T11:19:00.490Z"
   },
   {
    "duration": 514,
    "start_time": "2024-05-25T11:19:01.136Z"
   },
   {
    "duration": 36,
    "start_time": "2024-05-25T11:19:01.652Z"
   },
   {
    "duration": 519,
    "start_time": "2024-05-25T11:19:01.690Z"
   },
   {
    "duration": 18,
    "start_time": "2024-05-25T11:19:02.210Z"
   },
   {
    "duration": 675,
    "start_time": "2024-05-25T11:19:02.230Z"
   },
   {
    "duration": 14,
    "start_time": "2024-05-25T11:19:02.907Z"
   },
   {
    "duration": 259,
    "start_time": "2024-05-25T11:19:02.923Z"
   },
   {
    "duration": 283,
    "start_time": "2024-05-25T11:19:03.183Z"
   },
   {
    "duration": 6290,
    "start_time": "2024-05-25T11:19:03.468Z"
   },
   {
    "duration": 24,
    "start_time": "2024-05-25T11:19:09.760Z"
   },
   {
    "duration": 1203,
    "start_time": "2024-05-25T11:19:09.785Z"
   },
   {
    "duration": 27985,
    "start_time": "2024-05-25T11:19:10.989Z"
   },
   {
    "duration": 134,
    "start_time": "2024-05-25T11:19:38.975Z"
   },
   {
    "duration": 6649,
    "start_time": "2024-05-25T11:19:39.111Z"
   },
   {
    "duration": 0,
    "start_time": "2024-05-25T11:19:45.762Z"
   },
   {
    "duration": 0,
    "start_time": "2024-05-25T11:19:45.764Z"
   },
   {
    "duration": 0,
    "start_time": "2024-05-25T11:19:45.765Z"
   },
   {
    "duration": 0,
    "start_time": "2024-05-25T11:19:45.766Z"
   },
   {
    "duration": 0,
    "start_time": "2024-05-25T11:19:45.767Z"
   },
   {
    "duration": 1,
    "start_time": "2024-05-25T11:19:45.779Z"
   },
   {
    "duration": 0,
    "start_time": "2024-05-25T11:19:45.781Z"
   },
   {
    "duration": 4761,
    "start_time": "2024-05-25T11:22:00.259Z"
   },
   {
    "duration": 966,
    "start_time": "2024-05-25T11:22:05.022Z"
   },
   {
    "duration": 180,
    "start_time": "2024-05-25T11:22:05.990Z"
   },
   {
    "duration": 466,
    "start_time": "2024-05-25T11:22:06.172Z"
   },
   {
    "duration": 166,
    "start_time": "2024-05-25T11:22:06.641Z"
   },
   {
    "duration": 193,
    "start_time": "2024-05-25T11:22:06.809Z"
   },
   {
    "duration": 336,
    "start_time": "2024-05-25T11:22:07.004Z"
   },
   {
    "duration": 5,
    "start_time": "2024-05-25T11:22:07.342Z"
   },
   {
    "duration": 217,
    "start_time": "2024-05-25T11:22:07.349Z"
   },
   {
    "duration": 130,
    "start_time": "2024-05-25T11:22:07.568Z"
   },
   {
    "duration": 254,
    "start_time": "2024-05-25T11:22:07.700Z"
   },
   {
    "duration": 653,
    "start_time": "2024-05-25T11:22:07.956Z"
   },
   {
    "duration": 143,
    "start_time": "2024-05-25T11:22:08.610Z"
   },
   {
    "duration": 6,
    "start_time": "2024-05-25T11:22:08.757Z"
   },
   {
    "duration": 584,
    "start_time": "2024-05-25T11:22:08.765Z"
   },
   {
    "duration": 30,
    "start_time": "2024-05-25T11:22:09.351Z"
   },
   {
    "duration": 487,
    "start_time": "2024-05-25T11:22:09.383Z"
   },
   {
    "duration": 516,
    "start_time": "2024-05-25T11:22:09.871Z"
   },
   {
    "duration": 19,
    "start_time": "2024-05-25T11:22:10.388Z"
   },
   {
    "duration": 559,
    "start_time": "2024-05-25T11:22:10.409Z"
   },
   {
    "duration": 20,
    "start_time": "2024-05-25T11:22:10.981Z"
   },
   {
    "duration": 705,
    "start_time": "2024-05-25T11:22:11.003Z"
   },
   {
    "duration": 14,
    "start_time": "2024-05-25T11:22:11.710Z"
   },
   {
    "duration": 158,
    "start_time": "2024-05-25T11:22:11.725Z"
   },
   {
    "duration": 314,
    "start_time": "2024-05-25T11:22:11.885Z"
   },
   {
    "duration": 6499,
    "start_time": "2024-05-25T11:22:12.201Z"
   },
   {
    "duration": 17,
    "start_time": "2024-05-25T11:22:18.702Z"
   },
   {
    "duration": 1242,
    "start_time": "2024-05-25T11:22:18.720Z"
   },
   {
    "duration": 29463,
    "start_time": "2024-05-25T11:22:19.964Z"
   },
   {
    "duration": 118,
    "start_time": "2024-05-25T11:22:49.429Z"
   },
   {
    "duration": 5549,
    "start_time": "2024-05-25T11:23:51.672Z"
   },
   {
    "duration": 959,
    "start_time": "2024-05-25T11:23:57.224Z"
   },
   {
    "duration": 187,
    "start_time": "2024-05-25T11:23:58.185Z"
   },
   {
    "duration": 536,
    "start_time": "2024-05-25T11:23:58.379Z"
   },
   {
    "duration": 173,
    "start_time": "2024-05-25T11:23:58.917Z"
   },
   {
    "duration": 182,
    "start_time": "2024-05-25T11:23:59.092Z"
   },
   {
    "duration": 322,
    "start_time": "2024-05-25T11:23:59.275Z"
   },
   {
    "duration": 4,
    "start_time": "2024-05-25T11:23:59.598Z"
   },
   {
    "duration": 208,
    "start_time": "2024-05-25T11:23:59.603Z"
   },
   {
    "duration": 145,
    "start_time": "2024-05-25T11:23:59.813Z"
   },
   {
    "duration": 258,
    "start_time": "2024-05-25T11:23:59.959Z"
   },
   {
    "duration": 713,
    "start_time": "2024-05-25T11:24:00.219Z"
   },
   {
    "duration": 135,
    "start_time": "2024-05-25T11:24:00.933Z"
   },
   {
    "duration": 45,
    "start_time": "2024-05-25T11:24:01.071Z"
   },
   {
    "duration": 597,
    "start_time": "2024-05-25T11:24:01.118Z"
   },
   {
    "duration": 20,
    "start_time": "2024-05-25T11:24:01.717Z"
   },
   {
    "duration": 533,
    "start_time": "2024-05-25T11:24:01.739Z"
   },
   {
    "duration": 522,
    "start_time": "2024-05-25T11:24:02.279Z"
   },
   {
    "duration": 20,
    "start_time": "2024-05-25T11:24:02.803Z"
   },
   {
    "duration": 530,
    "start_time": "2024-05-25T11:24:02.824Z"
   },
   {
    "duration": 30,
    "start_time": "2024-05-25T11:24:03.356Z"
   },
   {
    "duration": 701,
    "start_time": "2024-05-25T11:24:03.388Z"
   },
   {
    "duration": 19,
    "start_time": "2024-05-25T11:24:04.091Z"
   },
   {
    "duration": 191,
    "start_time": "2024-05-25T11:24:04.112Z"
   },
   {
    "duration": 314,
    "start_time": "2024-05-25T11:24:04.305Z"
   },
   {
    "duration": 6524,
    "start_time": "2024-05-25T11:24:04.621Z"
   },
   {
    "duration": 17,
    "start_time": "2024-05-25T11:24:11.147Z"
   },
   {
    "duration": 1268,
    "start_time": "2024-05-25T11:24:11.180Z"
   },
   {
    "duration": 4778,
    "start_time": "2024-05-25T11:29:05.298Z"
   },
   {
    "duration": 990,
    "start_time": "2024-05-25T11:29:10.079Z"
   },
   {
    "duration": 220,
    "start_time": "2024-05-25T11:29:11.071Z"
   },
   {
    "duration": 458,
    "start_time": "2024-05-25T11:29:11.292Z"
   },
   {
    "duration": 160,
    "start_time": "2024-05-25T11:29:11.753Z"
   },
   {
    "duration": 197,
    "start_time": "2024-05-25T11:29:11.915Z"
   },
   {
    "duration": 327,
    "start_time": "2024-05-25T11:29:12.114Z"
   },
   {
    "duration": 4,
    "start_time": "2024-05-25T11:29:12.443Z"
   },
   {
    "duration": 249,
    "start_time": "2024-05-25T11:29:12.449Z"
   },
   {
    "duration": 143,
    "start_time": "2024-05-25T11:29:12.700Z"
   },
   {
    "duration": 271,
    "start_time": "2024-05-25T11:29:12.846Z"
   },
   {
    "duration": 654,
    "start_time": "2024-05-25T11:29:13.119Z"
   },
   {
    "duration": 139,
    "start_time": "2024-05-25T11:29:13.775Z"
   },
   {
    "duration": 4,
    "start_time": "2024-05-25T11:29:13.919Z"
   },
   {
    "duration": 568,
    "start_time": "2024-05-25T11:29:13.925Z"
   },
   {
    "duration": 20,
    "start_time": "2024-05-25T11:29:14.496Z"
   },
   {
    "duration": 547,
    "start_time": "2024-05-25T11:29:14.518Z"
   },
   {
    "duration": 514,
    "start_time": "2024-05-25T11:29:15.067Z"
   },
   {
    "duration": 19,
    "start_time": "2024-05-25T11:29:15.583Z"
   },
   {
    "duration": 533,
    "start_time": "2024-05-25T11:29:15.603Z"
   },
   {
    "duration": 19,
    "start_time": "2024-05-25T11:29:16.138Z"
   },
   {
    "duration": 779,
    "start_time": "2024-05-25T11:29:16.159Z"
   },
   {
    "duration": 42,
    "start_time": "2024-05-25T11:29:16.939Z"
   },
   {
    "duration": 142,
    "start_time": "2024-05-25T11:29:16.983Z"
   },
   {
    "duration": 292,
    "start_time": "2024-05-25T11:29:17.127Z"
   },
   {
    "duration": 7403,
    "start_time": "2024-05-25T11:29:17.420Z"
   },
   {
    "duration": 14,
    "start_time": "2024-05-25T11:29:24.824Z"
   },
   {
    "duration": 1187,
    "start_time": "2024-05-25T11:29:24.840Z"
   },
   {
    "duration": 28361,
    "start_time": "2024-05-25T11:29:26.028Z"
   },
   {
    "duration": 141,
    "start_time": "2024-05-25T11:29:54.391Z"
   },
   {
    "duration": 2509766,
    "start_time": "2024-05-25T11:29:54.534Z"
   },
   {
    "duration": 8979,
    "start_time": "2024-05-25T12:11:44.303Z"
   },
   {
    "duration": 26,
    "start_time": "2024-05-25T12:11:53.285Z"
   },
   {
    "duration": 9571,
    "start_time": "2024-05-25T12:11:53.314Z"
   },
   {
    "duration": 406,
    "start_time": "2024-05-25T12:12:02.887Z"
   },
   {
    "duration": 255,
    "start_time": "2024-05-25T12:12:03.295Z"
   },
   {
    "duration": 365,
    "start_time": "2024-05-25T12:12:03.552Z"
   },
   {
    "duration": 70,
    "start_time": "2024-05-25T12:12:03.920Z"
   },
   {
    "duration": 12896,
    "start_time": "2024-05-25T12:14:03.989Z"
   },
   {
    "duration": 3204,
    "start_time": "2024-05-25T12:17:05.496Z"
   },
   {
    "duration": 57,
    "start_time": "2024-05-25T12:19:41.747Z"
   },
   {
    "duration": 30,
    "start_time": "2024-05-25T12:19:43.787Z"
   },
   {
    "duration": 13,
    "start_time": "2024-05-25T12:24:37.760Z"
   },
   {
    "duration": 10,
    "start_time": "2024-05-25T12:25:02.429Z"
   },
   {
    "duration": 12,
    "start_time": "2024-05-25T12:25:23.394Z"
   },
   {
    "duration": 13,
    "start_time": "2024-05-25T12:25:31.446Z"
   },
   {
    "duration": 54,
    "start_time": "2024-05-25T12:54:42.086Z"
   },
   {
    "duration": 13,
    "start_time": "2024-05-25T12:57:13.699Z"
   },
   {
    "duration": 11,
    "start_time": "2024-05-25T12:57:16.514Z"
   },
   {
    "duration": 14,
    "start_time": "2024-05-25T12:57:20.015Z"
   },
   {
    "duration": 12261,
    "start_time": "2024-05-25T12:57:32.634Z"
   },
   {
    "duration": 108,
    "start_time": "2024-05-25T12:57:44.897Z"
   },
   {
    "duration": 14579,
    "start_time": "2024-05-25T12:57:45.006Z"
   },
   {
    "duration": 61,
    "start_time": "2024-05-25T12:57:59.587Z"
   },
   {
    "duration": 431,
    "start_time": "2024-05-25T12:57:59.650Z"
   },
   {
    "duration": 11,
    "start_time": "2024-05-25T12:58:00.082Z"
   },
   {
    "duration": 22,
    "start_time": "2024-05-25T12:59:00.883Z"
   },
   {
    "duration": 383,
    "start_time": "2024-05-25T12:59:01.803Z"
   },
   {
    "duration": 6,
    "start_time": "2024-05-25T12:59:02.759Z"
   },
   {
    "duration": 25617,
    "start_time": "2024-05-25T13:03:38.249Z"
   },
   {
    "duration": 4,
    "start_time": "2024-05-25T13:04:03.868Z"
   },
   {
    "duration": 24909,
    "start_time": "2024-05-25T13:04:18.153Z"
   },
   {
    "duration": 4779,
    "start_time": "2024-05-25T13:12:29.511Z"
   },
   {
    "duration": 1003,
    "start_time": "2024-05-25T13:12:34.293Z"
   },
   {
    "duration": 165,
    "start_time": "2024-05-25T13:12:35.297Z"
   },
   {
    "duration": 453,
    "start_time": "2024-05-25T13:12:35.464Z"
   },
   {
    "duration": 165,
    "start_time": "2024-05-25T13:12:35.919Z"
   },
   {
    "duration": 187,
    "start_time": "2024-05-25T13:12:36.086Z"
   },
   {
    "duration": 351,
    "start_time": "2024-05-25T13:12:36.275Z"
   },
   {
    "duration": 5,
    "start_time": "2024-05-25T13:12:36.629Z"
   },
   {
    "duration": 210,
    "start_time": "2024-05-25T13:12:36.637Z"
   },
   {
    "duration": 120,
    "start_time": "2024-05-25T13:12:36.849Z"
   },
   {
    "duration": 266,
    "start_time": "2024-05-25T13:12:36.971Z"
   },
   {
    "duration": 655,
    "start_time": "2024-05-25T13:12:37.239Z"
   },
   {
    "duration": 131,
    "start_time": "2024-05-25T13:12:37.895Z"
   },
   {
    "duration": 5,
    "start_time": "2024-05-25T13:12:38.028Z"
   },
   {
    "duration": 566,
    "start_time": "2024-05-25T13:12:38.034Z"
   },
   {
    "duration": 19,
    "start_time": "2024-05-25T13:12:38.602Z"
   },
   {
    "duration": 502,
    "start_time": "2024-05-25T13:12:38.622Z"
   },
   {
    "duration": 481,
    "start_time": "2024-05-25T13:12:39.126Z"
   },
   {
    "duration": 20,
    "start_time": "2024-05-25T13:12:39.609Z"
   },
   {
    "duration": 541,
    "start_time": "2024-05-25T13:12:39.631Z"
   },
   {
    "duration": 23,
    "start_time": "2024-05-25T13:12:40.173Z"
   },
   {
    "duration": 677,
    "start_time": "2024-05-25T13:12:40.198Z"
   },
   {
    "duration": 15,
    "start_time": "2024-05-25T13:12:40.876Z"
   },
   {
    "duration": 155,
    "start_time": "2024-05-25T13:12:40.893Z"
   },
   {
    "duration": 343,
    "start_time": "2024-05-25T13:12:41.049Z"
   },
   {
    "duration": 6420,
    "start_time": "2024-05-25T13:12:41.394Z"
   },
   {
    "duration": 14,
    "start_time": "2024-05-25T13:12:47.816Z"
   },
   {
    "duration": 1197,
    "start_time": "2024-05-25T13:12:47.833Z"
   },
   {
    "duration": 27237,
    "start_time": "2024-05-25T13:12:49.032Z"
   },
   {
    "duration": 113,
    "start_time": "2024-05-25T13:13:16.271Z"
   },
   {
    "duration": 1067417,
    "start_time": "2024-05-25T13:13:16.386Z"
   },
   {
    "duration": 4,
    "start_time": "2024-05-25T13:31:03.805Z"
   },
   {
    "duration": 90,
    "start_time": "2024-05-25T13:31:03.811Z"
   },
   {
    "duration": 12086,
    "start_time": "2024-05-25T13:31:03.903Z"
   },
   {
    "duration": 411,
    "start_time": "2024-05-25T13:31:15.991Z"
   },
   {
    "duration": 19095,
    "start_time": "2024-05-26T18:34:58.810Z"
   },
   {
    "duration": 1216,
    "start_time": "2024-05-26T18:35:17.908Z"
   },
   {
    "duration": 168,
    "start_time": "2024-05-26T18:35:19.125Z"
   },
   {
    "duration": 456,
    "start_time": "2024-05-26T18:35:19.294Z"
   },
   {
    "duration": 184,
    "start_time": "2024-05-26T18:35:19.753Z"
   },
   {
    "duration": 176,
    "start_time": "2024-05-26T18:35:19.939Z"
   },
   {
    "duration": 311,
    "start_time": "2024-05-26T18:35:20.116Z"
   },
   {
    "duration": 4,
    "start_time": "2024-05-26T18:35:20.429Z"
   },
   {
    "duration": 213,
    "start_time": "2024-05-26T18:35:20.434Z"
   },
   {
    "duration": 116,
    "start_time": "2024-05-26T18:35:20.649Z"
   },
   {
    "duration": 273,
    "start_time": "2024-05-26T18:35:20.767Z"
   },
   {
    "duration": 677,
    "start_time": "2024-05-26T18:35:21.042Z"
   },
   {
    "duration": 123,
    "start_time": "2024-05-26T18:35:21.720Z"
   },
   {
    "duration": 5,
    "start_time": "2024-05-26T18:35:21.845Z"
   },
   {
    "duration": 547,
    "start_time": "2024-05-26T18:35:21.851Z"
   },
   {
    "duration": 19,
    "start_time": "2024-05-26T18:35:22.400Z"
   },
   {
    "duration": 505,
    "start_time": "2024-05-26T18:35:22.421Z"
   },
   {
    "duration": 476,
    "start_time": "2024-05-26T18:35:22.927Z"
   },
   {
    "duration": 19,
    "start_time": "2024-05-26T18:35:23.405Z"
   },
   {
    "duration": 485,
    "start_time": "2024-05-26T18:35:23.425Z"
   },
   {
    "duration": 18,
    "start_time": "2024-05-26T18:35:23.912Z"
   },
   {
    "duration": 678,
    "start_time": "2024-05-26T18:35:23.932Z"
   },
   {
    "duration": 13,
    "start_time": "2024-05-26T18:35:24.612Z"
   },
   {
    "duration": 148,
    "start_time": "2024-05-26T18:35:24.627Z"
   },
   {
    "duration": 276,
    "start_time": "2024-05-26T18:35:24.777Z"
   },
   {
    "duration": 6905,
    "start_time": "2024-05-26T18:35:25.055Z"
   },
   {
    "duration": 13,
    "start_time": "2024-05-26T18:35:31.962Z"
   },
   {
    "duration": 1288,
    "start_time": "2024-05-26T18:35:31.977Z"
   },
   {
    "duration": 21018,
    "start_time": "2024-05-26T18:35:33.267Z"
   },
   {
    "duration": 4,
    "start_time": "2024-05-26T18:37:34.529Z"
   },
   {
    "duration": 20252,
    "start_time": "2024-05-26T18:38:23.277Z"
   },
   {
    "duration": 98,
    "start_time": "2024-05-26T18:38:58.019Z"
   },
   {
    "duration": 21,
    "start_time": "2024-05-26T18:39:27.967Z"
   },
   {
    "duration": 54,
    "start_time": "2024-05-26T18:39:34.462Z"
   },
   {
    "duration": 20,
    "start_time": "2024-05-26T18:39:41.873Z"
   },
   {
    "duration": 21,
    "start_time": "2024-05-26T18:40:14.283Z"
   },
   {
    "duration": 20,
    "start_time": "2024-05-26T18:40:26.484Z"
   },
   {
    "duration": 20,
    "start_time": "2024-05-26T18:49:34.417Z"
   },
   {
    "duration": 19,
    "start_time": "2024-05-26T18:50:17.117Z"
   },
   {
    "duration": 24,
    "start_time": "2024-05-26T18:50:34.546Z"
   },
   {
    "duration": 18,
    "start_time": "2024-05-26T18:50:37.469Z"
   },
   {
    "duration": 5565,
    "start_time": "2024-05-26T18:58:04.440Z"
   },
   {
    "duration": 1005,
    "start_time": "2024-05-26T18:58:10.007Z"
   },
   {
    "duration": 194,
    "start_time": "2024-05-26T18:58:11.014Z"
   },
   {
    "duration": 463,
    "start_time": "2024-05-26T18:58:11.210Z"
   },
   {
    "duration": 158,
    "start_time": "2024-05-26T18:58:11.675Z"
   },
   {
    "duration": 244,
    "start_time": "2024-05-26T18:58:11.834Z"
   },
   {
    "duration": 387,
    "start_time": "2024-05-26T18:58:12.080Z"
   },
   {
    "duration": 5,
    "start_time": "2024-05-26T18:58:12.469Z"
   },
   {
    "duration": 241,
    "start_time": "2024-05-26T18:58:12.476Z"
   },
   {
    "duration": 139,
    "start_time": "2024-05-26T18:58:12.720Z"
   },
   {
    "duration": 300,
    "start_time": "2024-05-26T18:58:12.861Z"
   },
   {
    "duration": 705,
    "start_time": "2024-05-26T18:58:13.162Z"
   },
   {
    "duration": 142,
    "start_time": "2024-05-26T18:58:13.869Z"
   },
   {
    "duration": 7,
    "start_time": "2024-05-26T18:58:14.015Z"
   },
   {
    "duration": 589,
    "start_time": "2024-05-26T18:58:14.024Z"
   },
   {
    "duration": 19,
    "start_time": "2024-05-26T18:58:14.615Z"
   },
   {
    "duration": 507,
    "start_time": "2024-05-26T18:58:14.636Z"
   },
   {
    "duration": 528,
    "start_time": "2024-05-26T18:58:15.145Z"
   },
   {
    "duration": 25,
    "start_time": "2024-05-26T18:58:15.675Z"
   },
   {
    "duration": 528,
    "start_time": "2024-05-26T18:58:15.702Z"
   },
   {
    "duration": 19,
    "start_time": "2024-05-26T18:58:16.231Z"
   },
   {
    "duration": 671,
    "start_time": "2024-05-26T18:58:16.252Z"
   },
   {
    "duration": 16,
    "start_time": "2024-05-26T18:58:16.925Z"
   },
   {
    "duration": 164,
    "start_time": "2024-05-26T18:58:16.943Z"
   },
   {
    "duration": 301,
    "start_time": "2024-05-26T18:58:17.108Z"
   },
   {
    "duration": 6168,
    "start_time": "2024-05-26T18:58:17.410Z"
   },
   {
    "duration": 18,
    "start_time": "2024-05-26T18:58:23.580Z"
   },
   {
    "duration": 1100,
    "start_time": "2024-05-26T18:58:23.599Z"
   },
   {
    "duration": 19409,
    "start_time": "2024-05-26T18:58:24.701Z"
   },
   {
    "duration": 110,
    "start_time": "2024-05-26T18:58:44.111Z"
   },
   {
    "duration": 1070689,
    "start_time": "2024-05-26T18:58:44.223Z"
   },
   {
    "duration": 201,
    "start_time": "2024-05-26T19:16:34.914Z"
   },
   {
    "duration": 0,
    "start_time": "2024-05-26T19:16:35.117Z"
   },
   {
    "duration": 0,
    "start_time": "2024-05-26T19:16:35.118Z"
   },
   {
    "duration": 0,
    "start_time": "2024-05-26T19:16:35.119Z"
   },
   {
    "duration": 20,
    "start_time": "2024-05-26T19:17:11.596Z"
   },
   {
    "duration": 21,
    "start_time": "2024-05-26T19:17:12.763Z"
   },
   {
    "duration": 20,
    "start_time": "2024-05-26T19:17:20.497Z"
   },
   {
    "duration": 57,
    "start_time": "2024-05-26T19:17:20.519Z"
   },
   {
    "duration": 18815,
    "start_time": "2024-05-26T19:17:20.578Z"
   },
   {
    "duration": 405,
    "start_time": "2024-05-26T19:17:39.395Z"
   },
   {
    "duration": 19273,
    "start_time": "2024-05-27T12:09:21.998Z"
   },
   {
    "duration": 1297,
    "start_time": "2024-05-27T12:09:41.273Z"
   },
   {
    "duration": 169,
    "start_time": "2024-05-27T12:09:42.572Z"
   },
   {
    "duration": 476,
    "start_time": "2024-05-27T12:09:42.743Z"
   },
   {
    "duration": 164,
    "start_time": "2024-05-27T12:09:43.222Z"
   },
   {
    "duration": 173,
    "start_time": "2024-05-27T12:09:43.388Z"
   },
   {
    "duration": 322,
    "start_time": "2024-05-27T12:09:43.563Z"
   },
   {
    "duration": 4,
    "start_time": "2024-05-27T12:09:43.887Z"
   },
   {
    "duration": 310,
    "start_time": "2024-05-27T12:09:43.893Z"
   },
   {
    "duration": 132,
    "start_time": "2024-05-27T12:09:44.205Z"
   },
   {
    "duration": 170,
    "start_time": "2024-05-27T12:09:44.339Z"
   },
   {
    "duration": 794,
    "start_time": "2024-05-27T12:09:44.511Z"
   },
   {
    "duration": 126,
    "start_time": "2024-05-27T12:09:45.307Z"
   },
   {
    "duration": 5,
    "start_time": "2024-05-27T12:09:45.436Z"
   },
   {
    "duration": 537,
    "start_time": "2024-05-27T12:09:45.443Z"
   },
   {
    "duration": 19,
    "start_time": "2024-05-27T12:09:45.982Z"
   },
   {
    "duration": 521,
    "start_time": "2024-05-27T12:09:46.003Z"
   },
   {
    "duration": 484,
    "start_time": "2024-05-27T12:09:46.526Z"
   },
   {
    "duration": 19,
    "start_time": "2024-05-27T12:09:47.011Z"
   },
   {
    "duration": 596,
    "start_time": "2024-05-27T12:09:47.031Z"
   },
   {
    "duration": 19,
    "start_time": "2024-05-27T12:09:47.628Z"
   },
   {
    "duration": 569,
    "start_time": "2024-05-27T12:09:47.648Z"
   },
   {
    "duration": 14,
    "start_time": "2024-05-27T12:09:48.219Z"
   },
   {
    "duration": 148,
    "start_time": "2024-05-27T12:09:48.234Z"
   },
   {
    "duration": 269,
    "start_time": "2024-05-27T12:09:48.384Z"
   },
   {
    "duration": 6328,
    "start_time": "2024-05-27T12:09:48.655Z"
   },
   {
    "duration": 19,
    "start_time": "2024-05-27T12:09:54.985Z"
   },
   {
    "duration": 1070,
    "start_time": "2024-05-27T12:09:55.006Z"
   },
   {
    "duration": 21492,
    "start_time": "2024-05-27T12:09:56.078Z"
   },
   {
    "duration": 134,
    "start_time": "2024-05-27T12:10:17.571Z"
   },
   {
    "duration": 4773,
    "start_time": "2024-05-27T12:38:28.885Z"
   },
   {
    "duration": 887,
    "start_time": "2024-05-27T12:38:33.661Z"
   },
   {
    "duration": 170,
    "start_time": "2024-05-27T12:38:34.549Z"
   },
   {
    "duration": 446,
    "start_time": "2024-05-27T12:38:34.720Z"
   },
   {
    "duration": 154,
    "start_time": "2024-05-27T12:38:35.169Z"
   },
   {
    "duration": 185,
    "start_time": "2024-05-27T12:38:35.324Z"
   },
   {
    "duration": 288,
    "start_time": "2024-05-27T12:38:35.511Z"
   },
   {
    "duration": 4,
    "start_time": "2024-05-27T12:38:35.801Z"
   },
   {
    "duration": 185,
    "start_time": "2024-05-27T12:38:35.807Z"
   },
   {
    "duration": 125,
    "start_time": "2024-05-27T12:38:35.993Z"
   },
   {
    "duration": 241,
    "start_time": "2024-05-27T12:38:36.119Z"
   },
   {
    "duration": 625,
    "start_time": "2024-05-27T12:38:36.362Z"
   },
   {
    "duration": 109,
    "start_time": "2024-05-27T12:38:36.989Z"
   },
   {
    "duration": 5,
    "start_time": "2024-05-27T12:38:37.100Z"
   },
   {
    "duration": 530,
    "start_time": "2024-05-27T12:38:37.106Z"
   },
   {
    "duration": 18,
    "start_time": "2024-05-27T12:38:37.637Z"
   },
   {
    "duration": 458,
    "start_time": "2024-05-27T12:38:37.657Z"
   },
   {
    "duration": 481,
    "start_time": "2024-05-27T12:38:38.116Z"
   },
   {
    "duration": 18,
    "start_time": "2024-05-27T12:38:38.599Z"
   },
   {
    "duration": 521,
    "start_time": "2024-05-27T12:38:38.619Z"
   },
   {
    "duration": 17,
    "start_time": "2024-05-27T12:38:39.142Z"
   },
   {
    "duration": 622,
    "start_time": "2024-05-27T12:38:39.169Z"
   },
   {
    "duration": 13,
    "start_time": "2024-05-27T12:38:39.793Z"
   },
   {
    "duration": 152,
    "start_time": "2024-05-27T12:38:39.808Z"
   },
   {
    "duration": 312,
    "start_time": "2024-05-27T12:38:39.962Z"
   },
   {
    "duration": 6250,
    "start_time": "2024-05-27T12:38:40.276Z"
   },
   {
    "duration": 14,
    "start_time": "2024-05-27T12:38:46.528Z"
   },
   {
    "duration": 1134,
    "start_time": "2024-05-27T12:38:46.543Z"
   },
   {
    "duration": 20019,
    "start_time": "2024-05-27T12:38:47.679Z"
   },
   {
    "duration": 118,
    "start_time": "2024-05-27T12:39:07.699Z"
   },
   {
    "duration": 5067,
    "start_time": "2024-05-27T12:54:29.400Z"
   },
   {
    "duration": 905,
    "start_time": "2024-05-27T12:54:34.469Z"
   },
   {
    "duration": 202,
    "start_time": "2024-05-27T12:54:35.376Z"
   },
   {
    "duration": 530,
    "start_time": "2024-05-27T12:54:35.580Z"
   },
   {
    "duration": 162,
    "start_time": "2024-05-27T12:54:36.112Z"
   },
   {
    "duration": 179,
    "start_time": "2024-05-27T12:54:36.275Z"
   },
   {
    "duration": 314,
    "start_time": "2024-05-27T12:54:36.455Z"
   },
   {
    "duration": 5,
    "start_time": "2024-05-27T12:54:36.771Z"
   },
   {
    "duration": 230,
    "start_time": "2024-05-27T12:54:36.778Z"
   },
   {
    "duration": 129,
    "start_time": "2024-05-27T12:54:37.010Z"
   },
   {
    "duration": 269,
    "start_time": "2024-05-27T12:54:37.141Z"
   },
   {
    "duration": 682,
    "start_time": "2024-05-27T12:54:37.411Z"
   },
   {
    "duration": 149,
    "start_time": "2024-05-27T12:54:38.095Z"
   },
   {
    "duration": 5,
    "start_time": "2024-05-27T12:54:38.247Z"
   },
   {
    "duration": 607,
    "start_time": "2024-05-27T12:54:38.254Z"
   },
   {
    "duration": 26,
    "start_time": "2024-05-27T12:54:38.863Z"
   },
   {
    "duration": 480,
    "start_time": "2024-05-27T12:54:38.891Z"
   },
   {
    "duration": 491,
    "start_time": "2024-05-27T12:54:39.372Z"
   },
   {
    "duration": 21,
    "start_time": "2024-05-27T12:54:39.870Z"
   },
   {
    "duration": 534,
    "start_time": "2024-05-27T12:54:39.892Z"
   },
   {
    "duration": 22,
    "start_time": "2024-05-27T12:54:40.428Z"
   },
   {
    "duration": 771,
    "start_time": "2024-05-27T12:54:40.453Z"
   },
   {
    "duration": 17,
    "start_time": "2024-05-27T12:54:41.225Z"
   },
   {
    "duration": 159,
    "start_time": "2024-05-27T12:54:41.244Z"
   },
   {
    "duration": 290,
    "start_time": "2024-05-27T12:54:41.405Z"
   },
   {
    "duration": 6414,
    "start_time": "2024-05-27T12:54:41.697Z"
   },
   {
    "duration": 13,
    "start_time": "2024-05-27T12:54:48.112Z"
   },
   {
    "duration": 1191,
    "start_time": "2024-05-27T12:54:48.128Z"
   },
   {
    "duration": 21129,
    "start_time": "2024-05-27T12:54:49.321Z"
   },
   {
    "duration": 137,
    "start_time": "2024-05-27T12:55:10.451Z"
   },
   {
    "duration": 16771706,
    "start_time": "2024-05-27T12:55:10.590Z"
   },
   {
    "duration": 84,
    "start_time": "2024-05-27T17:34:42.298Z"
   },
   {
    "duration": 19,
    "start_time": "2024-05-27T17:34:42.384Z"
   },
   {
    "duration": 10875,
    "start_time": "2024-05-27T17:34:42.405Z"
   },
   {
    "duration": 506,
    "start_time": "2024-05-27T17:34:53.282Z"
   },
   {
    "duration": 480,
    "start_time": "2024-05-27T17:34:53.790Z"
   },
   {
    "duration": 11338,
    "start_time": "2024-05-28T18:13:07.304Z"
   },
   {
    "duration": 671,
    "start_time": "2024-05-28T18:13:18.644Z"
   },
   {
    "duration": 117,
    "start_time": "2024-05-28T18:13:19.317Z"
   },
   {
    "duration": 313,
    "start_time": "2024-05-28T18:13:19.436Z"
   },
   {
    "duration": 114,
    "start_time": "2024-05-28T18:13:19.750Z"
   },
   {
    "duration": 148,
    "start_time": "2024-05-28T18:13:19.865Z"
   },
   {
    "duration": 268,
    "start_time": "2024-05-28T18:13:20.015Z"
   },
   {
    "duration": 4,
    "start_time": "2024-05-28T18:13:20.284Z"
   },
   {
    "duration": 206,
    "start_time": "2024-05-28T18:13:20.290Z"
   },
   {
    "duration": 78,
    "start_time": "2024-05-28T18:13:20.502Z"
   },
   {
    "duration": 137,
    "start_time": "2024-05-28T18:13:20.582Z"
   },
   {
    "duration": 408,
    "start_time": "2024-05-28T18:13:20.720Z"
   },
   {
    "duration": 92,
    "start_time": "2024-05-28T18:13:21.129Z"
   },
   {
    "duration": 3,
    "start_time": "2024-05-28T18:13:21.223Z"
   },
   {
    "duration": 736,
    "start_time": "2024-05-28T18:13:21.227Z"
   },
   {
    "duration": 16,
    "start_time": "2024-05-28T18:13:21.964Z"
   },
   {
    "duration": 583,
    "start_time": "2024-05-28T18:13:21.982Z"
   },
   {
    "duration": 583,
    "start_time": "2024-05-28T18:13:22.567Z"
   },
   {
    "duration": 18,
    "start_time": "2024-05-28T18:13:23.151Z"
   },
   {
    "duration": 686,
    "start_time": "2024-05-28T18:13:23.171Z"
   },
   {
    "duration": 17,
    "start_time": "2024-05-28T18:13:23.858Z"
   },
   {
    "duration": 635,
    "start_time": "2024-05-28T18:13:23.876Z"
   },
   {
    "duration": 13,
    "start_time": "2024-05-28T18:13:24.512Z"
   },
   {
    "duration": 118,
    "start_time": "2024-05-28T18:13:24.526Z"
   },
   {
    "duration": 228,
    "start_time": "2024-05-28T18:13:24.645Z"
   },
   {
    "duration": 4508,
    "start_time": "2024-05-28T18:13:24.875Z"
   },
   {
    "duration": 21,
    "start_time": "2024-05-28T18:13:29.384Z"
   },
   {
    "duration": 805,
    "start_time": "2024-05-28T18:13:29.408Z"
   },
   {
    "duration": 16506,
    "start_time": "2024-05-28T18:13:30.214Z"
   },
   {
    "duration": 94,
    "start_time": "2024-05-28T18:14:14.139Z"
   },
   {
    "duration": 921432,
    "start_time": "2024-05-28T18:14:16.288Z"
   },
   {
    "duration": 82,
    "start_time": "2024-05-28T18:29:37.721Z"
   },
   {
    "duration": 16,
    "start_time": "2024-05-28T18:29:37.804Z"
   },
   {
    "duration": 10353,
    "start_time": "2024-05-28T18:29:51.952Z"
   },
   {
    "duration": 504,
    "start_time": "2024-05-28T18:30:02.308Z"
   },
   {
    "duration": 490,
    "start_time": "2024-05-28T18:30:02.813Z"
   }
  ],
  "kernelspec": {
   "display_name": "Python 3 (ipykernel)",
   "language": "python",
   "name": "python3"
  },
  "language_info": {
   "codemirror_mode": {
    "name": "ipython",
    "version": 3
   },
   "file_extension": ".py",
   "mimetype": "text/x-python",
   "name": "python",
   "nbconvert_exporter": "python",
   "pygments_lexer": "ipython3",
   "version": "3.11.4"
  },
  "toc": {
   "base_numbering": 1,
   "nav_menu": {},
   "number_sections": true,
   "sideBar": true,
   "skip_h1_title": true,
   "title_cell": "Table of Contents",
   "title_sidebar": "Contents",
   "toc_cell": false,
   "toc_position": {
    "height": "calc(100% - 180px)",
    "left": "10px",
    "top": "150px",
    "width": "186.516px"
   },
   "toc_section_display": true,
   "toc_window_display": true
  }
 },
 "nbformat": 4,
 "nbformat_minor": 2
}
