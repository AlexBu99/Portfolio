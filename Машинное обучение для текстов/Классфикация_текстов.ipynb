{
  "cells": [
    {
      "cell_type": "markdown",
      "metadata": {
        "id": "SRdJS53jmuqb"
      },
      "source": [
        "# Проект для «Викишоп»"
      ]
    },
    {
      "cell_type": "markdown",
      "metadata": {
        "id": "hH8OKI7Lmuqb"
      },
      "source": [
        "Интернет-магазин «Викишоп» запускает новый сервис. Теперь пользователи могут редактировать и дополнять описания товаров, как в вики-сообществах. То есть клиенты предлагают свои правки и комментируют изменения других. Магазину нужен инструмент, который будет искать токсичные комментарии и отправлять их на модерацию.\n",
        "\n",
        "**Описание данных**\n",
        "\n",
        "Данные находятся в файле `toxic_comments.csv`. Столбец *text* в нём содержит текст комментария, а *toxic* — целевой признак."
      ]
    },
    {
      "cell_type": "markdown",
      "metadata": {
        "id": "6uZlL6nFmuqb"
      },
      "source": [
        "## Подготовка\n",
        "Прежде чем рабодать с данными, импортируем необходимые инструменты."
      ]
    },
    {
      "cell_type": "code",
      "execution_count": null,
      "metadata": {
        "id": "GSLV1nxOmuqb"
      },
      "outputs": [],
      "source": [
        "import os.path\n",
        "import pandas as pd\n",
        "import numpy as np\n",
        "import re\n",
        "import os\n",
        "import spacy\n",
        "from sklearn.model_selection import train_test_split\n",
        "from sklearn.feature_extraction.text import TfidfVectorizer\n",
        "from sklearn.linear_model import LogisticRegression, SGDClassifier\n",
        "from sklearn.metrics import f1_score\n",
        "from sklearn.model_selection import RandomizedSearchCV\n",
        "from nltk.corpus import stopwords\n",
        "import nltk\n",
        "from sklearn.pipeline import Pipeline\n",
        "from tqdm.notebook import tqdm"
      ]
    },
    {
      "cell_type": "markdown",
      "metadata": {
        "id": "_k_LZQ2_muqb"
      },
      "source": [
        "Используем собственную функцию для загрузки данных."
      ]
    },
    {
      "cell_type": "code",
      "execution_count": null,
      "metadata": {
        "id": "djR9AXdImuqb"
      },
      "outputs": [],
      "source": [
        "def load_data(path, col_sep=\",\", float_sep=\".\", data=None):\n",
        "    \"\"\"Функция для загрузки данных из CSV-файла локально или удаленно.\"\"\"\n",
        "    for instance in path, f\"/{path}\":\n",
        "        if os.path.exists(instance):\n",
        "            data = pd.read_csv(\n",
        "                instance, sep=col_sep, decimal=float_sep, engine=\"python\"\n",
        "            )\n",
        "            break\n",
        "\n",
        "    if data is None:\n",
        "        try:\n",
        "            data = pd.read_csv(\n",
        "                f\"https://code.s3.yandex.net/{path}\",\n",
        "                sep=col_sep,\n",
        "                decimal=float_sep,\n",
        "                engine=\"python\",\n",
        "            )\n",
        "        except IOError:\n",
        "            print(\"Файл с данными не найден.\")\n",
        "\n",
        "    return data"
      ]
    },
    {
      "cell_type": "code",
      "execution_count": null,
      "metadata": {
        "id": "sxHtcBeKmuqb",
        "outputId": "c5880562-3d0e-4ee8-cfbb-a5d14ca2c0ba"
      },
      "outputs": [
        {
          "name": "stdout",
          "output_type": "stream",
          "text": [
            "<class 'pandas.core.frame.DataFrame'>\n",
            "RangeIndex: 159292 entries, 0 to 159291\n",
            "Data columns (total 3 columns):\n",
            " #   Column      Non-Null Count   Dtype \n",
            "---  ------      --------------   ----- \n",
            " 0   Unnamed: 0  159292 non-null  int64 \n",
            " 1   text        159292 non-null  object\n",
            " 2   toxic       159292 non-null  int64 \n",
            "dtypes: int64(2), object(1)\n",
            "memory usage: 3.6+ MB\n"
          ]
        },
        {
          "data": {
            "text/html": [
              "<div>\n",
              "<style scoped>\n",
              "    .dataframe tbody tr th:only-of-type {\n",
              "        vertical-align: middle;\n",
              "    }\n",
              "\n",
              "    .dataframe tbody tr th {\n",
              "        vertical-align: top;\n",
              "    }\n",
              "\n",
              "    .dataframe thead th {\n",
              "        text-align: right;\n",
              "    }\n",
              "</style>\n",
              "<table border=\"1\" class=\"dataframe\">\n",
              "  <thead>\n",
              "    <tr style=\"text-align: right;\">\n",
              "      <th></th>\n",
              "      <th>Unnamed: 0</th>\n",
              "      <th>text</th>\n",
              "      <th>toxic</th>\n",
              "    </tr>\n",
              "  </thead>\n",
              "  <tbody>\n",
              "    <tr>\n",
              "      <th>0</th>\n",
              "      <td>0</td>\n",
              "      <td>Explanation\\nWhy the edits made under my usern...</td>\n",
              "      <td>0</td>\n",
              "    </tr>\n",
              "    <tr>\n",
              "      <th>1</th>\n",
              "      <td>1</td>\n",
              "      <td>D'aww! He matches this background colour I'm s...</td>\n",
              "      <td>0</td>\n",
              "    </tr>\n",
              "    <tr>\n",
              "      <th>2</th>\n",
              "      <td>2</td>\n",
              "      <td>Hey man, I'm really not trying to edit war. It...</td>\n",
              "      <td>0</td>\n",
              "    </tr>\n",
              "    <tr>\n",
              "      <th>3</th>\n",
              "      <td>3</td>\n",
              "      <td>\"\\nMore\\nI can't make any real suggestions on ...</td>\n",
              "      <td>0</td>\n",
              "    </tr>\n",
              "    <tr>\n",
              "      <th>4</th>\n",
              "      <td>4</td>\n",
              "      <td>You, sir, are my hero. Any chance you remember...</td>\n",
              "      <td>0</td>\n",
              "    </tr>\n",
              "  </tbody>\n",
              "</table>\n",
              "</div>"
            ],
            "text/plain": [
              "   Unnamed: 0                                               text  toxic\n",
              "0           0  Explanation\\nWhy the edits made under my usern...      0\n",
              "1           1  D'aww! He matches this background colour I'm s...      0\n",
              "2           2  Hey man, I'm really not trying to edit war. It...      0\n",
              "3           3  \"\\nMore\\nI can't make any real suggestions on ...      0\n",
              "4           4  You, sir, are my hero. Any chance you remember...      0"
            ]
          },
          "metadata": {},
          "output_type": "display_data"
        }
      ],
      "source": [
        "# Загрузка данных\n",
        "df = load_data(\"datasets/toxic_comments.csv\")\n",
        "\n",
        "if df is not None:\n",
        "    df.info()\n",
        "    display(df.head())"
      ]
    },
    {
      "cell_type": "code",
      "execution_count": null,
      "metadata": {
        "scrolled": true,
        "id": "iZitNx6Smuqb",
        "outputId": "bbfab950-c4e1-4063-a61d-25cf2742437d"
      },
      "outputs": [
        {
          "name": "stdout",
          "output_type": "stream",
          "text": [
            "Распределение классов в данных:\n",
            "0    143106\n",
            "1     16186\n",
            "Name: toxic, dtype: int64\n"
          ]
        }
      ],
      "source": [
        "# Анализ баланса классов\n",
        "print(\"Распределение классов в данных:\")\n",
        "print(df['toxic'].value_counts())"
      ]
    },
    {
      "cell_type": "markdown",
      "metadata": {
        "id": "XKdEEOkOmuqc"
      },
      "source": [
        "На текущем этапе классы не сбалансированы: 0 (нетоксичные) значительно преобладают над 1 (токсичные). Однако в дальнейшем кмы учтем это н аэтапе парметров модели для обучения."
      ]
    },
    {
      "cell_type": "code",
      "execution_count": null,
      "metadata": {
        "scrolled": true,
        "colab": {
          "referenced_widgets": [
            "072827d653eb4d9d8c30a593c679e574"
          ]
        },
        "id": "UlE6Fkrwmuqc",
        "outputId": "b208610e-bf55-4718-dad4-2a0b2eb636b1"
      },
      "outputs": [
        {
          "name": "stderr",
          "output_type": "stream",
          "text": [
            "[nltk_data] Downloading package stopwords to /home/jovyan/nltk_data...\n",
            "[nltk_data]   Package stopwords is already up-to-date!\n"
          ]
        },
        {
          "data": {
            "application/vnd.jupyter.widget-view+json": {
              "model_id": "072827d653eb4d9d8c30a593c679e574",
              "version_major": 2,
              "version_minor": 0
            },
            "text/plain": [
              "  0%|          | 0/159292 [00:00<?, ?it/s]"
            ]
          },
          "metadata": {},
          "output_type": "display_data"
        }
      ],
      "source": [
        "# Предобработка текста\n",
        "\n",
        "nltk.download('stopwords')\n",
        "nlp = spacy.load(\"en_core_web_sm\", disable=[\"parser\", \"ner\"])\n",
        "\n",
        "stop_words = set(stopwords.words(\"english\"))\n",
        "\n",
        "tqdm.pandas()\n",
        "\n",
        "def preprocess_texts(texts):\n",
        "    cleaned_texts = [re.sub(r'[^a-z ]', ' ', text.lower()).strip() for text in texts]\n",
        "    lemmatized_texts = []\n",
        "    for doc in tqdm(nlp.pipe(cleaned_texts, disable=[\"parser\", \"ner\"]), total=len(cleaned_texts)):\n",
        "        lemmatized_texts.append(' '.join([token.lemma_ for token in doc if token.text not in stop_words]))\n",
        "    return lemmatized_texts\n",
        "\n",
        "df['text'] = preprocess_texts(df['text'].values)\n"
      ]
    },
    {
      "cell_type": "code",
      "execution_count": null,
      "metadata": {
        "scrolled": true,
        "id": "lL2l3VCTmuqc",
        "outputId": "953d77c0-861b-421a-bcdc-6b21efc3c8c0"
      },
      "outputs": [
        {
          "name": "stdout",
          "output_type": "stream",
          "text": [
            "<class 'pandas.core.frame.DataFrame'>\n",
            "RangeIndex: 159292 entries, 0 to 159291\n",
            "Data columns (total 3 columns):\n",
            " #   Column      Non-Null Count   Dtype \n",
            "---  ------      --------------   ----- \n",
            " 0   Unnamed: 0  159292 non-null  int64 \n",
            " 1   text        159292 non-null  object\n",
            " 2   toxic       159292 non-null  int64 \n",
            "dtypes: int64(2), object(1)\n",
            "memory usage: 3.6+ MB\n"
          ]
        },
        {
          "data": {
            "text/html": [
              "<div>\n",
              "<style scoped>\n",
              "    .dataframe tbody tr th:only-of-type {\n",
              "        vertical-align: middle;\n",
              "    }\n",
              "\n",
              "    .dataframe tbody tr th {\n",
              "        vertical-align: top;\n",
              "    }\n",
              "\n",
              "    .dataframe thead th {\n",
              "        text-align: right;\n",
              "    }\n",
              "</style>\n",
              "<table border=\"1\" class=\"dataframe\">\n",
              "  <thead>\n",
              "    <tr style=\"text-align: right;\">\n",
              "      <th></th>\n",
              "      <th>Unnamed: 0</th>\n",
              "      <th>text</th>\n",
              "      <th>toxic</th>\n",
              "    </tr>\n",
              "  </thead>\n",
              "  <tbody>\n",
              "    <tr>\n",
              "      <th>0</th>\n",
              "      <td>0</td>\n",
              "      <td>explanation edit make username hardcore metall...</td>\n",
              "      <td>0</td>\n",
              "    </tr>\n",
              "    <tr>\n",
              "      <th>1</th>\n",
              "      <td>1</td>\n",
              "      <td>aww   match background colour seemingly stuck ...</td>\n",
              "      <td>0</td>\n",
              "    </tr>\n",
              "    <tr>\n",
              "      <th>2</th>\n",
              "      <td>2</td>\n",
              "      <td>hey man   really try edit war   guy constantly...</td>\n",
              "      <td>0</td>\n",
              "    </tr>\n",
              "    <tr>\n",
              "      <th>3</th>\n",
              "      <td>3</td>\n",
              "      <td>make real suggestion improvement    wonder sec...</td>\n",
              "      <td>0</td>\n",
              "    </tr>\n",
              "    <tr>\n",
              "      <th>4</th>\n",
              "      <td>4</td>\n",
              "      <td>sir   hero   chance remember page</td>\n",
              "      <td>0</td>\n",
              "    </tr>\n",
              "  </tbody>\n",
              "</table>\n",
              "</div>"
            ],
            "text/plain": [
              "   Unnamed: 0                                               text  toxic\n",
              "0           0  explanation edit make username hardcore metall...      0\n",
              "1           1  aww   match background colour seemingly stuck ...      0\n",
              "2           2  hey man   really try edit war   guy constantly...      0\n",
              "3           3  make real suggestion improvement    wonder sec...      0\n",
              "4           4                  sir   hero   chance remember page      0"
            ]
          },
          "metadata": {},
          "output_type": "display_data"
        }
      ],
      "source": [
        "if df is not None:\n",
        "    df.info()\n",
        "    display(df.head())"
      ]
    },
    {
      "cell_type": "code",
      "execution_count": null,
      "metadata": {
        "id": "pmh2a7E-muqc"
      },
      "outputs": [],
      "source": [
        "# Разделение на обучающую и тестовую выборки\n",
        "X_train, X_test, y_train, y_test = train_test_split(\n",
        "    df['text'], df['toxic'], test_size=0.2, random_state=42, stratify=df['toxic']\n",
        ")"
      ]
    },
    {
      "cell_type": "markdown",
      "metadata": {
        "id": "Vsa0m5Ipmuqc"
      },
      "source": [
        "## Обучение"
      ]
    },
    {
      "cell_type": "code",
      "execution_count": null,
      "metadata": {
        "id": "4-2NbblBmuqc"
      },
      "outputs": [],
      "source": [
        "# Создание пайплайнов с TF-IDF и моделями\n",
        "pipeline_lr = Pipeline([\n",
        "    ('tfidf', TfidfVectorizer(max_features=50000, ngram_range=(1, 2))),\n",
        "    ('model', LogisticRegression(solver='lbfgs', max_iter=500, random_state=42))\n",
        "])\n",
        "\n",
        "pipeline_sgd = Pipeline([\n",
        "    ('tfidf', TfidfVectorizer(max_features=50000, ngram_range=(1, 2))),\n",
        "    ('model', SGDClassifier(loss='hinge', class_weight='balanced', random_state=42))\n",
        "])\n"
      ]
    },
    {
      "cell_type": "code",
      "execution_count": null,
      "metadata": {
        "id": "lPCmD8Zdmuqc",
        "outputId": "d96713a4-4931-4ff9-ac8a-f073bd426045"
      },
      "outputs": [
        {
          "data": {
            "text/plain": [
              "RandomizedSearchCV(cv=3,\n",
              "                   estimator=Pipeline(steps=[('tfidf',\n",
              "                                              TfidfVectorizer(max_features=50000,\n",
              "                                                              ngram_range=(1,\n",
              "                                                                           2))),\n",
              "                                             ('model',\n",
              "                                              LogisticRegression(max_iter=500,\n",
              "                                                                 random_state=42))]),\n",
              "                   n_iter=5,\n",
              "                   param_distributions={'model__C': array([1.e-03, 1.e-02, 1.e-01, 1.e+00, 1.e+01, 1.e+02])},\n",
              "                   random_state=42, scoring='f1')"
            ]
          },
          "execution_count": 9,
          "metadata": {},
          "output_type": "execute_result"
        }
      ],
      "source": [
        "# Поиск гиперпараметров через RandomizedSearchCV для регресии\n",
        "param_dist_lr = {'model__C': np.logspace(-3, 2, 6)}\n",
        "search_lr = RandomizedSearchCV(pipeline_lr, param_dist_lr, scoring='f1', cv=3, n_iter=5, random_state=42)\n",
        "search_lr.fit(X_train, y_train)\n"
      ]
    },
    {
      "cell_type": "code",
      "execution_count": null,
      "metadata": {
        "id": "yCLNipDrmuqd",
        "outputId": "3ac38ed9-ee0c-43a8-8b1f-ecff1533af14"
      },
      "outputs": [
        {
          "data": {
            "text/plain": [
              "RandomizedSearchCV(cv=3,\n",
              "                   estimator=Pipeline(steps=[('tfidf',\n",
              "                                              TfidfVectorizer(max_features=50000,\n",
              "                                                              ngram_range=(1,\n",
              "                                                                           2))),\n",
              "                                             ('model',\n",
              "                                              SGDClassifier(class_weight='balanced',\n",
              "                                                            random_state=42))]),\n",
              "                   n_iter=5,\n",
              "                   param_distributions={'model__alpha': array([1.e-04, 1.e-03, 1.e-02, 1.e-01, 1.e+00])},\n",
              "                   random_state=42, scoring='f1')"
            ]
          },
          "execution_count": 10,
          "metadata": {},
          "output_type": "execute_result"
        }
      ],
      "source": [
        "# Поиск гиперпараметров через RandomizedSearchCV для SGD\n",
        "param_dist_sgd = {'model__alpha': np.logspace(-4, 0, 5)}\n",
        "search_sgd = RandomizedSearchCV(pipeline_sgd, param_dist_sgd, scoring='f1', cv=3, n_iter=5, random_state=42)\n",
        "search_sgd.fit(X_train, y_train)"
      ]
    },
    {
      "cell_type": "code",
      "execution_count": null,
      "metadata": {
        "id": "NLIkNK6Emuqd",
        "outputId": "9a963d68-e5df-466d-ae10-a6d5b9e29cf3"
      },
      "outputs": [
        {
          "name": "stdout",
          "output_type": "stream",
          "text": [
            "Лучшая модель: Logistic Regression\n"
          ]
        }
      ],
      "source": [
        "# Выбор лучшей модели по кросс-валидации\n",
        "best_model = search_lr if search_lr.best_score_ > search_sgd.best_score_ else search_sgd\n",
        "print(f\"Лучшая модель: {'Logistic Regression' if best_model == search_lr else 'SGDClassifier'}\")\n"
      ]
    },
    {
      "cell_type": "code",
      "execution_count": null,
      "metadata": {
        "id": "wvI3tpRymuqd",
        "outputId": "f1770433-1d12-4696-dbea-0930f4cb42a9"
      },
      "outputs": [
        {
          "name": "stdout",
          "output_type": "stream",
          "text": [
            "F1-score (Best Model): 0.7807\n"
          ]
        }
      ],
      "source": [
        "# Обучение лучшей модели на всех тренировочных данных\n",
        "best_model.best_estimator_.fit(X_train, y_train)\n",
        "\n",
        "# Оценка на тестовой выборке\n",
        "y_pred_best = best_model.best_estimator_.predict(X_test)\n",
        "f1_best = f1_score(y_test, y_pred_best)\n",
        "print(f\"F1-score (Best Model): {f1_best:.4f}\")"
      ]
    },
    {
      "cell_type": "markdown",
      "metadata": {
        "id": "6ebzZRA2muqe"
      },
      "source": [
        "Для преобразования текстов в числовое представление использовался метод `TF-IDF` с учетом униграмм и биграмм. Чтобы избежать утечки данных при кросс-валидации, была использована конструкция `Pipeline`, включающая векторизацию и модель. В качестве моделей были обучены логистическая регрессия и линейный `SGD`-классификатор. Для каждой из них подобраны оптимальные гиперпараметры с помощью `RandomizedSearchCV`."
      ]
    },
    {
      "cell_type": "markdown",
      "metadata": {
        "id": "kW2lSR2kmuqe"
      },
      "source": [
        "## Выводы"
      ]
    },
    {
      "cell_type": "markdown",
      "metadata": {
        "id": "7il5DSdOmuqe"
      },
      "source": [
        "Благодаря внесенным улучшениям удалось достичь надежных значений `F1-score`. По результатам кросс-валидации была выбрана лучшая модель — логистическая регрессия, которая показала `F1-score` **0.7807** на тестовой выборке. Такой результат свидетельствует о высокой эффективности подхода к классификации токсичных комментариев. Правильная стратегия выбора модели позволила избежать утечки данных и сделать оценку более надежной."
      ]
    }
  ],
  "metadata": {
    "ExecuteTimeLog": [
      {
        "duration": 1306,
        "start_time": "2025-01-30T09:03:13.067Z"
      },
      {
        "duration": 10,
        "start_time": "2025-01-30T09:07:32.235Z"
      },
      {
        "duration": 76,
        "start_time": "2025-01-30T09:07:34.935Z"
      },
      {
        "duration": 5,
        "start_time": "2025-01-30T09:07:35.859Z"
      },
      {
        "duration": 13,
        "start_time": "2025-01-30T09:07:36.898Z"
      },
      {
        "duration": 71,
        "start_time": "2025-01-30T09:08:13.261Z"
      },
      {
        "duration": 4,
        "start_time": "2025-01-30T09:08:14.168Z"
      },
      {
        "duration": 3,
        "start_time": "2025-01-30T09:08:25.720Z"
      },
      {
        "duration": 5,
        "start_time": "2025-01-30T09:08:27.230Z"
      },
      {
        "duration": 97,
        "start_time": "2025-01-30T09:08:29.833Z"
      },
      {
        "duration": 80,
        "start_time": "2025-01-30T09:09:04.481Z"
      },
      {
        "duration": 4,
        "start_time": "2025-01-30T09:09:07.327Z"
      },
      {
        "duration": 1657,
        "start_time": "2025-01-30T09:09:10.809Z"
      },
      {
        "duration": 7022,
        "start_time": "2025-01-30T09:09:18.288Z"
      },
      {
        "duration": 64615,
        "start_time": "2025-01-30T09:09:43.300Z"
      },
      {
        "duration": 12,
        "start_time": "2025-01-30T09:14:46.763Z"
      },
      {
        "duration": 11,
        "start_time": "2025-01-30T09:15:03.275Z"
      },
      {
        "duration": 170,
        "start_time": "2025-01-30T09:15:06.386Z"
      },
      {
        "duration": 78059,
        "start_time": "2025-01-30T09:15:08.710Z"
      },
      {
        "duration": 1349,
        "start_time": "2025-01-30T09:33:30.531Z"
      },
      {
        "duration": 4,
        "start_time": "2025-01-30T09:33:31.882Z"
      },
      {
        "duration": 1602,
        "start_time": "2025-01-30T09:33:31.888Z"
      },
      {
        "duration": 78944,
        "start_time": "2025-01-30T09:33:33.491Z"
      },
      {
        "duration": 1248975,
        "start_time": "2025-01-30T09:34:52.437Z"
      },
      {
        "duration": 1180,
        "start_time": "2025-01-30T10:32:53.760Z"
      },
      {
        "duration": 5,
        "start_time": "2025-01-30T10:32:54.942Z"
      },
      {
        "duration": 1804,
        "start_time": "2025-01-30T10:32:54.948Z"
      },
      {
        "duration": 73255,
        "start_time": "2025-01-30T10:32:56.754Z"
      },
      {
        "duration": 372707,
        "start_time": "2025-01-30T10:34:10.011Z"
      },
      {
        "duration": 1451,
        "start_time": "2025-01-30T12:52:14.970Z"
      },
      {
        "duration": 5,
        "start_time": "2025-01-30T12:52:16.424Z"
      },
      {
        "duration": 1637,
        "start_time": "2025-01-30T12:52:16.912Z"
      },
      {
        "duration": 2834,
        "start_time": "2025-01-30T13:11:37.755Z"
      },
      {
        "duration": 4,
        "start_time": "2025-01-30T13:44:05.642Z"
      },
      {
        "duration": 24,
        "start_time": "2025-01-30T13:44:05.648Z"
      },
      {
        "duration": 1938,
        "start_time": "2025-01-30T13:44:05.674Z"
      },
      {
        "duration": 724,
        "start_time": "2025-01-30T13:44:07.614Z"
      },
      {
        "duration": 0,
        "start_time": "2025-01-30T13:44:08.340Z"
      },
      {
        "duration": 529,
        "start_time": "2025-01-30T13:44:55.073Z"
      },
      {
        "duration": 0,
        "start_time": "2025-01-30T13:44:55.603Z"
      },
      {
        "duration": 4013,
        "start_time": "2025-01-30T14:03:56.092Z"
      },
      {
        "duration": 5,
        "start_time": "2025-01-30T14:04:00.107Z"
      },
      {
        "duration": 1844,
        "start_time": "2025-01-30T14:04:00.114Z"
      },
      {
        "duration": 2323427,
        "start_time": "2025-01-30T14:04:01.959Z"
      },
      {
        "duration": 44,
        "start_time": "2025-01-30T14:42:45.389Z"
      },
      {
        "duration": 80,
        "start_time": "2025-01-30T14:42:45.435Z"
      },
      {
        "duration": 3927,
        "start_time": "2025-01-31T07:48:39.643Z"
      },
      {
        "duration": 5,
        "start_time": "2025-01-31T07:48:43.574Z"
      },
      {
        "duration": 1756,
        "start_time": "2025-01-31T07:48:43.581Z"
      },
      {
        "duration": 2176149,
        "start_time": "2025-01-31T07:48:45.338Z"
      },
      {
        "duration": 36,
        "start_time": "2025-01-31T08:25:01.490Z"
      },
      {
        "duration": 77,
        "start_time": "2025-01-31T08:25:01.528Z"
      },
      {
        "duration": 3,
        "start_time": "2025-01-31T08:25:01.607Z"
      },
      {
        "duration": 900709,
        "start_time": "2025-01-31T08:25:01.611Z"
      },
      {
        "duration": 1953,
        "start_time": "2025-01-31T08:40:02.322Z"
      },
      {
        "duration": 3,
        "start_time": "2025-01-31T09:05:46.675Z"
      },
      {
        "duration": 7,
        "start_time": "2025-01-31T09:05:46.680Z"
      },
      {
        "duration": 2556,
        "start_time": "2025-01-31T09:05:46.688Z"
      },
      {
        "duration": 2222504,
        "start_time": "2025-01-31T09:05:49.246Z"
      },
      {
        "duration": 44,
        "start_time": "2025-01-31T09:42:51.752Z"
      },
      {
        "duration": 100,
        "start_time": "2025-01-31T09:42:51.798Z"
      },
      {
        "duration": 3,
        "start_time": "2025-01-31T09:42:51.901Z"
      },
      {
        "duration": 1553714,
        "start_time": "2025-01-31T10:05:50.970Z"
      },
      {
        "duration": 11553,
        "start_time": "2025-01-31T12:13:37.453Z"
      },
      {
        "duration": 5,
        "start_time": "2025-01-31T12:13:49.008Z"
      },
      {
        "duration": 1834,
        "start_time": "2025-01-31T12:13:49.014Z"
      },
      {
        "duration": 2393975,
        "start_time": "2025-01-31T12:13:50.850Z"
      },
      {
        "duration": 35,
        "start_time": "2025-01-31T12:53:44.828Z"
      },
      {
        "duration": 71,
        "start_time": "2025-01-31T12:53:44.865Z"
      },
      {
        "duration": 3,
        "start_time": "2025-01-31T12:53:44.938Z"
      },
      {
        "duration": 878790,
        "start_time": "2025-01-31T12:53:44.942Z"
      },
      {
        "duration": 2208,
        "start_time": "2025-01-31T13:08:23.734Z"
      },
      {
        "duration": 1750215,
        "start_time": "2025-01-31T13:08:25.944Z"
      },
      {
        "duration": 8581,
        "start_time": "2025-02-01T07:58:26.544Z"
      },
      {
        "duration": 20372,
        "start_time": "2025-02-01T08:01:49.710Z"
      },
      {
        "duration": 4,
        "start_time": "2025-02-01T08:02:10.084Z"
      },
      {
        "duration": 1897,
        "start_time": "2025-02-01T08:02:10.089Z"
      },
      {
        "duration": 20,
        "start_time": "2025-02-01T08:05:01.475Z"
      },
      {
        "duration": 39,
        "start_time": "2025-02-01T08:05:01.497Z"
      },
      {
        "duration": 4062,
        "start_time": "2025-02-01T08:05:01.538Z"
      },
      {
        "duration": 5,
        "start_time": "2025-02-01T08:05:05.601Z"
      },
      {
        "duration": 2486,
        "start_time": "2025-02-01T08:08:58.367Z"
      },
      {
        "duration": 3093,
        "start_time": "2025-02-01T08:09:49.129Z"
      },
      {
        "duration": 4,
        "start_time": "2025-02-01T08:15:54.027Z"
      },
      {
        "duration": 8,
        "start_time": "2025-02-01T08:15:54.033Z"
      },
      {
        "duration": 1938,
        "start_time": "2025-02-01T08:15:54.042Z"
      },
      {
        "duration": 5,
        "start_time": "2025-02-01T08:15:55.982Z"
      },
      {
        "duration": 2329,
        "start_time": "2025-02-01T08:15:55.989Z"
      },
      {
        "duration": 0,
        "start_time": "2025-02-01T08:15:58.319Z"
      },
      {
        "duration": 0,
        "start_time": "2025-02-01T08:15:58.320Z"
      },
      {
        "duration": 0,
        "start_time": "2025-02-01T08:15:58.322Z"
      },
      {
        "duration": 0,
        "start_time": "2025-02-01T08:15:58.323Z"
      },
      {
        "duration": 0,
        "start_time": "2025-02-01T08:15:58.324Z"
      },
      {
        "duration": 0,
        "start_time": "2025-02-01T08:15:58.325Z"
      },
      {
        "duration": 0,
        "start_time": "2025-02-01T08:15:58.326Z"
      },
      {
        "duration": 17182,
        "start_time": "2025-02-01T08:16:10.568Z"
      },
      {
        "duration": 5,
        "start_time": "2025-02-01T08:16:27.752Z"
      },
      {
        "duration": 1859,
        "start_time": "2025-02-01T08:16:27.759Z"
      },
      {
        "duration": 7,
        "start_time": "2025-02-01T08:16:29.619Z"
      },
      {
        "duration": 381,
        "start_time": "2025-02-01T08:16:29.629Z"
      },
      {
        "duration": 0,
        "start_time": "2025-02-01T08:16:30.012Z"
      },
      {
        "duration": 0,
        "start_time": "2025-02-01T08:16:30.013Z"
      },
      {
        "duration": 0,
        "start_time": "2025-02-01T08:16:30.015Z"
      },
      {
        "duration": 0,
        "start_time": "2025-02-01T08:16:30.016Z"
      },
      {
        "duration": 0,
        "start_time": "2025-02-01T08:16:30.017Z"
      },
      {
        "duration": 0,
        "start_time": "2025-02-01T08:16:30.018Z"
      },
      {
        "duration": 0,
        "start_time": "2025-02-01T08:16:30.019Z"
      },
      {
        "duration": 16325,
        "start_time": "2025-02-01T08:24:40.972Z"
      },
      {
        "duration": 4,
        "start_time": "2025-02-01T08:24:57.301Z"
      },
      {
        "duration": 2536,
        "start_time": "2025-02-01T08:24:57.307Z"
      },
      {
        "duration": 4,
        "start_time": "2025-02-01T08:24:59.845Z"
      },
      {
        "duration": 683329,
        "start_time": "2025-02-01T08:24:59.851Z"
      },
      {
        "duration": 47,
        "start_time": "2025-02-01T08:36:23.182Z"
      },
      {
        "duration": 71,
        "start_time": "2025-02-01T08:36:23.231Z"
      },
      {
        "duration": 4,
        "start_time": "2025-02-01T08:36:23.303Z"
      },
      {
        "duration": 1098700,
        "start_time": "2025-02-01T08:36:23.309Z"
      },
      {
        "duration": 11511,
        "start_time": "2025-02-01T10:10:01.538Z"
      },
      {
        "duration": 5,
        "start_time": "2025-02-01T10:10:13.052Z"
      },
      {
        "duration": 4674,
        "start_time": "2025-02-01T10:10:13.059Z"
      },
      {
        "duration": 7,
        "start_time": "2025-02-01T10:10:17.735Z"
      },
      {
        "duration": 666322,
        "start_time": "2025-02-01T10:10:17.744Z"
      },
      {
        "duration": 55,
        "start_time": "2025-02-01T10:21:24.069Z"
      },
      {
        "duration": 77,
        "start_time": "2025-02-01T10:21:24.126Z"
      },
      {
        "duration": 5,
        "start_time": "2025-02-01T10:21:24.205Z"
      },
      {
        "duration": 1104993,
        "start_time": "2025-02-01T10:21:24.212Z"
      },
      {
        "duration": 14575,
        "start_time": "2025-02-01T14:41:40.450Z"
      },
      {
        "duration": 5,
        "start_time": "2025-02-01T14:41:55.027Z"
      },
      {
        "duration": 2904,
        "start_time": "2025-02-01T14:41:55.035Z"
      },
      {
        "duration": 4,
        "start_time": "2025-02-01T14:41:57.942Z"
      },
      {
        "duration": 682859,
        "start_time": "2025-02-01T14:41:57.948Z"
      },
      {
        "duration": 35,
        "start_time": "2025-02-01T14:53:20.809Z"
      },
      {
        "duration": 77,
        "start_time": "2025-02-01T14:53:20.846Z"
      },
      {
        "duration": 4,
        "start_time": "2025-02-01T14:53:20.925Z"
      },
      {
        "duration": 1119579,
        "start_time": "2025-02-01T14:53:20.930Z"
      },
      {
        "duration": 4047,
        "start_time": "2025-02-02T10:07:01.904Z"
      },
      {
        "duration": 5,
        "start_time": "2025-02-02T10:07:05.953Z"
      },
      {
        "duration": 2053,
        "start_time": "2025-02-02T10:07:05.960Z"
      },
      {
        "duration": 6,
        "start_time": "2025-02-02T10:07:08.015Z"
      },
      {
        "duration": 680107,
        "start_time": "2025-02-02T10:07:08.023Z"
      },
      {
        "duration": 34,
        "start_time": "2025-02-02T10:18:28.132Z"
      },
      {
        "duration": 75,
        "start_time": "2025-02-02T10:18:28.168Z"
      },
      {
        "duration": 4,
        "start_time": "2025-02-02T10:18:28.245Z"
      },
      {
        "duration": 965553,
        "start_time": "2025-02-02T10:18:28.250Z"
      },
      {
        "duration": 257340,
        "start_time": "2025-02-02T10:34:33.805Z"
      },
      {
        "duration": 4,
        "start_time": "2025-02-02T10:38:51.146Z"
      },
      {
        "duration": 101585,
        "start_time": "2025-02-02T10:38:51.151Z"
      }
    ],
    "kernelspec": {
      "display_name": "Python 3 (ipykernel)",
      "language": "python",
      "name": "python3"
    },
    "language_info": {
      "codemirror_mode": {
        "name": "ipython",
        "version": 3
      },
      "file_extension": ".py",
      "mimetype": "text/x-python",
      "name": "python",
      "nbconvert_exporter": "python",
      "pygments_lexer": "ipython3",
      "version": "3.9.5"
    },
    "toc": {
      "base_numbering": 1,
      "nav_menu": {},
      "number_sections": true,
      "sideBar": true,
      "skip_h1_title": true,
      "title_cell": "Содержание",
      "title_sidebar": "Contents",
      "toc_cell": true,
      "toc_position": {
        "height": "calc(100% - 180px)",
        "left": "10px",
        "top": "150px",
        "width": "302.391px"
      },
      "toc_section_display": true,
      "toc_window_display": false
    },
    "colab": {
      "provenance": [],
      "toc_visible": true
    }
  },
  "nbformat": 4,
  "nbformat_minor": 0
}